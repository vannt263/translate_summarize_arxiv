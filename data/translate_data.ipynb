{
 "cells": [
  {
   "cell_type": "code",
   "execution_count": 5,
   "metadata": {},
   "outputs": [
    {
     "name": "stdout",
     "output_type": "stream",
     "text": [
      "Requirement already satisfied: translators in c:\\users\\vannt\\appdata\\local\\programs\\python\\python311\\lib\\site-packages (5.8.9)\n",
      "Requirement already satisfied: requests>=2.29.0 in c:\\users\\vannt\\appdata\\local\\programs\\python\\python311\\lib\\site-packages (from translators) (2.31.0)\n",
      "Requirement already satisfied: PyExecJS>=1.5.1 in c:\\users\\vannt\\appdata\\local\\programs\\python\\python311\\lib\\site-packages (from translators) (1.5.1)\n",
      "Requirement already satisfied: lxml>=4.9.1 in c:\\users\\vannt\\appdata\\local\\programs\\python\\python311\\lib\\site-packages (from translators) (4.9.3)\n",
      "Requirement already satisfied: tqdm>=4.65.0 in c:\\users\\vannt\\appdata\\local\\programs\\python\\python311\\lib\\site-packages (from translators) (4.66.1)\n",
      "Requirement already satisfied: pathos>=0.2.9 in c:\\users\\vannt\\appdata\\local\\programs\\python\\python311\\lib\\site-packages (from translators) (0.3.1)\n",
      "Requirement already satisfied: cryptography>=38.0.1 in c:\\users\\vannt\\appdata\\local\\programs\\python\\python311\\lib\\site-packages (from translators) (41.0.5)\n",
      "Requirement already satisfied: cffi>=1.12 in c:\\users\\vannt\\appdata\\local\\programs\\python\\python311\\lib\\site-packages (from cryptography>=38.0.1->translators) (1.16.0)\n",
      "Requirement already satisfied: ppft>=1.7.6.7 in c:\\users\\vannt\\appdata\\local\\programs\\python\\python311\\lib\\site-packages (from pathos>=0.2.9->translators) (1.7.6.7)\n",
      "Requirement already satisfied: dill>=0.3.7 in c:\\users\\vannt\\appdata\\local\\programs\\python\\python311\\lib\\site-packages (from pathos>=0.2.9->translators) (0.3.7)\n",
      "Requirement already satisfied: pox>=0.3.3 in c:\\users\\vannt\\appdata\\local\\programs\\python\\python311\\lib\\site-packages (from pathos>=0.2.9->translators) (0.3.3)\n",
      "Requirement already satisfied: multiprocess>=0.70.15 in c:\\users\\vannt\\appdata\\local\\programs\\python\\python311\\lib\\site-packages (from pathos>=0.2.9->translators) (0.70.15)\n",
      "Requirement already satisfied: six>=1.10.0 in c:\\users\\vannt\\appdata\\roaming\\python\\python311\\site-packages (from PyExecJS>=1.5.1->translators) (1.16.0)\n",
      "Requirement already satisfied: charset-normalizer<4,>=2 in c:\\users\\vannt\\appdata\\local\\programs\\python\\python311\\lib\\site-packages (from requests>=2.29.0->translators) (3.2.0)\n",
      "Requirement already satisfied: idna<4,>=2.5 in c:\\users\\vannt\\appdata\\local\\programs\\python\\python311\\lib\\site-packages (from requests>=2.29.0->translators) (2.10)\n",
      "Requirement already satisfied: urllib3<3,>=1.21.1 in c:\\users\\vannt\\appdata\\local\\programs\\python\\python311\\lib\\site-packages (from requests>=2.29.0->translators) (1.26.16)\n",
      "Requirement already satisfied: certifi>=2017.4.17 in c:\\users\\vannt\\appdata\\local\\programs\\python\\python311\\lib\\site-packages (from requests>=2.29.0->translators) (2023.7.22)\n",
      "Requirement already satisfied: colorama in c:\\users\\vannt\\appdata\\roaming\\python\\python311\\site-packages (from tqdm>=4.65.0->translators) (0.4.6)\n",
      "Requirement already satisfied: pycparser in c:\\users\\vannt\\appdata\\local\\programs\\python\\python311\\lib\\site-packages (from cffi>=1.12->cryptography>=38.0.1->translators) (2.21)\n"
     ]
    },
    {
     "name": "stderr",
     "output_type": "stream",
     "text": [
      "DEPRECATION: Loading egg at c:\\users\\vannt\\appdata\\local\\programs\\python\\python311\\lib\\site-packages\\segmentizer-0.0.0-py3.11.egg is deprecated. pip 24.3 will enforce this behaviour change. A possible replacement is to use pip for package installation.. Discussion can be found at https://github.com/pypa/pip/issues/12330\n"
     ]
    }
   ],
   "source": [
    "!pip install translators"
   ]
  },
  {
   "cell_type": "code",
   "execution_count": 7,
   "metadata": {},
   "outputs": [
    {
     "ename": "AttributeError",
     "evalue": "module 'translators' has no attribute 'google'",
     "output_type": "error",
     "traceback": [
      "\u001b[1;31m---------------------------------------------------------------------------\u001b[0m",
      "\u001b[1;31mAttributeError\u001b[0m                            Traceback (most recent call last)",
      "\u001b[1;32md:\\study\\nlp\\translate_summarize_arxiv\\data\\translate_data.ipynb Cell 2\u001b[0m line \u001b[0;36m7\n\u001b[0;32m      <a href='vscode-notebook-cell:/d%3A/study/nlp/translate_summarize_arxiv/data/translate_data.ipynb#W1sZmlsZQ%3D%3D?line=3'>4</a>\u001b[0m text_to_translate \u001b[39m=\u001b[39m \u001b[39m\"\u001b[39m\u001b[39mHello, this is an example of language translation using the Google Translate service.\u001b[39m\u001b[39m\"\u001b[39m\n\u001b[0;32m      <a href='vscode-notebook-cell:/d%3A/study/nlp/translate_summarize_arxiv/data/translate_data.ipynb#W1sZmlsZQ%3D%3D?line=5'>6</a>\u001b[0m \u001b[39m# Dịch văn bản từ tiếng Anh sang tiếng Việt\u001b[39;00m\n\u001b[1;32m----> <a href='vscode-notebook-cell:/d%3A/study/nlp/translate_summarize_arxiv/data/translate_data.ipynb#W1sZmlsZQ%3D%3D?line=6'>7</a>\u001b[0m translated_text \u001b[39m=\u001b[39m ts\u001b[39m.\u001b[39;49mgoogle(text_to_translate, to_language\u001b[39m=\u001b[39m\u001b[39m'\u001b[39m\u001b[39mvi\u001b[39m\u001b[39m'\u001b[39m)\n\u001b[0;32m      <a href='vscode-notebook-cell:/d%3A/study/nlp/translate_summarize_arxiv/data/translate_data.ipynb#W1sZmlsZQ%3D%3D?line=8'>9</a>\u001b[0m \u001b[39m# In ra kết quả\u001b[39;00m\n\u001b[0;32m     <a href='vscode-notebook-cell:/d%3A/study/nlp/translate_summarize_arxiv/data/translate_data.ipynb#W1sZmlsZQ%3D%3D?line=9'>10</a>\u001b[0m \u001b[39mprint\u001b[39m(\u001b[39mf\u001b[39m\u001b[39m\"\u001b[39m\u001b[39mOriginal Text: \u001b[39m\u001b[39m{\u001b[39;00mtext_to_translate\u001b[39m}\u001b[39;00m\u001b[39m\"\u001b[39m)\n",
      "\u001b[1;31mAttributeError\u001b[0m: module 'translators' has no attribute 'google'"
     ]
    }
   ],
   "source": [
    "import translators as ts\n",
    "\n",
    "# Đoạn văn bản cần dịch\n",
    "text_to_translate = \"Hello, this is an example of language translation using the Google Translate service.\"\n",
    "\n",
    "# Dịch văn bản từ tiếng Anh sang tiếng Việt\n",
    "translated_text = ts.google(text_to_translate, to_language='vi')\n",
    "\n",
    "# In ra kết quả\n",
    "print(f\"Original Text: {text_to_translate}\")\n",
    "print(f\"Translated Text (Vietnamese): {translated_text}\")"
   ]
  }
 ],
 "metadata": {
  "kernelspec": {
   "display_name": "Python 3",
   "language": "python",
   "name": "python3"
  },
  "language_info": {
   "codemirror_mode": {
    "name": "ipython",
    "version": 3
   },
   "file_extension": ".py",
   "mimetype": "text/x-python",
   "name": "python",
   "nbconvert_exporter": "python",
   "pygments_lexer": "ipython3",
   "version": "3.11.5"
  }
 },
 "nbformat": 4,
 "nbformat_minor": 2
}
