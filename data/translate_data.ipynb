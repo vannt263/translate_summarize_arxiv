{
 "cells": [
  {
   "cell_type": "code",
   "execution_count": 7,
   "metadata": {},
   "outputs": [
    {
     "ename": "AttributeError",
     "evalue": "module 'translators' has no attribute 'google'",
     "output_type": "error",
     "traceback": [
      "\u001b[1;31m---------------------------------------------------------------------------\u001b[0m",
      "\u001b[1;31mAttributeError\u001b[0m                            Traceback (most recent call last)",
      "\u001b[1;32md:\\study\\nlp\\translate_summarize_arxiv\\data\\translate_data.ipynb Cell 2\u001b[0m line \u001b[0;36m7\n\u001b[0;32m      <a href='vscode-notebook-cell:/d%3A/study/nlp/translate_summarize_arxiv/data/translate_data.ipynb#W1sZmlsZQ%3D%3D?line=3'>4</a>\u001b[0m text_to_translate \u001b[39m=\u001b[39m \u001b[39m\"\u001b[39m\u001b[39mHello, this is an example of language translation using the Google Translate service.\u001b[39m\u001b[39m\"\u001b[39m\n\u001b[0;32m      <a href='vscode-notebook-cell:/d%3A/study/nlp/translate_summarize_arxiv/data/translate_data.ipynb#W1sZmlsZQ%3D%3D?line=5'>6</a>\u001b[0m \u001b[39m# Dịch văn bản từ tiếng Anh sang tiếng Việt\u001b[39;00m\n\u001b[1;32m----> <a href='vscode-notebook-cell:/d%3A/study/nlp/translate_summarize_arxiv/data/translate_data.ipynb#W1sZmlsZQ%3D%3D?line=6'>7</a>\u001b[0m translated_text \u001b[39m=\u001b[39m ts\u001b[39m.\u001b[39;49mgoogle(text_to_translate, to_language\u001b[39m=\u001b[39m\u001b[39m'\u001b[39m\u001b[39mvi\u001b[39m\u001b[39m'\u001b[39m)\n\u001b[0;32m      <a href='vscode-notebook-cell:/d%3A/study/nlp/translate_summarize_arxiv/data/translate_data.ipynb#W1sZmlsZQ%3D%3D?line=8'>9</a>\u001b[0m \u001b[39m# In ra kết quả\u001b[39;00m\n\u001b[0;32m     <a href='vscode-notebook-cell:/d%3A/study/nlp/translate_summarize_arxiv/data/translate_data.ipynb#W1sZmlsZQ%3D%3D?line=9'>10</a>\u001b[0m \u001b[39mprint\u001b[39m(\u001b[39mf\u001b[39m\u001b[39m\"\u001b[39m\u001b[39mOriginal Text: \u001b[39m\u001b[39m{\u001b[39;00mtext_to_translate\u001b[39m}\u001b[39;00m\u001b[39m\"\u001b[39m)\n",
      "\u001b[1;31mAttributeError\u001b[0m: module 'translators' has no attribute 'google'"
     ]
    }
   ],
   "source": [
    "import translators as ts\n",
    "\n",
    "# Đoạn văn bản cần dịch\n",
    "text_to_translate = \"Hello, this is an example of language translation using the Google Translate service.\"\n",
    "\n",
    "# Dịch văn bản từ tiếng Anh sang tiếng Việt\n",
    "translated_text = ts.google(text_to_translate, to_language='vi')\n",
    "\n",
    "# In ra kết quả\n",
    "print(f\"Original Text: {text_to_translate}\")\n",
    "print(f\"Translated Text (Vietnamese): {translated_text}\")"
   ]
  },
  {
   "cell_type": "code",
   "execution_count": 18,
   "metadata": {},
   "outputs": [
    {
     "name": "stdout",
     "output_type": "stream",
     "text": [
      "Biểu diễn liên tục của vật chất được sử dụng rộng rãi trong động lực học vật liệu trong khoa học và kỹ thuật. Mô phỏng động lực học liên tục phân giải không gian là phổ biến và quen thuộc nhất, giải quyết các vấn đề ban đầu bằng các miền không gian rời rạc và các phương trình động lực tích phân thời gian thực để dự đoán chuyển động và biến dạng của các thành phần của hệ thống. Ví dụ, loại mô phỏng này được sử dụng để nghiên cứu các vấn đề tác động siêu nhanh, chẳng hạn như tính dễ bị tổn thương của áo giáp đối với đạn pháo @ xcite, hiệu suất của lá chắn mảnh vỡ vệ tinh @ xcite và tác động của thiên thạch với các hành tinh, đặc biệt là Mặt trăng @ xcite. Vấn đề này có thể được chia thành các phương trình động học của một liên tục, trường trạng thái của thành phần @xmath0 và các tính chất vốn có của vật liệu. Cho trạng thái vật liệu cục bộ @ xmath1, đặc tính vật liệu cho phép xác định ứng suất @ xmath2\n"
     ]
    }
   ],
   "source": [
    "import translators as ts\n",
    "\n",
    "q_text = 'the continuum representation of matter is widely used for material dynamics in science and engineering ., spatially - resolved continuum dynamics simulations are the most widespread and familiar , solving the initial value problem by discretizing the spatial domain and integrating the dynamical equations forward in time to predict the motion and deformation of components of the system ., this type of simulation is used , for instance , to study hypervelocity impact problems such as the vulnerability of armor to projectiles @xcite , the performance of satellite debris shields @xcite , and the impact of meteorites with planets , notably the formation of the moon @xcite .,the problem can be divided into the dynamical equations of the continuum , the state field of the components @xmath0 , and the inherent properties of the materials ., given the local material state @xmath1 , the material properties allow the stress @xmath2 to be determined'\n",
    "q_html = '''<!DOCTYPE html><html><head><title>《季姬击鸡记》</title></head><body><p>还有另一篇文章《施氏食狮史》。</p></body></html>'''\n",
    "\n",
    "### usage\n",
    "# _ = ts.preaccelerate_and_speedtest()  # Optional. Caching sessions in advance, which can help improve access speed.\n",
    "\n",
    "# print(ts.translators_pool)\n",
    "print(ts.translate_text(q_text, translator='baidu', to_language='vie'))\n",
    "# print(ts.translate_html(q_html))"
   ]
  },
  {
   "cell_type": "code",
   "execution_count": 4,
   "metadata": {},
   "outputs": [
    {
     "ename": "TypeError",
     "evalue": "'NoneType' object is not subscriptable",
     "output_type": "error",
     "traceback": [
      "\u001b[1;31m---------------------------------------------------------------------------\u001b[0m",
      "\u001b[1;31mTypeError\u001b[0m                                 Traceback (most recent call last)",
      "\u001b[1;32md:\\study\\nlp\\translate_summarize_arxiv\\data\\translate_data.ipynb Cell 3\u001b[0m line \u001b[0;36m6\n\u001b[0;32m      <a href='vscode-notebook-cell:/d%3A/study/nlp/translate_summarize_arxiv/data/translate_data.ipynb#W2sZmlsZQ%3D%3D?line=2'>3</a>\u001b[0m q_text \u001b[39m=\u001b[39m \u001b[39m'\u001b[39m\u001b[39mthe continuum representation of matter is widely used for material dynamics in science and engineering ., spatially - resolved continuum dynamics simulations are the most widespread and familiar , solving the initial value problem by discretizing the spatial domain and integrating the dynamical equations forward in time to predict the motion and deformation of components of the system ., this type of simulation is used , for instance , to study hypervelocity impact problems such as the vulnerability of armor to projectiles @xcite , the performance of satellite debris shields @xcite , and the impact of meteorites with planets , notably the formation of the moon @xcite .,the problem can be divided into the dynamical equations of the continuum , the state field of the components @xmath0 , and the inherent properties of the materials ., given the local material state @xmath1 , the material properties allow the stress @xmath2 to be determined\u001b[39m\u001b[39m'\u001b[39m\n\u001b[0;32m      <a href='vscode-notebook-cell:/d%3A/study/nlp/translate_summarize_arxiv/data/translate_data.ipynb#W2sZmlsZQ%3D%3D?line=4'>5</a>\u001b[0m \u001b[39m# Dịch văn bản\u001b[39;00m\n\u001b[1;32m----> <a href='vscode-notebook-cell:/d%3A/study/nlp/translate_summarize_arxiv/data/translate_data.ipynb#W2sZmlsZQ%3D%3D?line=5'>6</a>\u001b[0m translated_text \u001b[39m=\u001b[39m ts\u001b[39m.\u001b[39;49mtranslate_text(q_text, translator\u001b[39m=\u001b[39;49m\u001b[39m\"\u001b[39;49m\u001b[39malibaba\u001b[39;49m\u001b[39m\"\u001b[39;49m, to_language\u001b[39m=\u001b[39;49m\u001b[39m'\u001b[39;49m\u001b[39mvi\u001b[39;49m\u001b[39m'\u001b[39;49m)\n\u001b[0;32m      <a href='vscode-notebook-cell:/d%3A/study/nlp/translate_summarize_arxiv/data/translate_data.ipynb#W2sZmlsZQ%3D%3D?line=6'>7</a>\u001b[0m \u001b[39mprint\u001b[39m(\u001b[39mf\u001b[39m\u001b[39m\"\u001b[39m\u001b[39mTranslated Text: \u001b[39m\u001b[39m{\u001b[39;00mtranslated_text\u001b[39m}\u001b[39;00m\u001b[39m\"\u001b[39m)\n\u001b[0;32m      <a href='vscode-notebook-cell:/d%3A/study/nlp/translate_summarize_arxiv/data/translate_data.ipynb#W2sZmlsZQ%3D%3D?line=8'>9</a>\u001b[0m \u001b[39m# # Dịch HTML\u001b[39;00m\n\u001b[0;32m     <a href='vscode-notebook-cell:/d%3A/study/nlp/translate_summarize_arxiv/data/translate_data.ipynb#W2sZmlsZQ%3D%3D?line=9'>10</a>\u001b[0m \u001b[39m# translated_html = ts.translate_html(q_html, translator='google')\u001b[39;00m\n\u001b[0;32m     <a href='vscode-notebook-cell:/d%3A/study/nlp/translate_summarize_arxiv/data/translate_data.ipynb#W2sZmlsZQ%3D%3D?line=10'>11</a>\u001b[0m \u001b[39m# print(f\"Translated HTML: {translated_html}\")\u001b[39;00m\n",
      "File \u001b[1;32mc:\\Users\\vannt\\AppData\\Local\\Programs\\Python\\Python311\\Lib\\site-packages\\translators\\server.py:5312\u001b[0m, in \u001b[0;36mTranslatorsServer.translate_text\u001b[1;34m(self, query_text, translator, from_language, to_language, if_use_preacceleration, **kwargs)\u001b[0m\n\u001b[0;32m   5309\u001b[0m \u001b[39mif\u001b[39;00m \u001b[39mnot\u001b[39;00m \u001b[39mself\u001b[39m\u001b[39m.\u001b[39mpre_acceleration_label \u001b[39mand\u001b[39;00m if_use_preacceleration:\n\u001b[0;32m   5310\u001b[0m     _ \u001b[39m=\u001b[39m \u001b[39mself\u001b[39m\u001b[39m.\u001b[39mpreaccelerate()\n\u001b[1;32m-> 5312\u001b[0m \u001b[39mreturn\u001b[39;00m \u001b[39mself\u001b[39;49m\u001b[39m.\u001b[39;49mtranslators_dict[translator](query_text\u001b[39m=\u001b[39;49mquery_text, from_language\u001b[39m=\u001b[39;49mfrom_language, to_language\u001b[39m=\u001b[39;49mto_language, \u001b[39m*\u001b[39;49m\u001b[39m*\u001b[39;49mkwargs)\n",
      "File \u001b[1;32mc:\\Users\\vannt\\AppData\\Local\\Programs\\Python\\Python311\\Lib\\site-packages\\translators\\server.py:104\u001b[0m, in \u001b[0;36mTse.time_stat.<locals>._wrapper\u001b[1;34m(*args, **kwargs)\u001b[0m\n\u001b[0;32m    102\u001b[0m     sys\u001b[39m.\u001b[39mstderr\u001b[39m.\u001b[39mwrite(\u001b[39mf\u001b[39m\u001b[39m'\u001b[39m\u001b[39mTimeSpent(function: \u001b[39m\u001b[39m{\u001b[39;00mfunc\u001b[39m.\u001b[39m\u001b[39m__name__\u001b[39m[:\u001b[39m-\u001b[39m\u001b[39m4\u001b[39m]\u001b[39m}\u001b[39;00m\u001b[39m): \u001b[39m\u001b[39m{\u001b[39;00mcost_time\u001b[39m}\u001b[39;00m\u001b[39ms\u001b[39m\u001b[39m\\n\u001b[39;00m\u001b[39m'\u001b[39m)\n\u001b[0;32m    103\u001b[0m     \u001b[39mreturn\u001b[39;00m result\n\u001b[1;32m--> 104\u001b[0m \u001b[39mreturn\u001b[39;00m func(\u001b[39m*\u001b[39;49margs, \u001b[39m*\u001b[39;49m\u001b[39m*\u001b[39;49mkwargs)\n",
      "File \u001b[1;32mc:\\Users\\vannt\\AppData\\Local\\Programs\\Python\\Python311\\Lib\\site-packages\\translators\\server.py:273\u001b[0m, in \u001b[0;36mTse.check_query.<locals>._wrapper\u001b[1;34m(*args, **kwargs)\u001b[0m\n\u001b[0;32m    271\u001b[0m     new_args[\u001b[39m1\u001b[39m] \u001b[39m=\u001b[39m query_text\n\u001b[0;32m    272\u001b[0m     \u001b[39mreturn\u001b[39;00m func(\u001b[39m*\u001b[39m\u001b[39mtuple\u001b[39m(new_args), \u001b[39m*\u001b[39m\u001b[39m*\u001b[39mkwargs)\n\u001b[1;32m--> 273\u001b[0m \u001b[39mreturn\u001b[39;00m func(\u001b[39m*\u001b[39;49margs, \u001b[39m*\u001b[39;49m\u001b[39m*\u001b[39;49m{\u001b[39m*\u001b[39;49m\u001b[39m*\u001b[39;49mkwargs, \u001b[39m*\u001b[39;49m\u001b[39m*\u001b[39;49m{\u001b[39m'\u001b[39;49m\u001b[39mquery_text\u001b[39;49m\u001b[39m'\u001b[39;49m: query_text}})\n",
      "File \u001b[1;32mc:\\Users\\vannt\\AppData\\Local\\Programs\\Python\\Python311\\Lib\\site-packages\\translators\\server.py:1629\u001b[0m, in \u001b[0;36mAlibabaV2.alibaba_api\u001b[1;34m(self, query_text, from_language, to_language, **kwargs)\u001b[0m\n\u001b[0;32m   1627\u001b[0m time\u001b[39m.\u001b[39msleep(sleep_seconds)\n\u001b[0;32m   1628\u001b[0m \u001b[39mself\u001b[39m\u001b[39m.\u001b[39mquery_count \u001b[39m+\u001b[39m\u001b[39m=\u001b[39m \u001b[39m1\u001b[39m\n\u001b[1;32m-> 1629\u001b[0m \u001b[39mreturn\u001b[39;00m data \u001b[39mif\u001b[39;00m is_detail_result \u001b[39melse\u001b[39;00m data[\u001b[39m'\u001b[39;49m\u001b[39mdata\u001b[39;49m\u001b[39m'\u001b[39;49m][\u001b[39m'\u001b[39;49m\u001b[39mtranslateText\u001b[39;49m\u001b[39m'\u001b[39;49m]\n",
      "\u001b[1;31mTypeError\u001b[0m: 'NoneType' object is not subscriptable"
     ]
    }
   ],
   "source": [
    "import translators as ts\n",
    "\n",
    "q_text = 'the continuum representation of matter is widely used for material dynamics in science and engineering ., spatially - resolved continuum dynamics simulations are the most widespread and familiar , solving the initial value problem by discretizing the spatial domain and integrating the dynamical equations forward in time to predict the motion and deformation of components of the system ., this type of simulation is used , for instance , to study hypervelocity impact problems such as the vulnerability of armor to projectiles @xcite , the performance of satellite debris shields @xcite , and the impact of meteorites with planets , notably the formation of the moon @xcite .,the problem can be divided into the dynamical equations of the continuum , the state field of the components @xmath0 , and the inherent properties of the materials ., given the local material state @xmath1 , the material properties allow the stress @xmath2 to be determined'\n",
    "\n",
    "# Dịch văn bản\n",
    "translated_text = ts.translate_text(q_text, translator=\"bing\", to_language='vi')\n",
    "print(f\"Translated Text: {translated_text}\")\n",
    "\n",
    "# # Dịch HTML\n",
    "# translated_html = ts.translate_html(q_html, translator='google')\n",
    "# print(f\"Translated HTML: {translated_html}\")"
   ]
  }
 ],
 "metadata": {
  "kernelspec": {
   "display_name": "Python 3",
   "language": "python",
   "name": "python3"
  },
  "language_info": {
   "codemirror_mode": {
    "name": "ipython",
    "version": 3
   },
   "file_extension": ".py",
   "mimetype": "text/x-python",
   "name": "python",
   "nbconvert_exporter": "python",
   "pygments_lexer": "ipython3",
   "version": "3.11.5"
  }
 },
 "nbformat": 4,
 "nbformat_minor": 2
}
