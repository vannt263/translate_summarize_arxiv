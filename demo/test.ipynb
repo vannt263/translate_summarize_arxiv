{
 "cells": [
  {
   "cell_type": "code",
   "execution_count": 15,
   "metadata": {},
   "outputs": [],
   "source": [
    "import re\n",
    "import requests\n",
    "from bs4 import BeautifulSoup"
   ]
  },
  {
   "cell_type": "code",
   "execution_count": 16,
   "metadata": {},
   "outputs": [],
   "source": [
    "import spacy\n",
    "# Tải mô hình ngôn ngữ tiếng Anh từ spaCy\n",
    "nlp = spacy.load(\"en_core_web_lg\")"
   ]
  },
  {
   "cell_type": "code",
   "execution_count": 13,
   "metadata": {},
   "outputs": [],
   "source": [
    "def extract_text(url, news_name):\n",
    "    result = \"\"\n",
    "    try:\n",
    "        response =requests.get(url)\n",
    "        response.raise_for_status()  # Trả ra ngoại lệ nếu gặp lỗi.\n",
    "        html_content = response.text # Lấy nội dung HTML phản hồi.\n",
    "    except requests.exceptions.RequestException as e:\n",
    "        print(f\"Error: {e}\")\n",
    "        return None\n",
    "\n",
    "    soup = BeautifulSoup(html_content, 'html.parser')\n",
    "    if news_name == \"CNN\": # Nội dung bài báo của CNN được lưu trong các thẻ <p> trong thẻ <main>\n",
    "        main_content = soup.find('main')\n",
    "        if main_content:\n",
    "            paragraphs = main_content.find_all('p')\n",
    "            for p in paragraphs:\n",
    "                result += p.get_text()\n",
    "            return result\n",
    "        else:\n",
    "            print(\"Can't extract text from this news\")\n",
    "            return None\n",
    "        \n",
    "    elif news_name == \"DailMail\": # Nội dung bài báo của Daily Mail được lưu trong thẻ <div itemprop='articleBody'>\n",
    "        article_body = soup.find('div', {'itemprop': 'articleBody'})\n",
    "        if article_body:\n",
    "            paragraphs = article_body.find_all('p')\n",
    "            for p in paragraphs:\n",
    "                result += p.get_text()\n",
    "            return result\n",
    "        else:\n",
    "            print(\"Can't extract text from this news\")\n",
    "            return None"
   ]
  },
  {
   "cell_type": "code",
   "execution_count": 17,
   "metadata": {},
   "outputs": [],
   "source": [
    "# Biểu thức chính quy để xác định các ký tự đặc biệt nằm giữa hai số\n",
    "pattern = r'(?<!\\d)[^\\w\\s%](?!\\d)'\n",
    "\n",
    "def preprocessing(sentence):\n",
    "    doc = nlp(sentence)\n",
    "    lemmatized_text = \" \".join([token.lemma_ for token in doc]).lower().strip()\n",
    "\n",
    "    # Xóa các ký tự đặc biệt không thuộc trường hợp đã nêu\n",
    "    lemmatized_text = re.sub(fr'(?<!\\d)[^a-zA-Z0-9\\s]|[^a-zA-Z0-9\\s%](?!\\d)|{pattern}', '', lemmatized_text)\n",
    "    lemmatized_text = re.sub(r'\\s+', ' ', lemmatized_text)\n",
    "\n",
    "    return lemmatized_text"
   ]
  },
  {
   "cell_type": "code",
   "execution_count": 18,
   "metadata": {},
   "outputs": [
    {
     "name": "stdout",
     "output_type": "stream",
     "text": [
      "Nội dung HTML:\n",
      "\n",
      "      Before the war between Israel and Hamas took over virtually all of the international community’s attention, the Russian invasion of Ukraine was the most pressing crisis diplomats were seeking to solve.\n",
      "  \n",
      "      In Brussels, this week had been slated as a big moment for the Europification of Ukraine, as EU member states meet for their final council summit of the year to green light both more funding for Kyiv and, finally, the opening of negotiations for Ukrainian membership of the bloc.\n",
      "  \n",
      "      All of that has been thrown into question by one member state: Hungary.\n",
      "  \n",
      "      Hungary’s populist PM Viktor Orban has been Western Europe’s number one problem child for some time. Even before the war in Ukraine, Hungary had form for holding the rest of the EU to ransom. Most of the big decisions made by Brussels require unanimous approval from all 27 member states. This means that every member state effectively has a veto it can use to block core EU policy, like sending billions of euros to a war-torn country or letting a country into the club.\n",
      "  \n",
      "      In theory, this veto should only be used if a member state has an actual objection to flagship EU policy, but it has increasingly become used as a tool for political leaders to get things they want in other areas. In the case of Orban, it’s usually to secure the release of central EU funds that are being withheld from Hungary by Brussels for its various indiscretions – like undercutting the rule of law or playing fast and loose with EU fundamental rights for LGBT+ citizens.\n",
      "  \n",
      "      That appears to be the case this week, as EU diplomats and officials spent the early part of the week negotiating the release of billions of euros that had been frozen because of corruption and rule of law concerns.\n",
      "  \n",
      "      It’s likely that this issue will be resolved to some extent and that the EU will be able to end the week with a press conference celebrating its continued support for Ukraine and its path to join the bloc.\n",
      "  \n",
      "Ukraine faces a daunting winter after Zelensky can’t convince Republicans to move quickly on new aid\n",
      "\n",
      "      But for some Ukrainian and Western officials working closely with Kyiv, the episode is just the latest bit of evidence that the thing they feared most is finally happening: Ukraine fatigue.\n",
      "  \n",
      "      A senior adviser to Ukrainian President Volodymyr Zelenskyy told CNN that because in the eyes of Ukraine joining the EU is directly tied to NATO membership, any hesitation from its European allies are “bad signals that will encourage Russia to plow on.”\n",
      "  \n",
      "      A senior NATO official working directly with Ukraine told CNN that this is part of of a longer-term trend toward the worst outcome: the West losing focus on Ukraine.\n",
      "  \n",
      "      For more evidence of this you only have to look at the debates happening in Washington right now regarding funding for Ukraine. You only have to imagine how those debates will evolve in the looming presidential election year. In the world of zero-sum political gains, what is bad for Ukraine is good for Russia and Russian officials know it.\n",
      "  \n",
      "      By the end of the week, the EU will no doubt have something positive to say about Ukraine. Money will be sent, talks about accession will continue. And of course the EU would counter claims of Ukraine fatigue by telling you exactly how much money and aid they have sent Kyiv.\n",
      "  \n",
      "      But it’s hard to escape the feeling that Ukraine’s Western allies – even in Europe – are losing interest in what was once their top priority. And if even the Europeans are losing interest in a land war on their own continent, what is the rest of the world supposed to think?\n",
      "  \n"
     ]
    }
   ],
   "source": [
    "# Ví dụ sử dụng hàm\n",
    "url_example = \"https://edition.cnn.com/2023/12/14/world/ukraines-european-allies-are-letting-it-down/index.html\"\n",
    "html_content = extract_text(url_example, \"CNN\")\n",
    "\n",
    "if html_content:\n",
    "    print(\"Nội dung HTML:\")\n",
    "    print(html_content)  # In ra 500 ký tự đầu tiên cho mục đích kiểm tra\n",
    "else:\n",
    "    print(\"Không thể lấy nội dung từ URL.\")"
   ]
  },
  {
   "cell_type": "code",
   "execution_count": 19,
   "metadata": {},
   "outputs": [
    {
     "data": {
      "text/plain": [
       "'before the war between israel and hamas take over virtually all of the international community s attention the russian invasion of ukraine be the most pressing crisis diplomat be seek to solve in brussels this week have be slate as a big moment for the europification of ukraine as eu member state meet for their final council summit of the year to green light both more funding for kyiv and finally the opening of negotiation for ukrainian membership of the bloc all of that have be throw into question by one member state hungary hungary s populist pm viktor orban have be western europe s number one problem child for some time even before the war in ukraine hungary have form for hold the rest of the eu to ransom most of the big decision make by brussels require unanimous approval from all 27 member state this mean that every member state effectively have a veto it can use to block core eu policy like send billion of euro to a war tear country or let a country into the club in theory this veto should only be use if a member state have an actual objection to flagship eu policy but it have increasingly become use as a tool for political leader to get thing they want in other area in the case of orban it usually to secure the release of central eu fund that be be withhold from hungary by brussels for its various indiscretion like undercut the rule of law or play fast and loose with eu fundamental right for lgbt citizen that appear to be the case this week as eu diplomat and official spend the early part of the week negotiate the release of billion of euro that have be freeze because of corruption and rule of law concern it likely that this issue will be resolve to some extent and that the eu will be able to end the week with a press conference celebrate its continue support for ukraine and its path to join the bloc ukraine face a daunting winter after zelensky can not convince republicans to move quickly on new aid but for some ukrainian and western official work closely with kyiv the episode be just the late bit of evidence that the thing they fear most be finally happen ukraine fatigue a senior adviser to ukrainian president volodymyr zelenskyy tell cnn that because in the eye of ukraine join the eu be directly tie to nato membership any hesitation from its european ally be bad signal that will encourage russia to plow on a senior nato official work directly with ukraine tell cnn that this be part of of a long term trend toward the bad outcome the west lose focus on ukraine for more evidence of this you only have to look at the debate happen in washington right now regard funding for ukraine you only have to imagine how those debate will evolve in the loom presidential election year in the world of zero sum political gain what be bad for ukraine be good for russia and russian official know it by the end of the week the eu will no doubt have something positive to say about ukraine money will be send talk about accession will continue and of course the eu would counter claim of ukraine fatigue by tell you exactly how much money and aid they have send kyiv but it hard to escape the feeling that ukraine s western ally even in europe be lose interest in what be once their top priority and if even the europeans be lose interest in a land war on their own continent what be the rest of the world suppose to think '"
      ]
     },
     "execution_count": 19,
     "metadata": {},
     "output_type": "execute_result"
    }
   ],
   "source": [
    "preprocessing(html_content)"
   ]
  },
  {
   "cell_type": "code",
   "execution_count": 14,
   "metadata": {},
   "outputs": [
    {
     "name": "stdout",
     "output_type": "stream",
     "text": [
      "Nội dung HTML:\n",
      "When Rebekah Vardy left court after losing the libel case she brought against Coleen Rooney last year, she said that the judge 'got it wrong'. And that the English legal system let her down.Hmm. An interesting position for the losing party, I thought. A bracing take on a thumping defeat; like a boxer flat out on the canvas after a knockout punch, counted out, covered in blood but still claiming: 'Look, mate, the ref got it wrong.'See also: the umpire is a liar, the magistrate is out of date, the arbitrator is too arbitrary, the dog ate my homework and the moon is a balloon.You could say that on the pitch, football's VAR system is unpopular and much mocked, while off the pitch the chaotic VARDY system suffers much the same fate.For in bringing the infamous Wagatha Christie case and then losing it, in suing over accusations she had leaked details of Mrs Rooney's private life to newspapers and then failing miserably to show it was not true, we must all agree that Rebekah scored the own goal of the century.Since then, I have been wondering what the darling girl would do next. How would she redeem herself in the public eye? How could she? It was no surprise that Vardy complained bitterly about having to pay Coleen Rooney's £1.8 million legal costs and trial expenses, including a £225 breakfast bill from the Nobu hotel in London.When Rebekah Vardy (pictured) left court after losing the libel case she brought against Coleen Rooney last year, she said that the judge 'got it wrong'. And that the English legal system let her downOne can only hope that Coleen was paving her toast inches thick with Nobu's finest yellowfin tuna tartare garnished with caviar; a dish best served cold, just like revenge. Or a glass of champagne.Anyway, this week Rebekah finally resurfaced — in The Spectator magazine of all places — penning an article in which she still protests her innocence. 'If you don't [know about the Wagatha trial] I'll spare you: thinking about it is a total waste of time and energy,' she blithely writes. 'All I'll say is that I know the truth, as do many others.'Come off it, Mrs Argy-Bargy Vardy. You were the one who insisted on bringing the trial, you operated the legal hydraulics, you pulled the lever, you took the gamble and you resoundingly lost. Please don't now attempt to brush off a £2 million-plus trial in the High Court as a trifle of no consequence on your dessert trolley of utter folly.And even for a millennial like Rebekah, a fully paid-up member of the Whine Generation, there is no such thing as 'my truth' in a court of law; there is only the truth. And the truth here is that it is not her privilege to accept or deny blame or the legitimacy of the verdict, because the courts decided that for her. So I wish she'd stop taking us all for fools.Throughout the trial, Mrs Vardy gave the impression of someone with a very faint grasp of English law and how it works. She sobbed under pressure in the witness box and failed to produce evidence that backed up her case.She seemed to believe, like so many do — royal and commoner alike — that an aggrieved and misplaced sense of injustice, the fact she was displeased and hurt, would be enough to wing it and win it. Yet nothing could be further from the truth. Hers or anyone else's.Vardy now says that she wants to spare everyone from 'thinking about it' — but no wonder she wants to brush these events under her tatty carpet of shame.It was no surprise that Vardy complained bitterly about having to pay Coleen Rooney's (pictured) £1.8 million legal costs and trial expenses, including a £225 breakfast bill from the Nobu hotel in LondonIn her damning high court judgment, Mrs Justice Steyn described Vardy as an 'untrustworthy witness' who was likely to have destroyed potentially crucial evidence on purpose. The judge's 75-page ruling also described her evidence as 'inconsistent', 'evasive' and 'implausible'.A waste of time and energy? For whom? People like Rebekah Vardy, all those celebrities, princes, the perma-offended, the pan-affronted and anyone who brings these specious cases of self-interest and hubris to trial — clogging up the legal system in the process — often don't have a clue what is in store.They fail to understand the seriousness of a court room or the gravity of the full weight of the law. It is not a PR exercise, it is not something your manager or publicist can fix, it is not a drill in ameliorating your miff or boosting your wellness quotient on your quest to self-heal; it is an exacting and brutal process aimed at uncovering the truth, no matter what.Yet despite defeat and ignominy, Vardy still portrays herself as a victim.  And if you can't move on until you admit you are wrong, then she is still stuck like a squashed fly in the amber, oblivious to candour.In her Spectator article, Mrs Vardy writes about the documentary she recently made about growing up in a Jehovah's Witness family and the trauma of having Christmas cancelled on religious grounds. Elsewhere, she has talked of the abuse she suffered while being part of something she aligns to a 'cult-like religious' institution.I am sorry that she has suffered in any way. However, cynics might conclude that this is also a slippery attempt at some much-needed reputational rehabilitation. 'I wanted to tackle my past head on,' writes our heroine. Yes, but not that troublesome Wagatha part of it, if you don't mind, suckers.With the best will in the world, it all seems a bit contrived, not to say desperate.And that is my truth, Rebekah.Greater Manchester Police's practical and clever idea to donate 1,000 tonnes of fake designer gear to the homeless and those in need is inspired.After removing the bogus labels and rebranding the items, the clothes and shoes are given to charities and community organisations, while unsuitable items are shredded to create new items such as bedding.It is all part of Operation Vulcan, which was launched in the autumn of 2022 to clear the region of the counterfeit goods trade.Creating something good out of something bad?That's my idea of terrific community police work.Well done, everyone.Jennifer Lopez has revealed her Christmas tree decorations this year and I am here for every single one of them. Jen always takes her decs seriously and previous themes have included red roses and — how can I put this — hummingbirds. Jennifer Lopez has revealed her Christmas tree decorations this year and I am here for every single one of themThis year the singer has gone for a restrained gold and metallic motif, co-ordinating everything from her gift wrap to her tree-trimming outfit to her big showy baubles. What? Stop it, I'm talking about her frosted globes, which are magnificent even from an ocean away.Merry Christmas, Jen. You've made us all so very happy.The mystery of the felled Sycamore Gap tree deepens.A lumberjack in his 60s who was arrested on suspicion of criminal damage now will face no further action.Two men in their 30s remain on bail. A 16-year-old boy who was arrested and then bailed in connection with the felling of the tree now faces no further charges. The mystery of the felled Sycamore Gap tree deepens - Northumbria Police seem no closer to solving the 'deliberate act of vandalism'Northumbria Police seem no closer to solving the 'deliberate act of vandalism' than when the ancient landmark was cut down in September, for reasons unknown.On a lighter note, what I want to know is who has bought the film rights? And what British actor will star as the giant tree itself, an ancient lump of immobile wood for the ages?Surely it can only be one man — step forward Nigel Havers. Nigel is currently starring as a pirate in London Palladium's uproarious Peter Pan pantomime.'The management regret to inform you that Nigel Havers will be taking part in tonight's performance,' is the solemn announcement before each show.Good sport Nigel is branching out — and he is the only man for the job.Ten days to go and Tesco has recalled its Apple & Cranberry Christmas stuffing mix due to the possible presence of moths. Customers will get a full refund — and possibly a hole in their favourite jumper — even without a receipt.Equalities minister Kemi Badenoch made an impressive appearance at the Commons' Women and Equalities Select Committee on Wednesday. You couldn't say the same thing about Kate Osborne, the Labour MP for Jarrow.In an early skirmish, Badenoch voiced her concerns that materials used in schools were 'teaching nonsense like there's no such thing as biological sex'.'Who says it's nonsense?' sniped Osborne. This was terrifying enough, before Badenoch challenged allegations that she had used the word 'disease' in an inflammatory way.Kemi Badenoch (pictured) voiced her concerns that materials used in schools were 'teaching nonsense like there's no such thing as biological sex''I'm not calling you a liar, you called me a liar,' said Osborne. 'I'm not here to answer your questions' she whined, before suggesting the minister should 'consult a dictionary'.It was a depressing glimpse into the childish, Left-wing trans groupthink that Badenoch must battle, but she seems more than up to the challenge. Her plain speaking and clear thinking on this difficult issue is inspiring, not just for suggesting the law needs to change to protect single-sex spaces because there are more male predators than there are trans people. Someone has got to say it. And if not Kemi, then who?Sienna Miller is latest celebrity to show off her baby bump, proving that Demi Moore still has a lot to answer for. In Vogue magazine, the Layer Cake actress posed in revealing outfits and talked about the stigma she feels at being a 41-year-old having a baby with a 27-year-old boyfriend, the actor Oli Green.'I'd love to get to a point where I didn't feel the need to make a joke of my being older and having a baby,' she said, 'to show I'm in on the joke.' When asked if her much younger lover might eventually want to find someone younger, she said: 'For Oli, it is real that I might want to be with someone older.' This has shades of Dame Joan Collins and her hilarious 'if he dies, he dies' remark about her much younger husband, Percy Gibson.Still, society always views May-December relationships with interest.Surely it is just part of human nature, whatever the mix of the sexes?Actually, I find their casual approach about bringing a child into the world much more interesting. Sienna and Oli only met in 2021, the pregnancy was unplanned, Dad might be replaced by an older model, Mum might be usurped by a younger one, no pressure all round. So nonchalant and relaxed! Some couples put more thought into buying a budgie.\n"
     ]
    }
   ],
   "source": [
    "# Ví dụ sử dụng hàm\n",
    "url_example = \"https://www.dailymail.co.uk/debate/article-12865975/JAN-MOIR-no-wonder-Rebekah-Vardy-wants-sweep-Wagatha-trial-tatty-carpet-shame.html\"\n",
    "html_content = extract_text(url_example, \"DailMail\")\n",
    "\n",
    "if html_content:\n",
    "    print(\"Nội dung HTML:\")\n",
    "    print(html_content)  # In ra 500 ký tự đầu tiên cho mục đích kiểm tra\n",
    "else:\n",
    "    print(\"Không thể lấy nội dung từ URL.\")"
   ]
  }
 ],
 "metadata": {
  "kernelspec": {
   "display_name": "Python 3",
   "language": "python",
   "name": "python3"
  },
  "language_info": {
   "codemirror_mode": {
    "name": "ipython",
    "version": 3
   },
   "file_extension": ".py",
   "mimetype": "text/x-python",
   "name": "python",
   "nbconvert_exporter": "python",
   "pygments_lexer": "ipython3",
   "version": "3.11.5"
  }
 },
 "nbformat": 4,
 "nbformat_minor": 2
}
