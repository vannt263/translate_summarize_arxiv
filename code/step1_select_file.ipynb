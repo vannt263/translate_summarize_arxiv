{
 "cells": [
  {
   "cell_type": "markdown",
   "metadata": {},
   "source": [
    "### Import thư viện"
   ]
  },
  {
   "cell_type": "code",
   "execution_count": null,
   "metadata": {},
   "outputs": [],
   "source": [
    "import os\n",
    "import re\n",
    "import json\n",
    "import random\n",
    "import shutil"
   ]
  },
  {
   "cell_type": "code",
   "execution_count": null,
   "metadata": {},
   "outputs": [],
   "source": [
    "import pandas as pd\n",
    "import translators as ts"
   ]
  },
  {
   "cell_type": "markdown",
   "metadata": {},
   "source": [
    "### Giữ lại một số lượng file phù hợp"
   ]
  },
  {
   "cell_type": "markdown",
   "metadata": {},
   "source": [
    "Dữ liệu tải về được lưu trong 2 thư mục cnn và dailymail, do hạn chế về việc lưu trữ data cũng như các đơn vị tính toán trên laptop cá nhân, nhóm chỉ sử dụng 150 000 files dữ liệu được trộn hỗn hợp từ cnn và dailymail:"
   ]
  },
  {
   "cell_type": "markdown",
   "metadata": {},
   "source": [
    "<em>Vui lòng không chạy code này !</em>"
   ]
  },
  {
   "cell_type": "code",
   "execution_count": null,
   "metadata": {},
   "outputs": [],
   "source": [
    "path_folder = \"../../data/\" # đường đẫn dễn thư mục chứa file lưu trữ\n",
    "\n",
    "folder_cnn = f\"{path_folder}cnn\"\n",
    "folder_daily = f\"{path_folder}dailymail\""
   ]
  },
  {
   "cell_type": "code",
   "execution_count": null,
   "metadata": {},
   "outputs": [],
   "source": [
    "def copy_random_files(source_folder, destination_folder, num_files_to_select):\n",
    "    all_files = os.listdir(source_folder)\n",
    "    selected_files = random.sample(all_files, min(num_files_to_select, len(all_files)))\n",
    "    for file_name in selected_files:\n",
    "        source_path = os.path.join(source_folder, file_name)\n",
    "        destination_path = os.path.join(destination_folder, file_name)\n",
    "        shutil.copy(source_path, destination_path)\n",
    "\n",
    "number = 150000 # Số lượng file giữ lại.\n",
    "\n",
    "# Tạo và xác định thư mục đích\n",
    "destination_folder = '../data_summarize/'\n",
    "os.makedirs(destination_folder, exist_ok=True)\n",
    "\n",
    "# Lấy ngẫu nhiên các tệp từ thư mục cnn vài daily\n",
    "copy_random_files(folder_cnn, destination_folder, number // 2)\n",
    "copy_random_files(folder_daily, destination_folder, number // 2)\n",
    "\n",
    "print(f'{number} tệp đã được chọn và sao chép thành công.')"
   ]
  },
  {
   "cell_type": "markdown",
   "metadata": {},
   "source": [
    "### Thực hiện ghép các đoạn rời rạc và thực hiện lưu lại file dưới dạng json"
   ]
  },
  {
   "cell_type": "markdown",
   "metadata": {},
   "source": [
    "Do dữ liệu được lưu trữ dưới dạng file STORY, các câu đoạn được trích xuất từ các thẻ HTML nên câu văn bị ngắt nghỉ chưa đúng chỗ, ngoài ra các ý chính (đại diện cho mục tóm tắt) cũng bị ngăn cách bởi các ký tự highlight. \n",
    "\n",
    "Cần thực hiện ghép nối."
   ]
  },
  {
   "cell_type": "code",
   "execution_count": null,
   "metadata": {},
   "outputs": [],
   "source": [
    "data_folder = \"../data_summarize/\"\n",
    "files = os.listdir(data_folder)"
   ]
  },
  {
   "cell_type": "code",
   "execution_count": null,
   "metadata": {},
   "outputs": [],
   "source": [
    "for file in files:\n",
    "    with open(f\"{data_folder}{file}\", \"r+\", encoding=\"utf-8\") as f:\n",
    "        content = f.read()\n",
    "\n",
    "        # Tìm vị trí các highlight\n",
    "        highlight_index = content.find('@highlight')\n",
    "        # Chia nội dung thành 2 phần: nội dung chính và tóm tắt\n",
    "        news = content[:highlight_index].replace('\\n', ' ').strip()\n",
    "        summary = content[highlight_index + len('@highlight'):]\\\n",
    "                        .replace('\\n', ' ').replace('@highlight', '').strip()\n",
    "        # Loại bỏ các khoảng trắng\n",
    "        news = re.sub(r'\\s+', ' ', news)\n",
    "        summary = re.sub(r'\\s+', ' ', summary)\n",
    "        json_data = {\n",
    "            \"news\": news,\n",
    "            \"summary\": summary\n",
    "        }\n",
    "\n",
    "        f.seek(0)\n",
    "        # Chuyển đối tượng Python thành chuỗi JSON và ghi vào tệp tin\n",
    "        json.dump(json_data, f, ensure_ascii=False, indent=2)\n",
    "        # Cắt bớt phần còn lại của tệp tin (nếu có)\n",
    "        f.truncate()"
   ]
  },
  {
   "cell_type": "markdown",
   "metadata": {},
   "source": [
    "### Thực hiện translate phần summary tạo target cho mô hình translate"
   ]
  },
  {
   "cell_type": "markdown",
   "metadata": {},
   "source": [
    "Với phần translate, nhóm sử dụng module translators cũng như đã thử nghiệm một số mô hình pretrained, kết quả dịch không đúng nghĩa, sát nghĩa,... dịch thiếu tokens,... nên nhóm thực hiện gán nhãn bằng tay với công cụ hỗ trợ: google dịch, gpt, poe.com, ..."
   ]
  },
  {
   "cell_type": "markdown",
   "metadata": {},
   "source": [
    "Do nguồn nhân lực và thời gian còn hạn chế, nhóm chỉ gán nhãn 1000 file bất kỳ để sử dụng cho quá tình fine-tuning model translate."
   ]
  },
  {
   "cell_type": "code",
   "execution_count": null,
   "metadata": {},
   "outputs": [],
   "source": [
    "for file in files[:1000]:\n",
    "    with open(f\"{data_folder}{file}\", \"r+\", encoding=\"utf-8\") as f:\n",
    "        print(file)\n",
    "        content = json.load(f)\n",
    "        translate_summary = ts.translate_text(content[\"summary\"], # sử dụng google để dịch\n",
    "                                            from_language='en', to_language='vi', \n",
    "                                            translator='google')\n",
    "        content[\"translate\"] = translate_summary\n",
    "        f.seek(0)\n",
    "        json.dump(content, f, ensure_ascii=False, indent=2)\n",
    "        f.truncate()\n",
    "        shutil.copy(f\"{path_folder}{file}\",f\"../data_translate/{file[:-5]}txt\")"
   ]
  }
 ],
 "metadata": {
  "language_info": {
   "name": "python"
  }
 },
 "nbformat": 4,
 "nbformat_minor": 2
}
