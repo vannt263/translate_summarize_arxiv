{
 "cells": [
  {
   "cell_type": "markdown",
   "metadata": {},
   "source": [
    "### Import thư viện"
   ]
  },
  {
   "cell_type": "code",
   "execution_count": 1,
   "metadata": {},
   "outputs": [],
   "source": [
    "import os\n",
    "import json\n",
    "import random"
   ]
  },
  {
   "cell_type": "code",
   "execution_count": 2,
   "metadata": {},
   "outputs": [],
   "source": [
    "import pandas as pd\n",
    "import translators as ts"
   ]
  },
  {
   "cell_type": "markdown",
   "metadata": {},
   "source": [
    "<em>Vui lòng không chạy code này !</em>"
   ]
  },
  {
   "cell_type": "markdown",
   "metadata": {},
   "source": [
    "### Giữ lại một số lượng file phù hợp"
   ]
  },
  {
   "cell_type": "markdown",
   "metadata": {},
   "source": [
    "Nhóm sử dụng file train.csv có dung lượng > 1.2GB chứa các tin tức từ 2 kênh thông tin online CNN và Daily Mail. Do hạn chế về việc lưu trữ trên github cũng như các đơn vị tính toán (RAM) trên laptop cá nhân, nhóm sử dụng 100.000 dòng đầu tiên của file csv (tương ứng 100000 bài báo tiếng anh) để làm dữ liệu thực hiện project này."
   ]
  },
  {
   "cell_type": "code",
   "execution_count": 3,
   "metadata": {},
   "outputs": [],
   "source": [
    "data = pd.read_csv(\"../../train.csv\", nrows=100000)"
   ]
  },
  {
   "cell_type": "code",
   "execution_count": 4,
   "metadata": {},
   "outputs": [
    {
     "data": {
      "text/html": [
       "<div>\n",
       "<style scoped>\n",
       "    .dataframe tbody tr th:only-of-type {\n",
       "        vertical-align: middle;\n",
       "    }\n",
       "\n",
       "    .dataframe tbody tr th {\n",
       "        vertical-align: top;\n",
       "    }\n",
       "\n",
       "    .dataframe thead th {\n",
       "        text-align: right;\n",
       "    }\n",
       "</style>\n",
       "<table border=\"1\" class=\"dataframe\">\n",
       "  <thead>\n",
       "    <tr style=\"text-align: right;\">\n",
       "      <th></th>\n",
       "      <th>id</th>\n",
       "      <th>article</th>\n",
       "      <th>highlights</th>\n",
       "    </tr>\n",
       "  </thead>\n",
       "  <tbody>\n",
       "    <tr>\n",
       "      <th>0</th>\n",
       "      <td>0001d1afc246a7964130f43ae940af6bc6c57f01</td>\n",
       "      <td>By . Associated Press . PUBLISHED: . 14:11 EST...</td>\n",
       "      <td>Bishop John Folda, of North Dakota, is taking ...</td>\n",
       "    </tr>\n",
       "    <tr>\n",
       "      <th>1</th>\n",
       "      <td>0002095e55fcbd3a2f366d9bf92a95433dc305ef</td>\n",
       "      <td>(CNN) -- Ralph Mata was an internal affairs li...</td>\n",
       "      <td>Criminal complaint: Cop used his role to help ...</td>\n",
       "    </tr>\n",
       "    <tr>\n",
       "      <th>2</th>\n",
       "      <td>00027e965c8264c35cc1bc55556db388da82b07f</td>\n",
       "      <td>A drunk driver who killed a young woman in a h...</td>\n",
       "      <td>Craig Eccleston-Todd, 27, had drunk at least t...</td>\n",
       "    </tr>\n",
       "    <tr>\n",
       "      <th>3</th>\n",
       "      <td>0002c17436637c4fe1837c935c04de47adb18e9a</td>\n",
       "      <td>(CNN) -- With a breezy sweep of his pen Presid...</td>\n",
       "      <td>Nina dos Santos says Europe must be ready to a...</td>\n",
       "    </tr>\n",
       "    <tr>\n",
       "      <th>4</th>\n",
       "      <td>0003ad6ef0c37534f80b55b4235108024b407f0b</td>\n",
       "      <td>Fleetwood are the only team still to have a 10...</td>\n",
       "      <td>Fleetwood top of League One after 2-0 win at S...</td>\n",
       "    </tr>\n",
       "    <tr>\n",
       "      <th>...</th>\n",
       "      <td>...</td>\n",
       "      <td>...</td>\n",
       "      <td>...</td>\n",
       "    </tr>\n",
       "    <tr>\n",
       "      <th>99995</th>\n",
       "      <td>0cd7ec4013b0a6dbbc9f15ce8a7ff757db5b8ad9</td>\n",
       "      <td>By . Deni Kirkova . PUBLISHED: . 05:54 EST, 1 ...</td>\n",
       "      <td>Eleven innocent princesses raunch up as Miley ...</td>\n",
       "    </tr>\n",
       "    <tr>\n",
       "      <th>99996</th>\n",
       "      <td>0cd84db8ebc91821d07d910e830d8710021a2d6a</td>\n",
       "      <td>A furious Harvard Business School professor ha...</td>\n",
       "      <td>Ben Edelman is an associate professor of busin...</td>\n",
       "    </tr>\n",
       "    <tr>\n",
       "      <th>99997</th>\n",
       "      <td>0cd875596eada9164e7d349d654697c342020b65</td>\n",
       "      <td>By . Daily Mail Reporter . Lewis Dale, 17, is ...</td>\n",
       "      <td>Lewis Dale, 17, weeps in the dock as he is tol...</td>\n",
       "    </tr>\n",
       "    <tr>\n",
       "      <th>99998</th>\n",
       "      <td>0cd9048c654458e89b9f2a219da1b4d12bc6550f</td>\n",
       "      <td>By . Daily Mail Reporter . PUBLISHED: . 11:09 ...</td>\n",
       "      <td>CCTV shows driver chase a man on a scooter and...</td>\n",
       "    </tr>\n",
       "    <tr>\n",
       "      <th>99999</th>\n",
       "      <td>0cd96548b8dcfab467cc799bdc4b4b60a013fd15</td>\n",
       "      <td>By . Daily Mail Reporter . PUBLISHED: . 18:03 ...</td>\n",
       "      <td>Obama gave interview ahead of the Super Bowl i...</td>\n",
       "    </tr>\n",
       "  </tbody>\n",
       "</table>\n",
       "<p>100000 rows × 3 columns</p>\n",
       "</div>"
      ],
      "text/plain": [
       "                                             id  \\\n",
       "0      0001d1afc246a7964130f43ae940af6bc6c57f01   \n",
       "1      0002095e55fcbd3a2f366d9bf92a95433dc305ef   \n",
       "2      00027e965c8264c35cc1bc55556db388da82b07f   \n",
       "3      0002c17436637c4fe1837c935c04de47adb18e9a   \n",
       "4      0003ad6ef0c37534f80b55b4235108024b407f0b   \n",
       "...                                         ...   \n",
       "99995  0cd7ec4013b0a6dbbc9f15ce8a7ff757db5b8ad9   \n",
       "99996  0cd84db8ebc91821d07d910e830d8710021a2d6a   \n",
       "99997  0cd875596eada9164e7d349d654697c342020b65   \n",
       "99998  0cd9048c654458e89b9f2a219da1b4d12bc6550f   \n",
       "99999  0cd96548b8dcfab467cc799bdc4b4b60a013fd15   \n",
       "\n",
       "                                                 article  \\\n",
       "0      By . Associated Press . PUBLISHED: . 14:11 EST...   \n",
       "1      (CNN) -- Ralph Mata was an internal affairs li...   \n",
       "2      A drunk driver who killed a young woman in a h...   \n",
       "3      (CNN) -- With a breezy sweep of his pen Presid...   \n",
       "4      Fleetwood are the only team still to have a 10...   \n",
       "...                                                  ...   \n",
       "99995  By . Deni Kirkova . PUBLISHED: . 05:54 EST, 1 ...   \n",
       "99996  A furious Harvard Business School professor ha...   \n",
       "99997  By . Daily Mail Reporter . Lewis Dale, 17, is ...   \n",
       "99998  By . Daily Mail Reporter . PUBLISHED: . 11:09 ...   \n",
       "99999  By . Daily Mail Reporter . PUBLISHED: . 18:03 ...   \n",
       "\n",
       "                                              highlights  \n",
       "0      Bishop John Folda, of North Dakota, is taking ...  \n",
       "1      Criminal complaint: Cop used his role to help ...  \n",
       "2      Craig Eccleston-Todd, 27, had drunk at least t...  \n",
       "3      Nina dos Santos says Europe must be ready to a...  \n",
       "4      Fleetwood top of League One after 2-0 win at S...  \n",
       "...                                                  ...  \n",
       "99995  Eleven innocent princesses raunch up as Miley ...  \n",
       "99996  Ben Edelman is an associate professor of busin...  \n",
       "99997  Lewis Dale, 17, weeps in the dock as he is tol...  \n",
       "99998  CCTV shows driver chase a man on a scooter and...  \n",
       "99999  Obama gave interview ahead of the Super Bowl i...  \n",
       "\n",
       "[100000 rows x 3 columns]"
      ]
     },
     "execution_count": 4,
     "metadata": {},
     "output_type": "execute_result"
    }
   ],
   "source": [
    "data"
   ]
  },
  {
   "cell_type": "markdown",
   "metadata": {},
   "source": [
    "Thực hiện tách từng file .txt nhỏ, phục vụ cho việc lưu trữ, đẩy file lên github với id đại diện cho tên file"
   ]
  },
  {
   "cell_type": "code",
   "execution_count": 5,
   "metadata": {},
   "outputs": [],
   "source": [
    "# Tạo thư mục để lưu file TXT nếu chưa tồn tại\n",
    "output_folder = '../data_summarize'  # Thay đổi tên thư mục nếu cần\n",
    "os.makedirs(output_folder, exist_ok=True)"
   ]
  },
  {
   "cell_type": "code",
   "execution_count": 6,
   "metadata": {},
   "outputs": [
    {
     "name": "stdout",
     "output_type": "stream",
     "text": [
      "Done!\n"
     ]
    }
   ],
   "source": [
    "# Lưu từng dòng dữ liệu thành file TXT\n",
    "for index, row in data.iterrows():\n",
    "    record = {\n",
    "        'article': row['article'].replace('\\\\\"', \"'\").replace('\\n', ''),\n",
    "        'highlights': row['highlights'].replace('\\\\\"', \"'\").replace('\\n', '')\n",
    "    }\n",
    "\n",
    "    output_file_path = os.path.join(output_folder, f\"{row['id']}.txt\")\n",
    "    \n",
    "    with open(output_file_path, 'w', encoding='utf-8') as output_file:\n",
    "        json.dump(record, output_file, ensure_ascii=False, indent=2)\n",
    "\n",
    "print(\"Done!\")"
   ]
  },
  {
   "cell_type": "markdown",
   "metadata": {},
   "source": [
    "### Thực hiện translate phần summary tạo target cho mô hình translate"
   ]
  },
  {
   "cell_type": "markdown",
   "metadata": {},
   "source": [
    "Với phần translate, nhóm sử dụng module translators cũng như đã thử nghiệm một số mô hình pretrained, kết quả dịch không đúng nghĩa, sát nghĩa,... dịch thiếu tokens,... nên nhóm thực hiện gán nhãn bằng tay với công cụ hỗ trợ: google dịch, gpt, poe.com, ..."
   ]
  },
  {
   "cell_type": "markdown",
   "metadata": {},
   "source": [
    "Do nguồn nhân lực và thời gian còn hạn chế, nhóm chỉ gán nhãn 1000 file bất kỳ để sử dụng cho quá tình fine-tuning model translate."
   ]
  },
  {
   "cell_type": "code",
   "execution_count": 8,
   "metadata": {},
   "outputs": [],
   "source": [
    "# Tạo thư mục để lưu file TXT nếu chưa tồn tại\n",
    "summarize_folder = '../data_summarize'\n",
    "translate_folder = '../data_translate'  # Thay đổi tên thư mục nếu cần\n",
    "os.makedirs(translate_folder, exist_ok=True)"
   ]
  },
  {
   "cell_type": "code",
   "execution_count": 14,
   "metadata": {},
   "outputs": [],
   "source": [
    "files = os.listdir(summarize_folder)"
   ]
  },
  {
   "cell_type": "code",
   "execution_count": 16,
   "metadata": {},
   "outputs": [
    {
     "name": "stdout",
     "output_type": "stream",
     "text": [
      "Done!\n"
     ]
    }
   ],
   "source": [
    "random_files = random.sample(files, 1000)\n",
    "for file_name in random_files:\n",
    "    with open(f\"{summarize_folder}/{file_name}\", 'r', encoding='utf-8') as file:\n",
    "        content = json.load(file)\n",
    "        translate_summary = ts.translate_text(content[\"highlights\"], # sử dụng google để dịch\n",
    "                                            from_language='en', to_language='vi', \n",
    "                                            translator='google')\n",
    "        content[\"vi\"] = translate_summary\n",
    "        with open(f\"{translate_folder}/{file_name}\", 'w', encoding='utf-8') as output_file:\n",
    "            json.dump(content, output_file, ensure_ascii=False, indent=2)\n",
    "print(\"Done!\")"
   ]
  },
  {
   "cell_type": "markdown",
   "metadata": {},
   "source": [
    "---"
   ]
  }
 ],
 "metadata": {
  "kernelspec": {
   "display_name": "Python 3",
   "language": "python",
   "name": "python3"
  },
  "language_info": {
   "codemirror_mode": {
    "name": "ipython",
    "version": 3
   },
   "file_extension": ".py",
   "mimetype": "text/x-python",
   "name": "python",
   "nbconvert_exporter": "python",
   "pygments_lexer": "ipython3",
   "version": "3.11.5"
  }
 },
 "nbformat": 4,
 "nbformat_minor": 2
}
