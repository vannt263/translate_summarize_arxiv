{
 "cells": [
  {
   "cell_type": "code",
   "execution_count": 12,
   "metadata": {},
   "outputs": [],
   "source": [
    "import os\n",
    "import json\n",
    "import pandas as pd\n",
    "import translators as ts"
   ]
  },
  {
   "cell_type": "code",
   "execution_count": 24,
   "metadata": {},
   "outputs": [],
   "source": [
    "text_to_translate = \"NEW: Bermudan premier: \\\"Above all, this was a humanitarian act\\\" Uyghurs are native Chinese Muslims; the detainees were apprehended in Pakistan China urges U.S. to hand over all 17 Uyghurs held at Guantanamo Bay, Cuba Official says U.S. still negotiating with Palau to take remaining 13 Uyghurs\"\n",
    "translated_text = ts.translate_text(text_to_translate, to_language='vi', translator='google')"
   ]
  },
  {
   "cell_type": "code",
   "execution_count": 25,
   "metadata": {},
   "outputs": [
    {
     "name": "stdout",
     "output_type": "stream",
     "text": [
      "Original Text: NEW: Bermudan premier: \"Above all, this was a humanitarian act\" Uyghurs are native Chinese Muslims; the detainees were apprehended in Pakistan China urges U.S. to hand over all 17 Uyghurs held at Guantanamo Bay, Cuba Official says U.S. still negotiating with Palau to take remaining 13 Uyghurs\n",
      "Translated Text (Vietnamese): Mới: Bermudan Premier: \"Trên hết, đây là một hành động nhân đạo\" Uyghurs là người Hồi giáo bản địa Trung Quốc; Những người bị giam giữ đã bị bắt ở Pakistan Trung Quốc kêu gọi Hoa Kỳ bàn giao tất cả 17 người Uyghur được tổ chức tại Vịnh Guantanamo, Cuba cho biết Hoa Kỳ vẫn đàm phán với Palau để mất 13 Uyghurs còn lại\n"
     ]
    }
   ],
   "source": [
    "print(f\"Original Text: {text_to_translate}\")\n",
    "print(f\"Translated Text (Vietnamese): {translated_text}\")"
   ]
  }
 ],
 "metadata": {
  "kernelspec": {
   "display_name": "Python 3",
   "language": "python",
   "name": "python3"
  },
  "language_info": {
   "codemirror_mode": {
    "name": "ipython",
    "version": 3
   },
   "file_extension": ".py",
   "mimetype": "text/x-python",
   "name": "python",
   "nbconvert_exporter": "python",
   "pygments_lexer": "ipython3",
   "version": "3.11.5"
  }
 },
 "nbformat": 4,
 "nbformat_minor": 2
}
