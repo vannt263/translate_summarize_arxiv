{
 "cells": [
  {
   "cell_type": "markdown",
   "metadata": {},
   "source": [
    "### Import thư viện"
   ]
  },
  {
   "cell_type": "code",
   "execution_count": 1,
   "metadata": {},
   "outputs": [],
   "source": [
    "import os\n",
    "import json\n",
    "import random"
   ]
  },
  {
   "cell_type": "code",
   "execution_count": 2,
   "metadata": {},
   "outputs": [],
   "source": [
    "import pandas as pd\n",
    "import translators as ts"
   ]
  },
  {
   "cell_type": "markdown",
   "metadata": {},
   "source": [
    "<em>Vui lòng không chạy code này !</em>"
   ]
  },
  {
   "cell_type": "markdown",
   "metadata": {},
   "source": [
    "### Giữ lại một số lượng file phù hợp"
   ]
  },
  {
   "cell_type": "markdown",
   "metadata": {},
   "source": [
    "Nhóm sử dụng file train.csv có dung lượng > 1.2GB chứa các tin tức từ 2 kênh thông tin online CNN và Daily Mail. Do hạn chế về việc lưu trữ trên github cũng như các đơn vị tính toán (RAM) trên laptop cá nhân, nhóm sử dụng 100.000 dòng đầu tiên của file csv (tương ứng 100000 bài báo tiếng anh) để làm dữ liệu thực hiện project này."
   ]
  },
  {
   "cell_type": "code",
   "execution_count": 3,
   "metadata": {},
   "outputs": [],
   "source": [
    "data = pd.read_csv(\"../../train.csv\", nrows=100000)"
   ]
  },
  {
   "cell_type": "code",
   "execution_count": 4,
   "metadata": {},
   "outputs": [
    {
     "data": {
      "text/html": [
       "<div>\n",
       "<style scoped>\n",
       "    .dataframe tbody tr th:only-of-type {\n",
       "        vertical-align: middle;\n",
       "    }\n",
       "\n",
       "    .dataframe tbody tr th {\n",
       "        vertical-align: top;\n",
       "    }\n",
       "\n",
       "    .dataframe thead th {\n",
       "        text-align: right;\n",
       "    }\n",
       "</style>\n",
       "<table border=\"1\" class=\"dataframe\">\n",
       "  <thead>\n",
       "    <tr style=\"text-align: right;\">\n",
       "      <th></th>\n",
       "      <th>id</th>\n",
       "      <th>article</th>\n",
       "      <th>highlights</th>\n",
       "    </tr>\n",
       "  </thead>\n",
       "  <tbody>\n",
       "    <tr>\n",
       "      <th>0</th>\n",
       "      <td>0001d1afc246a7964130f43ae940af6bc6c57f01</td>\n",
       "      <td>By . Associated Press . PUBLISHED: . 14:11 EST...</td>\n",
       "      <td>Bishop John Folda, of North Dakota, is taking ...</td>\n",
       "    </tr>\n",
       "    <tr>\n",
       "      <th>1</th>\n",
       "      <td>0002095e55fcbd3a2f366d9bf92a95433dc305ef</td>\n",
       "      <td>(CNN) -- Ralph Mata was an internal affairs li...</td>\n",
       "      <td>Criminal complaint: Cop used his role to help ...</td>\n",
       "    </tr>\n",
       "    <tr>\n",
       "      <th>2</th>\n",
       "      <td>00027e965c8264c35cc1bc55556db388da82b07f</td>\n",
       "      <td>A drunk driver who killed a young woman in a h...</td>\n",
       "      <td>Craig Eccleston-Todd, 27, had drunk at least t...</td>\n",
       "    </tr>\n",
       "    <tr>\n",
       "      <th>3</th>\n",
       "      <td>0002c17436637c4fe1837c935c04de47adb18e9a</td>\n",
       "      <td>(CNN) -- With a breezy sweep of his pen Presid...</td>\n",
       "      <td>Nina dos Santos says Europe must be ready to a...</td>\n",
       "    </tr>\n",
       "    <tr>\n",
       "      <th>4</th>\n",
       "      <td>0003ad6ef0c37534f80b55b4235108024b407f0b</td>\n",
       "      <td>Fleetwood are the only team still to have a 10...</td>\n",
       "      <td>Fleetwood top of League One after 2-0 win at S...</td>\n",
       "    </tr>\n",
       "    <tr>\n",
       "      <th>...</th>\n",
       "      <td>...</td>\n",
       "      <td>...</td>\n",
       "      <td>...</td>\n",
       "    </tr>\n",
       "    <tr>\n",
       "      <th>99995</th>\n",
       "      <td>0cd7ec4013b0a6dbbc9f15ce8a7ff757db5b8ad9</td>\n",
       "      <td>By . Deni Kirkova . PUBLISHED: . 05:54 EST, 1 ...</td>\n",
       "      <td>Eleven innocent princesses raunch up as Miley ...</td>\n",
       "    </tr>\n",
       "    <tr>\n",
       "      <th>99996</th>\n",
       "      <td>0cd84db8ebc91821d07d910e830d8710021a2d6a</td>\n",
       "      <td>A furious Harvard Business School professor ha...</td>\n",
       "      <td>Ben Edelman is an associate professor of busin...</td>\n",
       "    </tr>\n",
       "    <tr>\n",
       "      <th>99997</th>\n",
       "      <td>0cd875596eada9164e7d349d654697c342020b65</td>\n",
       "      <td>By . Daily Mail Reporter . Lewis Dale, 17, is ...</td>\n",
       "      <td>Lewis Dale, 17, weeps in the dock as he is tol...</td>\n",
       "    </tr>\n",
       "    <tr>\n",
       "      <th>99998</th>\n",
       "      <td>0cd9048c654458e89b9f2a219da1b4d12bc6550f</td>\n",
       "      <td>By . Daily Mail Reporter . PUBLISHED: . 11:09 ...</td>\n",
       "      <td>CCTV shows driver chase a man on a scooter and...</td>\n",
       "    </tr>\n",
       "    <tr>\n",
       "      <th>99999</th>\n",
       "      <td>0cd96548b8dcfab467cc799bdc4b4b60a013fd15</td>\n",
       "      <td>By . Daily Mail Reporter . PUBLISHED: . 18:03 ...</td>\n",
       "      <td>Obama gave interview ahead of the Super Bowl i...</td>\n",
       "    </tr>\n",
       "  </tbody>\n",
       "</table>\n",
       "<p>100000 rows × 3 columns</p>\n",
       "</div>"
      ],
      "text/plain": [
       "                                             id  \\\n",
       "0      0001d1afc246a7964130f43ae940af6bc6c57f01   \n",
       "1      0002095e55fcbd3a2f366d9bf92a95433dc305ef   \n",
       "2      00027e965c8264c35cc1bc55556db388da82b07f   \n",
       "3      0002c17436637c4fe1837c935c04de47adb18e9a   \n",
       "4      0003ad6ef0c37534f80b55b4235108024b407f0b   \n",
       "...                                         ...   \n",
       "99995  0cd7ec4013b0a6dbbc9f15ce8a7ff757db5b8ad9   \n",
       "99996  0cd84db8ebc91821d07d910e830d8710021a2d6a   \n",
       "99997  0cd875596eada9164e7d349d654697c342020b65   \n",
       "99998  0cd9048c654458e89b9f2a219da1b4d12bc6550f   \n",
       "99999  0cd96548b8dcfab467cc799bdc4b4b60a013fd15   \n",
       "\n",
       "                                                 article  \\\n",
       "0      By . Associated Press . PUBLISHED: . 14:11 EST...   \n",
       "1      (CNN) -- Ralph Mata was an internal affairs li...   \n",
       "2      A drunk driver who killed a young woman in a h...   \n",
       "3      (CNN) -- With a breezy sweep of his pen Presid...   \n",
       "4      Fleetwood are the only team still to have a 10...   \n",
       "...                                                  ...   \n",
       "99995  By . Deni Kirkova . PUBLISHED: . 05:54 EST, 1 ...   \n",
       "99996  A furious Harvard Business School professor ha...   \n",
       "99997  By . Daily Mail Reporter . Lewis Dale, 17, is ...   \n",
       "99998  By . Daily Mail Reporter . PUBLISHED: . 11:09 ...   \n",
       "99999  By . Daily Mail Reporter . PUBLISHED: . 18:03 ...   \n",
       "\n",
       "                                              highlights  \n",
       "0      Bishop John Folda, of North Dakota, is taking ...  \n",
       "1      Criminal complaint: Cop used his role to help ...  \n",
       "2      Craig Eccleston-Todd, 27, had drunk at least t...  \n",
       "3      Nina dos Santos says Europe must be ready to a...  \n",
       "4      Fleetwood top of League One after 2-0 win at S...  \n",
       "...                                                  ...  \n",
       "99995  Eleven innocent princesses raunch up as Miley ...  \n",
       "99996  Ben Edelman is an associate professor of busin...  \n",
       "99997  Lewis Dale, 17, weeps in the dock as he is tol...  \n",
       "99998  CCTV shows driver chase a man on a scooter and...  \n",
       "99999  Obama gave interview ahead of the Super Bowl i...  \n",
       "\n",
       "[100000 rows x 3 columns]"
      ]
     },
     "execution_count": 4,
     "metadata": {},
     "output_type": "execute_result"
    }
   ],
   "source": [
    "data"
   ]
  },
  {
   "cell_type": "markdown",
   "metadata": {},
   "source": [
    "Thực hiện tách từng file .txt nhỏ, phục vụ cho việc lưu trữ, đẩy file lên github với id đại diện cho tên file"
   ]
  },
  {
   "cell_type": "code",
   "execution_count": 5,
   "metadata": {},
   "outputs": [],
   "source": [
    "# Tạo thư mục để lưu file TXT nếu chưa tồn tại\n",
    "output_folder = '../data_summarize'  # Thay đổi tên thư mục nếu cần\n",
    "os.makedirs(output_folder, exist_ok=True)"
   ]
  },
  {
   "cell_type": "code",
   "execution_count": 6,
   "metadata": {},
   "outputs": [
    {
     "name": "stdout",
     "output_type": "stream",
     "text": [
      "Done!\n"
     ]
    }
   ],
   "source": [
    "# Lưu từng dòng dữ liệu thành file TXT\n",
    "for index, row in data.iterrows():\n",
    "    record = {\n",
    "        'article': row['article'].replace('\\\\\"', \"'\").replace('\\n', ''),\n",
    "        'highlights': row['highlights'].replace('\\\\\"', \"'\").replace('\\n', '')\n",
    "    }\n",
    "\n",
    "    output_file_path = os.path.join(output_folder, f\"{row['id']}.txt\")\n",
    "    \n",
    "    with open(output_file_path, 'w', encoding='utf-8') as output_file:\n",
    "        json.dump(record, output_file, ensure_ascii=False, indent=2)\n",
    "\n",
    "print(\"Done!\")"
   ]
  },
  {
   "cell_type": "markdown",
   "metadata": {},
   "source": [
    "### Thực hiện translate phần summary tạo target cho mô hình translate"
   ]
  },
  {
   "cell_type": "markdown",
   "metadata": {},
   "source": [
    "Với phần translate, nhóm sử dụng module translators cũng như đã thử nghiệm một số mô hình pretrained, kết quả dịch không đúng nghĩa, sát nghĩa,... dịch thiếu tokens,... nên nhóm thực hiện gán nhãn bằng tay với công cụ hỗ trợ: google dịch, gpt, poe.com, ..."
   ]
  },
  {
   "cell_type": "markdown",
   "metadata": {},
   "source": [
    "Do nguồn nhân lực và thời gian còn hạn chế, nhóm chỉ gán nhãn 1000 file bất kỳ để sử dụng cho quá tình fine-tuning model translate."
   ]
  },
  {
   "cell_type": "code",
   "execution_count": 8,
   "metadata": {},
   "outputs": [],
   "source": [
    "# Tạo thư mục để lưu file TXT nếu chưa tồn tại\n",
    "summarize_folder = '../data_summarize'\n",
    "translate_folder = '../data_translate'  # Thay đổi tên thư mục nếu cần\n",
    "os.makedirs(translate_folder, exist_ok=True)"
   ]
  },
  {
   "cell_type": "code",
   "execution_count": 14,
   "metadata": {},
   "outputs": [],
   "source": [
    "files = os.listdir(summarize_folder)"
   ]
  },
  {
   "cell_type": "code",
   "execution_count": 16,
   "metadata": {},
   "outputs": [
    {
     "name": "stdout",
     "output_type": "stream",
     "text": [
      "Done!\n"
     ]
    }
   ],
   "source": [
    "random_files = random.sample(files, 1000)\n",
    "for file_name in random_files:\n",
    "    with open(f\"{summarize_folder}/{file_name}\", 'r', encoding='utf-8') as file:\n",
    "        content = json.load(file)\n",
    "        translate_summary = ts.translate_text(content[\"highlights\"], # sử dụng google để dịch\n",
    "                                            from_language='en', to_language='vi', \n",
    "                                            translator='google')\n",
    "        content[\"vi\"] = translate_summary\n",
    "        with open(f\"{translate_folder}/{file_name}\", 'w', encoding='utf-8') as output_file:\n",
    "            json.dump(content, output_file, ensure_ascii=False, indent=2)\n",
    "print(\"Done!\")"
   ]
  },
  {
   "cell_type": "code",
   "execution_count": 4,
   "metadata": {},
   "outputs": [
    {
     "name": "stdout",
     "output_type": "stream",
     "text": [
      "Collecting python-docx\n",
      "  Downloading python_docx-1.1.0-py3-none-any.whl.metadata (2.0 kB)\n",
      "Requirement already satisfied: lxml>=3.1.0 in c:\\users\\vannt\\appdata\\local\\programs\\python\\python311\\lib\\site-packages (from python-docx) (4.9.3)\n",
      "Requirement already satisfied: typing-extensions in c:\\users\\vannt\\appdata\\local\\programs\\python\\python311\\lib\\site-packages (from python-docx) (4.5.0)\n",
      "Downloading python_docx-1.1.0-py3-none-any.whl (239 kB)\n",
      "   ---------------------------------------- 0.0/239.6 kB ? eta -:--:--\n",
      "   ----- --------------------------------- 30.7/239.6 kB 660.6 kB/s eta 0:00:01\n",
      "   ------------------ --------------------- 112.6/239.6 kB 1.1 MB/s eta 0:00:01\n",
      "   ---------------------------------------  235.5/239.6 kB 1.8 MB/s eta 0:00:01\n",
      "   ---------------------------------------- 239.6/239.6 kB 1.8 MB/s eta 0:00:00\n",
      "Installing collected packages: python-docx\n",
      "Successfully installed python-docx-1.1.0\n"
     ]
    },
    {
     "name": "stderr",
     "output_type": "stream",
     "text": [
      "DEPRECATION: Loading egg at c:\\users\\vannt\\appdata\\local\\programs\\python\\python311\\lib\\site-packages\\segmentizer-0.0.0-py3.11.egg is deprecated. pip 24.3 will enforce this behaviour change. A possible replacement is to use pip for package installation.. Discussion can be found at https://github.com/pypa/pip/issues/12330\n"
     ]
    }
   ],
   "source": [
    "!pip install python-docx"
   ]
  },
  {
   "cell_type": "code",
   "execution_count": 5,
   "metadata": {},
   "outputs": [],
   "source": [
    "from docx import Document"
   ]
  },
  {
   "cell_type": "code",
   "execution_count": 6,
   "metadata": {},
   "outputs": [],
   "source": [
    "# Tạo một tệp Word mới\n",
    "doc = Document()"
   ]
  },
  {
   "cell_type": "code",
   "execution_count": 3,
   "metadata": {},
   "outputs": [
    {
     "data": {
      "text/plain": [
       "1024"
      ]
     },
     "execution_count": 3,
     "metadata": {},
     "output_type": "execute_result"
    }
   ],
   "source": [
    "files = os.listdir(\"../data_translate/\")\n",
    "len(files)"
   ]
  },
  {
   "cell_type": "code",
   "execution_count": 84,
   "metadata": {},
   "outputs": [
    {
     "name": "stdout",
     "output_type": "stream",
     "text": [
      "00061f5113a7e6334310f88a12c54d87af483347.txt\n",
      "0016bfe904685ce40f094b07c294c2065dd3a194.txt\n",
      "0030ea36432cd0a5b36484bb603b3755d2fd0e70.txt\n",
      "0037acc8ecedb7b9ad3dbc87e229cec3eeea2bd6.txt\n",
      "00413c507d28a0a8fae46f6ceb0dd43fd8da91be.txt\n",
      "0055114867593ed8c267876b2d4bf0d2f5a97b88.txt\n",
      "00657a4cd247ea033769f76e67a6877c85272366.txt\n",
      "0075795e722ebab52dca94aa77e57d5697f3b5bf.txt\n",
      "00a88dc9b0180f451a5da788b7217f6f79ad7a72.txt\n",
      "00b4620df3af0867c75d25f09ded465961d0606d.txt\n",
      "00d6d510d38442787f99a722e750d65a66607284.txt\n",
      "00f222d27b211c4d83e77f297ccfebe6a652f900.txt\n",
      "010200b4de8d96a54927a29a3e981178dc8a6191.txt\n",
      "015a8b97ea8356ead2f47eaf36d2ace34c74cd7c.txt\n",
      "016d4e3406a41ec5d5fd499657763c5b2cb3fcab.txt\n",
      "017ff719d49d1a22576f86a6e9a2d31d45e51e28.txt\n",
      "01e027a594dc4246f98357cfe0eeaf93a17f1932.txt\n",
      "02037c9d409e08309f54303114df2147b375a673.txt\n",
      "02216bd7e684b2e34394956e5f8ba1137c128dde.txt\n",
      "022372866822cdec460aae2f0966668096105a9c.txt\n",
      "0232264637b8899463dbc2430d494387720c28a5.txt\n",
      "02590e027714f18d195f9a10383cc3d1d2b4d888.txt\n",
      "025bc7d93eaacc2ca9af9fca219918f141ea14b1.txt\n",
      "027ba47931bc136c5d7a3a380b455f33e6fcc4be.txt\n",
      "027c332f910bdb08fcef15cffd385e44f054ce84.txt\n",
      "027e64fe9c4b7368cbc2d97f3ebba807af1e7bd0.txt\n",
      "02887117a166b724f3e086138f91715c505c724d.txt\n",
      "02913ebe614dde5044074466db66846c3c6664c8.txt\n",
      "02981a8547a64f9bcdeca3c414ab8c4bd4b2c728.txt\n",
      "02a300f080fbcc72542d250b40220919af9d0c27.txt\n",
      "02ae2c063c33156ee8df58c82132f4411bddc082.txt\n",
      "02c42fd19729a5d9dc7323a4422d605a351d1140.txt\n",
      "02dac12600e61070b0836ff1486251c9398d49be.txt\n",
      "02f82731b92717f6a79cf2f5353421ad534f20b4.txt\n",
      "037779e3c01d7bf299de11cb0f02fd109a5c9d7c.txt\n",
      "0389bcf1dcb12e3e78ca65a0c1fd5e6196e5ef4a.txt\n",
      "03a0cef9c902928979ef731616fb96bd1fb10f9f.txt\n",
      "03aaac57cc56151f4029cb29fc30de30c9fa6ef5.txt\n",
      "03b6130f9621dfefa5f0166cdc69e5c3cebb9c2c.txt\n",
      "03c86dac15d0518d6b6905a9f4d1934912b5980a.txt\n",
      "03d39a3731d7ed01fda7e0c5c18aec929c8d4ac3.txt\n",
      "03de139f8846073064254251babe35a769df44d5.txt\n",
      "03e4c2f037fb281c42e13ea3f5d22304de7bc591.txt\n",
      "03f9020d485c6ec54ebff099a8f58abac2d15457.txt\n",
      "0425dca1ac689cadb0ab1e13172e0dfbb45c2680.txt\n",
      "04573a238e6333b598fab593be635af9969b5ad9.txt\n",
      "04587a5593d5df13bf16b5cff7a4bd82acf9802c.txt\n",
      "045dd47adc11cee5562cc279e8ff7f9749353448.txt\n",
      "048c4082640739aabf4df022253ca9d9b32d97d7.txt\n",
      "049b813b914b0d26c46c8139b5d62cbf67a94c83.txt\n",
      "04c1046616596d91e530b815916d5d8fb4dc4b42.txt\n",
      "04eac84634920fcb7a6720064ea5f61d87a28f5e.txt\n",
      "04f6ff38e40d588ae45a46f41d9222cdea2af7c5.txt\n",
      "04f771c9e24e83962b4fe0c9528534b6b0ca9c3f.txt\n",
      "050df87bef2ef405af64d575364b4da013ca4776.txt\n",
      "050ea68cfff49b99600bfc32ee6b9954c3bfc3f4.txt\n",
      "0517d4b1d1bbe31d38d820b5543d179230c5c217.txt\n",
      "05657b871694c3a5b31a0fc63746ef382b31e32c.txt\n",
      "0569d66dbf7560eafab5326bf447866642c36863.txt\n",
      "057a358613a1992b583e0f599839d96fa26c0705.txt\n",
      "0588fa1192a079492c7060fbe360078c3dcaea4c.txt\n",
      "05946054ad869d154df7db00035a2d7b4ce567c2.txt\n",
      "05a478ca7ce9c5d2ad4d158b60e8dbd7875af30b.txt\n",
      "05b103ef2968cb4b3ccd992df38b2435efd35514.txt\n",
      "05b10d20dedb88b751101009ce049176fda2cc2b.txt\n",
      "05b124956d14c4f4c927edf9022ce6494e234ef5.txt\n",
      "05ff520b07cbeaf0ce31d6ac47b5fecef4e368dd.txt\n",
      "06076f2ef624084b96e9fe2391115e185bfebd94.txt\n",
      "06116e48312f7cf328f4dd9adf6aa6c8f823612f.txt\n",
      "06199d34c9bcb6ec74a053acdfdd1b5056757ee6.txt\n",
      "0622bcd4df7d99350713b7679c91618f73db2e79.txt\n",
      "0624701392dd7dbd5cf03bd4151830153dce351e.txt\n",
      "062a6383bb2cfb6af92addac9f65f2025bc4e544.txt\n",
      "063b51aca8517a1192e1da44afd0df14aea26945.txt\n",
      "0646befe06ab66e5985bf65e23624c12061c150e.txt\n",
      "066e38c8e0e95f81fb3ef5211f6cad3395e0061d.txt\n",
      "067ea5e32e7dfff3307f402713f9bb40dcb6d226.txt\n",
      "069efc3f9f2947a3df49ed52a0c8699c578b3d98.txt\n",
      "069f4a86e373101f17ee2bd062199531fee1bbe5.txt\n",
      "06a1d362f5964f42b0c31f37a676facbd9755101.txt\n",
      "06add50acd5a021d786b57b3f8bbcce363fd295e.txt\n",
      "06babddb627395fbb6eb4e641be7a8a42d8c4794.txt\n",
      "06c0824b4c1df9201324589a297ae8c6a2ac1761.txt\n",
      "06f346487037e2a501f19db45aa104a0a72c3650.txt\n",
      "07248fd4cbd8ee1c43f3f78ee059867094295ead.txt\n",
      "073e893344cc1e4f682713ea1911f60495f1579e.txt\n",
      "07407dd09f4ae9faeeb2e34324e6998471b0ff3f.txt\n",
      "07892ee5eaaaabc27559fb6a0ad713f99275bcae.txt\n",
      "07b61152a9c88d7d65d09e1eac168f42abda910f.txt\n",
      "07f47d35563a43cb0c0968855986fa02d10902d4.txt\n",
      "07f6afb021de3507ab1473c6e505c66dd71dae10.txt\n",
      "08248967eb09e5eaac25fb4a9c7985c8777aeaee.txt\n",
      "0828b978b5d812c65316f7d8ac2149d5e2bf7973.txt\n",
      "0840428f2192b2726b0abb5135762260f6b6ea43.txt\n",
      "084b430714f1e62b0d9eb72308297675bd3d5163.txt\n",
      "0856d86f656a257467dc1f166737286afdea1032.txt\n",
      "087a4516360cf6aa32ecce38dc17bcb113d66106.txt\n",
      "08c036459832ba494003f0383dde67496b777aa6.txt\n",
      "08d17e02c6fc7cb9fbd530feb378cc192b371639.txt\n",
      "08e1753c759e4ef95603b437cb366f758d0f9825.txt\n"
     ]
    }
   ],
   "source": [
    "for file_name in files[:100]:\n",
    "    print(file_name)\n",
    "    # Đọc nội dung từ trường \"highlights\" trong tệp JSON\n",
    "    with open(f\"../data_translate/{file_name}\", 'r', encoding='utf-8') as file:\n",
    "        content = json.load(file)\n",
    "        highlights = content[\"highlights\"]\n",
    "\n",
    "    # Thêm nội dung vào tệp Word\n",
    "    doc.add_heading(file_name, level=1)\n",
    "    doc.add_paragraph(highlights)\n",
    "\n",
    "# Lưu tệp Word\n",
    "doc.save(\"../../highlights.docx\")"
   ]
  },
  {
   "cell_type": "code",
   "execution_count": null,
   "metadata": {},
   "outputs": [],
   "source": [
    "translate_folder = \"../data_translate/\"\n",
    "docx_folder = \"../../sub.docx\""
   ]
  },
  {
   "cell_type": "markdown",
   "metadata": {},
   "source": [
    "---"
   ]
  }
 ],
 "metadata": {
  "kernelspec": {
   "display_name": "Python 3",
   "language": "python",
   "name": "python3"
  },
  "language_info": {
   "codemirror_mode": {
    "name": "ipython",
    "version": 3
   },
   "file_extension": ".py",
   "mimetype": "text/x-python",
   "name": "python",
   "nbconvert_exporter": "python",
   "pygments_lexer": "ipython3",
   "version": "3.11.5"
  }
 },
 "nbformat": 4,
 "nbformat_minor": 2
}
