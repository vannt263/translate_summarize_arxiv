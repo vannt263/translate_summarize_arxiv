{
 "cells": [
  {
   "cell_type": "markdown",
   "metadata": {},
   "source": [
    "### Import thư viện"
   ]
  },
  {
   "cell_type": "code",
   "execution_count": 1,
   "metadata": {},
   "outputs": [],
   "source": [
    "import os\n",
    "import json\n",
    "import random"
   ]
  },
  {
   "cell_type": "code",
   "execution_count": 2,
   "metadata": {},
   "outputs": [],
   "source": [
    "import pandas as pd\n",
    "import translators as ts"
   ]
  },
  {
   "cell_type": "markdown",
   "metadata": {},
   "source": [
    "<em>Vui lòng không chạy code này !</em>"
   ]
  },
  {
   "cell_type": "markdown",
   "metadata": {},
   "source": [
    "### Giữ lại một số lượng file phù hợp"
   ]
  },
  {
   "cell_type": "markdown",
   "metadata": {},
   "source": [
    "Nhóm sử dụng file train.csv có dung lượng > 1.2GB chứa các tin tức từ 2 kênh thông tin online CNN và Daily Mail. Do hạn chế về việc lưu trữ trên github cũng như các đơn vị tính toán (RAM) trên laptop cá nhân, nhóm sử dụng 100.000 dòng đầu tiên của file csv (tương ứng 100000 bài báo tiếng anh) để làm dữ liệu thực hiện project này."
   ]
  },
  {
   "cell_type": "code",
   "execution_count": 3,
   "metadata": {},
   "outputs": [],
   "source": [
    "data = pd.read_csv(\"../../train.csv\", nrows=100000)"
   ]
  },
  {
   "cell_type": "code",
   "execution_count": 4,
   "metadata": {},
   "outputs": [
    {
     "data": {
      "text/html": [
       "<div>\n",
       "<style scoped>\n",
       "    .dataframe tbody tr th:only-of-type {\n",
       "        vertical-align: middle;\n",
       "    }\n",
       "\n",
       "    .dataframe tbody tr th {\n",
       "        vertical-align: top;\n",
       "    }\n",
       "\n",
       "    .dataframe thead th {\n",
       "        text-align: right;\n",
       "    }\n",
       "</style>\n",
       "<table border=\"1\" class=\"dataframe\">\n",
       "  <thead>\n",
       "    <tr style=\"text-align: right;\">\n",
       "      <th></th>\n",
       "      <th>id</th>\n",
       "      <th>article</th>\n",
       "      <th>highlights</th>\n",
       "    </tr>\n",
       "  </thead>\n",
       "  <tbody>\n",
       "    <tr>\n",
       "      <th>0</th>\n",
       "      <td>0001d1afc246a7964130f43ae940af6bc6c57f01</td>\n",
       "      <td>By . Associated Press . PUBLISHED: . 14:11 EST...</td>\n",
       "      <td>Bishop John Folda, of North Dakota, is taking ...</td>\n",
       "    </tr>\n",
       "    <tr>\n",
       "      <th>1</th>\n",
       "      <td>0002095e55fcbd3a2f366d9bf92a95433dc305ef</td>\n",
       "      <td>(CNN) -- Ralph Mata was an internal affairs li...</td>\n",
       "      <td>Criminal complaint: Cop used his role to help ...</td>\n",
       "    </tr>\n",
       "    <tr>\n",
       "      <th>2</th>\n",
       "      <td>00027e965c8264c35cc1bc55556db388da82b07f</td>\n",
       "      <td>A drunk driver who killed a young woman in a h...</td>\n",
       "      <td>Craig Eccleston-Todd, 27, had drunk at least t...</td>\n",
       "    </tr>\n",
       "    <tr>\n",
       "      <th>3</th>\n",
       "      <td>0002c17436637c4fe1837c935c04de47adb18e9a</td>\n",
       "      <td>(CNN) -- With a breezy sweep of his pen Presid...</td>\n",
       "      <td>Nina dos Santos says Europe must be ready to a...</td>\n",
       "    </tr>\n",
       "    <tr>\n",
       "      <th>4</th>\n",
       "      <td>0003ad6ef0c37534f80b55b4235108024b407f0b</td>\n",
       "      <td>Fleetwood are the only team still to have a 10...</td>\n",
       "      <td>Fleetwood top of League One after 2-0 win at S...</td>\n",
       "    </tr>\n",
       "    <tr>\n",
       "      <th>...</th>\n",
       "      <td>...</td>\n",
       "      <td>...</td>\n",
       "      <td>...</td>\n",
       "    </tr>\n",
       "    <tr>\n",
       "      <th>99995</th>\n",
       "      <td>0cd7ec4013b0a6dbbc9f15ce8a7ff757db5b8ad9</td>\n",
       "      <td>By . Deni Kirkova . PUBLISHED: . 05:54 EST, 1 ...</td>\n",
       "      <td>Eleven innocent princesses raunch up as Miley ...</td>\n",
       "    </tr>\n",
       "    <tr>\n",
       "      <th>99996</th>\n",
       "      <td>0cd84db8ebc91821d07d910e830d8710021a2d6a</td>\n",
       "      <td>A furious Harvard Business School professor ha...</td>\n",
       "      <td>Ben Edelman is an associate professor of busin...</td>\n",
       "    </tr>\n",
       "    <tr>\n",
       "      <th>99997</th>\n",
       "      <td>0cd875596eada9164e7d349d654697c342020b65</td>\n",
       "      <td>By . Daily Mail Reporter . Lewis Dale, 17, is ...</td>\n",
       "      <td>Lewis Dale, 17, weeps in the dock as he is tol...</td>\n",
       "    </tr>\n",
       "    <tr>\n",
       "      <th>99998</th>\n",
       "      <td>0cd9048c654458e89b9f2a219da1b4d12bc6550f</td>\n",
       "      <td>By . Daily Mail Reporter . PUBLISHED: . 11:09 ...</td>\n",
       "      <td>CCTV shows driver chase a man on a scooter and...</td>\n",
       "    </tr>\n",
       "    <tr>\n",
       "      <th>99999</th>\n",
       "      <td>0cd96548b8dcfab467cc799bdc4b4b60a013fd15</td>\n",
       "      <td>By . Daily Mail Reporter . PUBLISHED: . 18:03 ...</td>\n",
       "      <td>Obama gave interview ahead of the Super Bowl i...</td>\n",
       "    </tr>\n",
       "  </tbody>\n",
       "</table>\n",
       "<p>100000 rows × 3 columns</p>\n",
       "</div>"
      ],
      "text/plain": [
       "                                             id  \\\n",
       "0      0001d1afc246a7964130f43ae940af6bc6c57f01   \n",
       "1      0002095e55fcbd3a2f366d9bf92a95433dc305ef   \n",
       "2      00027e965c8264c35cc1bc55556db388da82b07f   \n",
       "3      0002c17436637c4fe1837c935c04de47adb18e9a   \n",
       "4      0003ad6ef0c37534f80b55b4235108024b407f0b   \n",
       "...                                         ...   \n",
       "99995  0cd7ec4013b0a6dbbc9f15ce8a7ff757db5b8ad9   \n",
       "99996  0cd84db8ebc91821d07d910e830d8710021a2d6a   \n",
       "99997  0cd875596eada9164e7d349d654697c342020b65   \n",
       "99998  0cd9048c654458e89b9f2a219da1b4d12bc6550f   \n",
       "99999  0cd96548b8dcfab467cc799bdc4b4b60a013fd15   \n",
       "\n",
       "                                                 article  \\\n",
       "0      By . Associated Press . PUBLISHED: . 14:11 EST...   \n",
       "1      (CNN) -- Ralph Mata was an internal affairs li...   \n",
       "2      A drunk driver who killed a young woman in a h...   \n",
       "3      (CNN) -- With a breezy sweep of his pen Presid...   \n",
       "4      Fleetwood are the only team still to have a 10...   \n",
       "...                                                  ...   \n",
       "99995  By . Deni Kirkova . PUBLISHED: . 05:54 EST, 1 ...   \n",
       "99996  A furious Harvard Business School professor ha...   \n",
       "99997  By . Daily Mail Reporter . Lewis Dale, 17, is ...   \n",
       "99998  By . Daily Mail Reporter . PUBLISHED: . 11:09 ...   \n",
       "99999  By . Daily Mail Reporter . PUBLISHED: . 18:03 ...   \n",
       "\n",
       "                                              highlights  \n",
       "0      Bishop John Folda, of North Dakota, is taking ...  \n",
       "1      Criminal complaint: Cop used his role to help ...  \n",
       "2      Craig Eccleston-Todd, 27, had drunk at least t...  \n",
       "3      Nina dos Santos says Europe must be ready to a...  \n",
       "4      Fleetwood top of League One after 2-0 win at S...  \n",
       "...                                                  ...  \n",
       "99995  Eleven innocent princesses raunch up as Miley ...  \n",
       "99996  Ben Edelman is an associate professor of busin...  \n",
       "99997  Lewis Dale, 17, weeps in the dock as he is tol...  \n",
       "99998  CCTV shows driver chase a man on a scooter and...  \n",
       "99999  Obama gave interview ahead of the Super Bowl i...  \n",
       "\n",
       "[100000 rows x 3 columns]"
      ]
     },
     "execution_count": 4,
     "metadata": {},
     "output_type": "execute_result"
    }
   ],
   "source": [
    "data"
   ]
  },
  {
   "cell_type": "markdown",
   "metadata": {},
   "source": [
    "Thực hiện tách từng file .txt nhỏ, phục vụ cho việc lưu trữ, đẩy file lên github với id đại diện cho tên file"
   ]
  },
  {
   "cell_type": "code",
   "execution_count": 5,
   "metadata": {},
   "outputs": [],
   "source": [
    "# Tạo thư mục để lưu file TXT nếu chưa tồn tại\n",
    "output_folder = '../data_summarize'  # Thay đổi tên thư mục nếu cần\n",
    "os.makedirs(output_folder, exist_ok=True)"
   ]
  },
  {
   "cell_type": "code",
   "execution_count": 6,
   "metadata": {},
   "outputs": [
    {
     "name": "stdout",
     "output_type": "stream",
     "text": [
      "Done!\n"
     ]
    }
   ],
   "source": [
    "# Lưu từng dòng dữ liệu thành file TXT\n",
    "for index, row in data.iterrows():\n",
    "    record = {\n",
    "        'article': row['article'].replace('\\\\\"', \"'\").replace('\\n', ''),\n",
    "        'highlights': row['highlights'].replace('\\\\\"', \"'\").replace('\\n', '')\n",
    "    }\n",
    "\n",
    "    output_file_path = os.path.join(output_folder, f\"{row['id']}.txt\")\n",
    "    \n",
    "    with open(output_file_path, 'w', encoding='utf-8') as output_file:\n",
    "        json.dump(record, output_file, ensure_ascii=False, indent=2)\n",
    "\n",
    "print(\"Done!\")"
   ]
  },
  {
   "cell_type": "markdown",
   "metadata": {},
   "source": [
    "### Thực hiện translate phần summary tạo target cho mô hình translate"
   ]
  },
  {
   "cell_type": "markdown",
   "metadata": {},
   "source": [
    "Với phần translate, nhóm sử dụng module translators cũng như đã thử nghiệm một số mô hình pretrained, kết quả dịch không đúng nghĩa, sát nghĩa,... dịch thiếu tokens,... nên nhóm thực hiện gán nhãn bằng tay với công cụ hỗ trợ: google dịch, gpt, poe.com, ..."
   ]
  },
  {
   "cell_type": "markdown",
   "metadata": {},
   "source": [
    "Do nguồn nhân lực và thời gian còn hạn chế, nhóm chỉ gán nhãn 1000 file bất kỳ để sử dụng cho quá tình fine-tuning model translate."
   ]
  },
  {
   "cell_type": "code",
   "execution_count": 8,
   "metadata": {},
   "outputs": [],
   "source": [
    "# Tạo thư mục để lưu file TXT nếu chưa tồn tại\n",
    "summarize_folder = '../data_summarize'\n",
    "translate_folder = '../data_translate'  # Thay đổi tên thư mục nếu cần\n",
    "os.makedirs(translate_folder, exist_ok=True)"
   ]
  },
  {
   "cell_type": "code",
   "execution_count": 14,
   "metadata": {},
   "outputs": [],
   "source": [
    "files = os.listdir(summarize_folder)"
   ]
  },
  {
   "cell_type": "code",
   "execution_count": 16,
   "metadata": {},
   "outputs": [
    {
     "name": "stdout",
     "output_type": "stream",
     "text": [
      "Done!\n"
     ]
    }
   ],
   "source": [
    "random_files = random.sample(files, 1000)\n",
    "for file_name in random_files:\n",
    "    with open(f\"{summarize_folder}/{file_name}\", 'r', encoding='utf-8') as file:\n",
    "        content = json.load(file)\n",
    "        translate_summary = ts.translate_text(content[\"highlights\"], # sử dụng google để dịch\n",
    "                                            from_language='en', to_language='vi', \n",
    "                                            translator='google')\n",
    "        content[\"vi\"] = translate_summary\n",
    "        with open(f\"{translate_folder}/{file_name}\", 'w', encoding='utf-8') as output_file:\n",
    "            json.dump(content, output_file, ensure_ascii=False, indent=2)\n",
    "print(\"Done!\")"
   ]
  },
  {
   "cell_type": "code",
   "execution_count": 7,
   "metadata": {},
   "outputs": [],
   "source": [
    "import os\n",
    "import json\n",
    "import random\n",
    "from docx import Document"
   ]
  },
  {
   "cell_type": "code",
   "execution_count": 8,
   "metadata": {},
   "outputs": [],
   "source": [
    "# Tạo một tệp Word mới\n",
    "doc = Document()"
   ]
  },
  {
   "cell_type": "code",
   "execution_count": 9,
   "metadata": {},
   "outputs": [
    {
     "data": {
      "text/plain": [
       "1024"
      ]
     },
     "execution_count": 9,
     "metadata": {},
     "output_type": "execute_result"
    }
   ],
   "source": [
    "files = os.listdir(\"../data_translate/\")\n",
    "len(files)"
   ]
  },
  {
   "cell_type": "code",
   "execution_count": 27,
   "metadata": {},
   "outputs": [
    {
     "name": "stdout",
     "output_type": "stream",
     "text": [
      "2752842df798ebb50ed5d0ec7623dcb211c3954a.txt\n",
      "275b7f8a9d3583a094870826aec4717a1dfbceb9.txt\n",
      "2786b73e5b990e3b058d34b9d21860276dba8608.txt\n",
      "283955f0f19032ea092eccb8cce47d3fefb1c411.txt\n",
      "28df69b473ce59bee43578416d04014265511941.txt\n",
      "290453fb2df5df462b5a051627ca61c1d50c6d5e.txt\n",
      "29174d069e4dbb798cffd3b0835bd36fe8d12f84.txt\n",
      "291dc68e83217a124c2c887a8f2be424b981543c.txt\n",
      "29ea3cdd03e25342d9cbf5a77570fc7a85a7c83e.txt\n",
      "29fdac7fcdd1815538704bf5d2bb7af3075e8dc1.txt\n",
      "2a19040a2ce5d0c404bdf8c89b58c76b2434c314.txt\n",
      "2b3c42102c44f6e345664ee63c3112de24baa5af.txt\n",
      "2b5794fb8e8970f5b9a039eae46e13f2b85d5dc4.txt\n",
      "2b776db4fa06f6105ce817e013e0e51500baace4.txt\n",
      "2bd9dab6dcd0bea9b9bcc51bce0195438565fa09.txt\n",
      "2c1f43d4be102a2d69159e42d957ee944041a181.txt\n",
      "2c239623079d3aff91a53280871548da42a6619c.txt\n",
      "2c5cfdf19bc01c1e61b80146f3d40d06d163a7ca.txt\n",
      "2c659bc2400695eacedeecd0b287974747a49028.txt\n",
      "2c97987873065931d5bc093b247ed00948866fc6.txt\n",
      "2cc736fcef4b69bed1ec66ff1b73d449174446f7.txt\n",
      "2d27fa5c03ed625427c7f8d8855a52bc8cca9875.txt\n",
      "2d4583dbbd32082efef17e1cc16a05752a2d1a82.txt\n",
      "2d47fe24354b7d6e257a3dd408e5fae275c71cb4.txt\n",
      "2d4c55735d9291bc7bd57fb1a8ec8468bcf9ed55.txt\n",
      "2d89b8c34cbb41bc6d83d4044c56f42bd89a5b42.txt\n",
      "2d95a3ea28d7b793f89c32894d14af6dbf21c67e.txt\n",
      "2e070474fcd658e6fdc5001b202c70f22f55821a.txt\n",
      "2e2846776914ea3cd239489ccd23555ee1307925.txt\n",
      "2e670ef2110533c703b35ff4b843cb409c6112d6.txt\n",
      "2e85ab79f8fb1e3cfff709c49337107adb0bf8e6.txt\n",
      "2ea3a5ea2df2a5770d2faff58632f5eb714395bc.txt\n",
      "2eadc6c11673ec113817472f752c459a548a3dd7.txt\n",
      "2ee16a16278191845c1b90ac0f68ff13bcd4d1ea.txt\n",
      "2f0c85898590cc95011edd835a826187f9d3ff57.txt\n",
      "2f1443fa6beb3d4aea50526db2f58c7658f958f6.txt\n",
      "2f4170cf9d21eccca3538e3f43b23838b175c2eb.txt\n",
      "2f531e1632a17a98ddd7a4429e60c493573369df.txt\n",
      "2f739044a3fc425510ab3ae0ba75277e7400c09f.txt\n",
      "2fb2788ab57cc30b53e65fd46d9655c0d6506f0d.txt\n",
      "2ff8adc731a2ef762085381ccffb58de98656ef9.txt\n",
      "300c8cea1a2f6fc29dcd5175369e7068ac658f3a.txt\n",
      "306525220ca98a0164c44bc63965be38ecfafb86.txt\n",
      "31469f82c80baccd02bb200941879f2562f8642c.txt\n",
      "324204a9c2ce94a23baed5a9a4bca30a25ea9ab8.txt\n",
      "325dba961694aab000eab0bcaa4bc2f7221f1f6b.txt\n",
      "327097c88f736de6aa81b0826065232c99b58984.txt\n",
      "327ce33b2be612dfdd25a41208cfd40c9c56b7d1.txt\n",
      "328fd32ecb3b0e355e05d907bc9ac49faeb16031.txt\n",
      "32f0921d18ca59d728553ce1f25d9ce8e87e291b.txt\n"
     ]
    }
   ],
   "source": [
    "for file_name in files[250:300]:\n",
    "    print(file_name)\n",
    "    # Đọc nội dung từ trường \"highlights\" trong tệp JSON\n",
    "    with open(f\"../data_translate/{file_name}\", 'r', encoding='utf-8') as file:\n",
    "        content = json.load(file)\n",
    "        highlights = content[\"highlights\"]\n",
    "\n",
    "    # Thêm nội dung vào tệp Word\n",
    "    doc.add_heading(file_name, level=1)\n",
    "    doc.add_paragraph(highlights)\n",
    "\n",
    "# Lưu tệp Word\n",
    "doc.save(\"../../highlights.docx\")"
   ]
  },
  {
   "cell_type": "code",
   "execution_count": 28,
   "metadata": {},
   "outputs": [],
   "source": [
    "translate_folder = \"../data_translate/\"\n",
    "docx_folder = \"../../sub.docx\""
   ]
  },
  {
   "cell_type": "code",
   "execution_count": 29,
   "metadata": {},
   "outputs": [
    {
     "name": "stdout",
     "output_type": "stream",
     "text": [
      "Đã cập nhật nội dung từ highlights.docx vào 00061f5113a7e6334310f88a12c54d87af483347.txt thành công.\n",
      "Đã cập nhật nội dung từ highlights.docx vào 0016bfe904685ce40f094b07c294c2065dd3a194.txt thành công.\n",
      "Đã cập nhật nội dung từ highlights.docx vào 0030ea36432cd0a5b36484bb603b3755d2fd0e70.txt thành công.\n",
      "Đã cập nhật nội dung từ highlights.docx vào 0037acc8ecedb7b9ad3dbc87e229cec3eeea2bd6.txt thành công.\n",
      "Đã cập nhật nội dung từ highlights.docx vào 00413c507d28a0a8fae46f6ceb0dd43fd8da91be.txt thành công.\n",
      "Đã cập nhật nội dung từ highlights.docx vào 0055114867593ed8c267876b2d4bf0d2f5a97b88.txt thành công.\n",
      "Đã cập nhật nội dung từ highlights.docx vào 00657a4cd247ea033769f76e67a6877c85272366.txt thành công.\n",
      "Đã cập nhật nội dung từ highlights.docx vào 0075795e722ebab52dca94aa77e57d5697f3b5bf.txt thành công.\n",
      "Đã cập nhật nội dung từ highlights.docx vào 00a88dc9b0180f451a5da788b7217f6f79ad7a72.txt thành công.\n",
      "Đã cập nhật nội dung từ highlights.docx vào 00b4620df3af0867c75d25f09ded465961d0606d.txt thành công.\n",
      "Đã cập nhật nội dung từ highlights.docx vào 00d6d510d38442787f99a722e750d65a66607284.txt thành công.\n",
      "Đã cập nhật nội dung từ highlights.docx vào 00f222d27b211c4d83e77f297ccfebe6a652f900.txt thành công.\n",
      "Đã cập nhật nội dung từ highlights.docx vào 010200b4de8d96a54927a29a3e981178dc8a6191.txt thành công.\n",
      "Đã cập nhật nội dung từ highlights.docx vào 015a8b97ea8356ead2f47eaf36d2ace34c74cd7c.txt thành công.\n",
      "Đã cập nhật nội dung từ highlights.docx vào 016d4e3406a41ec5d5fd499657763c5b2cb3fcab.txt thành công.\n",
      "Đã cập nhật nội dung từ highlights.docx vào 017ff719d49d1a22576f86a6e9a2d31d45e51e28.txt thành công.\n",
      "Đã cập nhật nội dung từ highlights.docx vào 01e027a594dc4246f98357cfe0eeaf93a17f1932.txt thành công.\n",
      "Đã cập nhật nội dung từ highlights.docx vào 02037c9d409e08309f54303114df2147b375a673.txt thành công.\n",
      "Đã cập nhật nội dung từ highlights.docx vào 02216bd7e684b2e34394956e5f8ba1137c128dde.txt thành công.\n",
      "Đã cập nhật nội dung từ highlights.docx vào 022372866822cdec460aae2f0966668096105a9c.txt thành công.\n",
      "Đã cập nhật nội dung từ highlights.docx vào 0232264637b8899463dbc2430d494387720c28a5.txt thành công.\n",
      "Đã cập nhật nội dung từ highlights.docx vào 02590e027714f18d195f9a10383cc3d1d2b4d888.txt thành công.\n",
      "Đã cập nhật nội dung từ highlights.docx vào 025bc7d93eaacc2ca9af9fca219918f141ea14b1.txt thành công.\n",
      "Đã cập nhật nội dung từ highlights.docx vào 027ba47931bc136c5d7a3a380b455f33e6fcc4be.txt thành công.\n",
      "Đã cập nhật nội dung từ highlights.docx vào 027c332f910bdb08fcef15cffd385e44f054ce84.txt thành công.\n",
      "Đã cập nhật nội dung từ highlights.docx vào 027e64fe9c4b7368cbc2d97f3ebba807af1e7bd0.txt thành công.\n",
      "Đã cập nhật nội dung từ highlights.docx vào 02887117a166b724f3e086138f91715c505c724d.txt thành công.\n",
      "Đã cập nhật nội dung từ highlights.docx vào 02913ebe614dde5044074466db66846c3c6664c8.txt thành công.\n",
      "Đã cập nhật nội dung từ highlights.docx vào 02981a8547a64f9bcdeca3c414ab8c4bd4b2c728.txt thành công.\n",
      "Đã cập nhật nội dung từ highlights.docx vào 02a300f080fbcc72542d250b40220919af9d0c27.txt thành công.\n",
      "Đã cập nhật nội dung từ highlights.docx vào 02ae2c063c33156ee8df58c82132f4411bddc082.txt thành công.\n",
      "Đã cập nhật nội dung từ highlights.docx vào 02c42fd19729a5d9dc7323a4422d605a351d1140.txt thành công.\n",
      "Đã cập nhật nội dung từ highlights.docx vào 02dac12600e61070b0836ff1486251c9398d49be.txt thành công.\n",
      "Đã cập nhật nội dung từ highlights.docx vào 02f82731b92717f6a79cf2f5353421ad534f20b4.txt thành công.\n",
      "Đã cập nhật nội dung từ highlights.docx vào 037779e3c01d7bf299de11cb0f02fd109a5c9d7c.txt thành công.\n",
      "Đã cập nhật nội dung từ highlights.docx vào 0389bcf1dcb12e3e78ca65a0c1fd5e6196e5ef4a.txt thành công.\n",
      "Đã cập nhật nội dung từ highlights.docx vào 03a0cef9c902928979ef731616fb96bd1fb10f9f.txt thành công.\n",
      "Đã cập nhật nội dung từ highlights.docx vào 03aaac57cc56151f4029cb29fc30de30c9fa6ef5.txt thành công.\n",
      "Đã cập nhật nội dung từ highlights.docx vào 03b6130f9621dfefa5f0166cdc69e5c3cebb9c2c.txt thành công.\n",
      "Đã cập nhật nội dung từ highlights.docx vào 03c86dac15d0518d6b6905a9f4d1934912b5980a.txt thành công.\n",
      "Đã cập nhật nội dung từ highlights.docx vào 03d39a3731d7ed01fda7e0c5c18aec929c8d4ac3.txt thành công.\n",
      "Đã cập nhật nội dung từ highlights.docx vào 03de139f8846073064254251babe35a769df44d5.txt thành công.\n",
      "Đã cập nhật nội dung từ highlights.docx vào 03e4c2f037fb281c42e13ea3f5d22304de7bc591.txt thành công.\n",
      "Đã cập nhật nội dung từ highlights.docx vào 03f9020d485c6ec54ebff099a8f58abac2d15457.txt thành công.\n",
      "Đã cập nhật nội dung từ highlights.docx vào 0425dca1ac689cadb0ab1e13172e0dfbb45c2680.txt thành công.\n",
      "Đã cập nhật nội dung từ highlights.docx vào 04573a238e6333b598fab593be635af9969b5ad9.txt thành công.\n",
      "Đã cập nhật nội dung từ highlights.docx vào 04587a5593d5df13bf16b5cff7a4bd82acf9802c.txt thành công.\n",
      "Đã cập nhật nội dung từ highlights.docx vào 045dd47adc11cee5562cc279e8ff7f9749353448.txt thành công.\n",
      "Đã cập nhật nội dung từ highlights.docx vào 048c4082640739aabf4df022253ca9d9b32d97d7.txt thành công.\n",
      "Đã cập nhật nội dung từ highlights.docx vào 049b813b914b0d26c46c8139b5d62cbf67a94c83.txt thành công.\n",
      "Đã cập nhật nội dung từ highlights.docx vào 04c1046616596d91e530b815916d5d8fb4dc4b42.txt thành công.\n",
      "Đã cập nhật nội dung từ highlights.docx vào 04eac84634920fcb7a6720064ea5f61d87a28f5e.txt thành công.\n",
      "Đã cập nhật nội dung từ highlights.docx vào 04f6ff38e40d588ae45a46f41d9222cdea2af7c5.txt thành công.\n",
      "Đã cập nhật nội dung từ highlights.docx vào 04f771c9e24e83962b4fe0c9528534b6b0ca9c3f.txt thành công.\n",
      "Đã cập nhật nội dung từ highlights.docx vào 050df87bef2ef405af64d575364b4da013ca4776.txt thành công.\n",
      "Đã cập nhật nội dung từ highlights.docx vào 050ea68cfff49b99600bfc32ee6b9954c3bfc3f4.txt thành công.\n",
      "Đã cập nhật nội dung từ highlights.docx vào 0517d4b1d1bbe31d38d820b5543d179230c5c217.txt thành công.\n",
      "Đã cập nhật nội dung từ highlights.docx vào 05657b871694c3a5b31a0fc63746ef382b31e32c.txt thành công.\n",
      "Đã cập nhật nội dung từ highlights.docx vào 0569d66dbf7560eafab5326bf447866642c36863.txt thành công.\n",
      "Đã cập nhật nội dung từ highlights.docx vào 057a358613a1992b583e0f599839d96fa26c0705.txt thành công.\n",
      "Đã cập nhật nội dung từ highlights.docx vào 0588fa1192a079492c7060fbe360078c3dcaea4c.txt thành công.\n",
      "Đã cập nhật nội dung từ highlights.docx vào 05946054ad869d154df7db00035a2d7b4ce567c2.txt thành công.\n",
      "Đã cập nhật nội dung từ highlights.docx vào 05a478ca7ce9c5d2ad4d158b60e8dbd7875af30b.txt thành công.\n",
      "Đã cập nhật nội dung từ highlights.docx vào 05b103ef2968cb4b3ccd992df38b2435efd35514.txt thành công.\n",
      "Đã cập nhật nội dung từ highlights.docx vào 05b10d20dedb88b751101009ce049176fda2cc2b.txt thành công.\n",
      "Đã cập nhật nội dung từ highlights.docx vào 05b124956d14c4f4c927edf9022ce6494e234ef5.txt thành công.\n",
      "Đã cập nhật nội dung từ highlights.docx vào 05ff520b07cbeaf0ce31d6ac47b5fecef4e368dd.txt thành công.\n",
      "Đã cập nhật nội dung từ highlights.docx vào 06076f2ef624084b96e9fe2391115e185bfebd94.txt thành công.\n",
      "Đã cập nhật nội dung từ highlights.docx vào 06116e48312f7cf328f4dd9adf6aa6c8f823612f.txt thành công.\n",
      "Đã cập nhật nội dung từ highlights.docx vào 06199d34c9bcb6ec74a053acdfdd1b5056757ee6.txt thành công.\n",
      "Đã cập nhật nội dung từ highlights.docx vào 0622bcd4df7d99350713b7679c91618f73db2e79.txt thành công.\n",
      "Đã cập nhật nội dung từ highlights.docx vào 0624701392dd7dbd5cf03bd4151830153dce351e.txt thành công.\n",
      "Đã cập nhật nội dung từ highlights.docx vào 062a6383bb2cfb6af92addac9f65f2025bc4e544.txt thành công.\n",
      "Đã cập nhật nội dung từ highlights.docx vào 063b51aca8517a1192e1da44afd0df14aea26945.txt thành công.\n",
      "Đã cập nhật nội dung từ highlights.docx vào 0646befe06ab66e5985bf65e23624c12061c150e.txt thành công.\n",
      "Đã cập nhật nội dung từ highlights.docx vào 066e38c8e0e95f81fb3ef5211f6cad3395e0061d.txt thành công.\n",
      "Đã cập nhật nội dung từ highlights.docx vào 067ea5e32e7dfff3307f402713f9bb40dcb6d226.txt thành công.\n",
      "Đã cập nhật nội dung từ highlights.docx vào 069efc3f9f2947a3df49ed52a0c8699c578b3d98.txt thành công.\n",
      "Đã cập nhật nội dung từ highlights.docx vào 069f4a86e373101f17ee2bd062199531fee1bbe5.txt thành công.\n",
      "Đã cập nhật nội dung từ highlights.docx vào 06a1d362f5964f42b0c31f37a676facbd9755101.txt thành công.\n",
      "Đã cập nhật nội dung từ highlights.docx vào 06add50acd5a021d786b57b3f8bbcce363fd295e.txt thành công.\n",
      "Đã cập nhật nội dung từ highlights.docx vào 06babddb627395fbb6eb4e641be7a8a42d8c4794.txt thành công.\n",
      "Đã cập nhật nội dung từ highlights.docx vào 06c0824b4c1df9201324589a297ae8c6a2ac1761.txt thành công.\n",
      "Đã cập nhật nội dung từ highlights.docx vào 06f346487037e2a501f19db45aa104a0a72c3650.txt thành công.\n",
      "Đã cập nhật nội dung từ highlights.docx vào 07248fd4cbd8ee1c43f3f78ee059867094295ead.txt thành công.\n",
      "Đã cập nhật nội dung từ highlights.docx vào 073e893344cc1e4f682713ea1911f60495f1579e.txt thành công.\n",
      "Đã cập nhật nội dung từ highlights.docx vào 07407dd09f4ae9faeeb2e34324e6998471b0ff3f.txt thành công.\n",
      "Đã cập nhật nội dung từ highlights.docx vào 07892ee5eaabc27559fb6a0ad713f99275bcae.txt thành công.\n",
      "Đã cập nhật nội dung từ highlights.docx vào 07b61152a9c88d7d65d09e1eac168f42abda910f.txt thành công.\n",
      "Đã cập nhật nội dung từ highlights.docx vào 07f47d35563a43cb0c0968855986fa02d10902d4.txt thành công.\n",
      "Đã cập nhật nội dung từ highlights.docx vào 07f6afb021de3507ab1473c6e505c66dd71dae10.txt thành công.\n",
      "Đã cập nhật nội dung từ highlights.docx vào 08248967eb09e5eaac25fb4a9c7985c8777aeaee.txt thành công.\n",
      "Đã cập nhật nội dung từ highlights.docx vào 0828b978b5d812c65316f7d8ac2149d5e2bf7973.txt thành công.\n",
      "Đã cập nhật nội dung từ highlights.docx vào 0840428f2192b2726b0abb5135762260f6b6ea43.txt thành công.\n",
      "Đã cập nhật nội dung từ highlights.docx vào 084b430714f1e62b0d9eb72308297675bd3d5163.txt thành công.\n",
      "Đã cập nhật nội dung từ highlights.docx vào 0856d86f656a257467dc1f166737286afdea1032.txt thành công.\n",
      "Đã cập nhật nội dung từ highlights.docx vào 087a4516360cf6aa32ecce38dc17bcb113d66106.txt thành công.\n",
      "Đã cập nhật nội dung từ highlights.docx vào 08c036459832ba494003f0383dde67496b777aa6.txt thành công.\n",
      "Đã cập nhật nội dung từ highlights.docx vào 08d17e02c6fc7cb9fbd530feb378cc192b371639.txt thành công.\n",
      "Đã cập nhật nội dung từ highlights.docx vào 08e1753c759e4ef95603b437cb366f758d0f9825.txt thành công.\n",
      "Đã cập nhật nội dung từ highlights.docx vào 04c1046616596d91e530b815916d5d8fb4dc4b42.txt thành công.\n",
      "Đã cập nhật nội dung từ highlights.docx vào 04eac84634920fcb7a6720064ea5f61d87a28f5e.txt thành công.\n",
      "Đã cập nhật nội dung từ highlights.docx vào 04f6ff38e40d588ae45a46f41d9222cdea2af7c5.txt thành công.\n",
      "Đã cập nhật nội dung từ highlights.docx vào 04f771c9e24e83962b4fe0c9528534b6b0ca9c3f.txt thành công.\n",
      "Đã cập nhật nội dung từ highlights.docx vào 050df87bef2ef405af64d575364b4da013ca4776.txt thành công.\n",
      "Đã cập nhật nội dung từ highlights.docx vào 050ea68cfff49b99600bfc32ee6b9954c3bfc3f4.txt thành công.\n",
      "Đã cập nhật nội dung từ highlights.docx vào 0517d4b1d1bbe31d38d820b5543d179230c5c217.txt thành công.\n",
      "Đã cập nhật nội dung từ highlights.docx vào 05657b871694c3a5b31a0fc63746ef382b31e32c.txt thành công.\n",
      "Đã cập nhật nội dung từ highlights.docx vào 0569d66dbf7560eafab5326bf447866642c36863.txt thành công.\n",
      "Đã cập nhật nội dung từ highlights.docx vào 057a358613a1992b583e0f599839d96fa26c0705.txt thành công.\n",
      "Đã cập nhật nội dung từ highlights.docx vào 0588fa1192a079492c7060fbe360078c3dcaea4c.txt thành công.\n",
      "Đã cập nhật nội dung từ highlights.docx vào 05946054ad869d154df7db00035a2d7b4ce567c2.txt thành công.\n",
      "Đã cập nhật nội dung từ highlights.docx vào 05a478ca7ce9c5d2ad4d158b60e8dbd7875af30b.txt thành công.\n",
      "Đã cập nhật nội dung từ highlights.docx vào 05b103ef2968cb4b3ccd992df38b2435efd35514.txt thành công.\n",
      "Đã cập nhật nội dung từ highlights.docx vào 05b10d20dedb88b751101009ce049176fda2cc2b.txt thành công.\n",
      "Đã cập nhật nội dung từ highlights.docx vào 05b124956d14c4f4c927edf9022ce6494e234ef5.txt thành công.\n",
      "Đã cập nhật nội dung từ highlights.docx vào 05ff520b07cbeaf0ce31d6ac47b5fecef4e368dd.txt thành công.\n",
      "Đã cập nhật nội dung từ highlights.docx vào 06076f2ef624084b96e9fe2391115e185bfebd94.txt thành công.\n",
      "Đã cập nhật nội dung từ highlights.docx vào 06116e48312f7cf328f4dd9adf6aa6c8f823612f.txt thành công.\n",
      "Đã cập nhật nội dung từ highlights.docx vào 06199d34c9bcb6ec74a053acdfdd1b5056757ee6.txt thành công.\n",
      "Đã cập nhật nội dung từ highlights.docx vào 0622bcd4df7d99350713b7679c91618f73db2e79.txt thành công.\n",
      "Đã cập nhật nội dung từ highlights.docx vào 0624701392dd7dbd5cf03bd4151830153dce351e.txt thành công.\n",
      "Đã cập nhật nội dung từ highlights.docx vào 062a6383bb2cfb6af92addac9f65f2025bc4e544.txt thành công.\n",
      "Đã cập nhật nội dung từ highlights.docx vào 063b51aca8517a1192e1da44afd0df14aea26945.txt thành công.\n",
      "Đã cập nhật nội dung từ highlights.docx vào 0646befe06ab66e5985bf65e23624c12061c150e.txt thành công.\n",
      "Đã cập nhật nội dung từ highlights.docx vào 066e38c8e0e95f81fb3ef5211f6cad3395e0061d.txt thành công.\n",
      "Đã cập nhật nội dung từ highlights.docx vào 067ea5e32e7dfff3307f402713f9bb40dcb6d226.txt thành công.\n",
      "Đã cập nhật nội dung từ highlights.docx vào 069efc3f9f2947a3df49ed52a0c8699c578b3d98.txt thành công.\n",
      "Đã cập nhật nội dung từ highlights.docx vào 069f4a86e373101f17ee2bd062199531fee1bbe5.txt thành công.\n",
      "Đã cập nhật nội dung từ highlights.docx vào 06a1d362f5964f42b0c31f37a676facbd9755101.txt thành công.\n",
      "Đã cập nhật nội dung từ highlights.docx vào 06add50acd5a021d786b57b3f8bbcce363fd295e.txt thành công.\n",
      "Đã cập nhật nội dung từ highlights.docx vào 06babddb627395fbb6eb4e641be7a8a42d8c4794.txt thành công.\n",
      "Đã cập nhật nội dung từ highlights.docx vào 06c0824b4c1df9201324589a297ae8c6a2ac1761.txt thành công.\n",
      "Đã cập nhật nội dung từ highlights.docx vào 06f346487037e2a501f19db45aa104a0a72c3650.txt thành công.\n",
      "Đã cập nhật nội dung từ highlights.docx vào 07248fd4cbd8ee1c43f3f78ee059867094295ead.txt thành công.\n",
      "Đã cập nhật nội dung từ highlights.docx vào 073e893344cc1e4f682713ea1911f60495f1579e.txt thành công.\n",
      "Đã cập nhật nội dung từ highlights.docx vào 07407dd09f4ae9faeeb2e34324e6998471b0ff3f.txt thành công.\n",
      "Đã cập nhật nội dung từ highlights.docx vào 07892ee5eaabc27559fb6a0ad713f99275bcae.txt thành công.\n",
      "Đã cập nhật nội dung từ highlights.docx vào 07b61152a9c88d7d65d09e1eac168f42abda910f.txt thành công.\n",
      "Đã cập nhật nội dung từ highlights.docx vào 07f47d35563a43cb0c0968855986fa02d10902d4.txt thành công.\n",
      "Đã cập nhật nội dung từ highlights.docx vào 07f6afb021de3507ab1473c6e505c66dd71dae10.txt thành công.\n",
      "Đã cập nhật nội dung từ highlights.docx vào 08248967eb09e5eaac25fb4a9c7985c8777aeaee.txt thành công.\n",
      "Đã cập nhật nội dung từ highlights.docx vào 0828b978b5d812c65316f7d8ac2149d5e2bf7973.txt thành công.\n",
      "Đã cập nhật nội dung từ highlights.docx vào 0840428f2192b2726b0abb5135762260f6b6ea43.txt thành công.\n",
      "Đã cập nhật nội dung từ highlights.docx vào 084b430714f1e62b0d9eb72308297675bd3d5163.txt thành công.\n",
      "Đã cập nhật nội dung từ highlights.docx vào 0856d86f656a257467dc1f166737286afdea1032.txt thành công.\n",
      "Đã cập nhật nội dung từ highlights.docx vào 087a4516360cf6aa32ecce38dc17bcb113d66106.txt thành công.\n",
      "Đã cập nhật nội dung từ highlights.docx vào 08c036459832ba494003f0383dde67496b777aa6.txt thành công.\n",
      "Đã cập nhật nội dung từ highlights.docx vào 08d17e02c6fc7cb9fbd530feb378cc192b371639.txt thành công.\n",
      "Đã cập nhật nội dung từ highlights.docx vào 08e1753c759e4ef95603b437cb366f758d0f9825.txt thành công.\n",
      "Đã cập nhật nội dung từ highlights.docx vào 08e726b3de7ac0bc3ee04dd8501d696de0d0045e.txt thành công.\n",
      "Đã cập nhật nội dung từ highlights.docx vào 08fa11a152684434bfff9d3fdfdcfaa45a72645a.txt thành công.\n",
      "Đã cập nhật nội dung từ highlights.docx vào 0903acac2cab2b77b619a872341478a020fe9c97.txt thành công.\n",
      "Đã cập nhật nội dung từ highlights.docx vào 091b35cc2964d3b078dfdfaa156b2831fd9435e7.txt thành công.\n",
      "Đã cập nhật nội dung từ highlights.docx vào 09729030413d8bc75778c328aaab581c0e0b0d60.txt thành công.\n",
      "Đã cập nhật nội dung từ highlights.docx vào 097b730a2eda472d756644e75adcca493fea9d70.txt thành công.\n",
      "Đã cập nhật nội dung từ highlights.docx vào 0999c80277b14c51a51cfb0d295e0c8bc2db41f3.txt thành công.\n",
      "Đã cập nhật nội dung từ highlights.docx vào 09c3dba96fa3ca85f8a8ed12522ebb3c3b632130.txt thành công.\n",
      "Đã cập nhật nội dung từ highlights.docx vào 0a1825fafd53d101b2510293919bad051fbc4d62.txt thành công.\n",
      "Đã cập nhật nội dung từ highlights.docx vào 0a1e8e88a110adb940cbeacbb1fabf81a14a6b53.txt thành công.\n",
      "Đã cập nhật nội dung từ highlights.docx vào 0a204f3efe1e1b6f2a14ea35d838f9b8b807f730.txt thành công.\n",
      "Đã cập nhật nội dung từ highlights.docx vào 0a35442cb32839e1f0c60cac09a25903ef607a72.txt thành công.\n",
      "Đã cập nhật nội dung từ highlights.docx vào 0a47e706aed2fc5a9ddc405ec2f4e05d1366c9be.txt thành công.\n",
      "Đã cập nhật nội dung từ highlights.docx vào 0a508fb52771a104f289d61161b9bfe78972467e.txt thành công.\n",
      "Đã cập nhật nội dung từ highlights.docx vào 0a597916ed6e684209210094f8104a5131105ad7.txt thành công.\n",
      "Đã cập nhật nội dung từ highlights.docx vào 0a5db9fb23046adf1637f2b517cded6fe0cc97a3.txt thành công.\n",
      "Đã cập nhật nội dung từ highlights.docx vào 0a8b3953125342799f5320b450a0fccf43c48147.txt thành công.\n",
      "Đã cập nhật nội dung từ highlights.docx vào 0a926ef7e3ab73eb94f13b19c62913dea0122eb3.txt thành công.\n",
      "Đã cập nhật nội dung từ highlights.docx vào 0acecef21c6fe1e06b9583077b0de5b1b0b1b971.txt thành công.\n",
      "Đã cập nhật nội dung từ highlights.docx vào 0adf51f362c086f891d5fdc5a557e77992419869.txt thành công.\n",
      "Đã cập nhật nội dung từ highlights.docx vào 0ae77e45f2a7c2fe13d921160686d9c4ae531d77.txt thành công.\n",
      "Đã cập nhật nội dung từ highlights.docx vào 0aececece6603828eeaf260659b3e819c6d89825.txt thành công.\n",
      "Đã cập nhật nội dung từ highlights.docx vào 0aef0ffd5443bc582aa944bb8714617afbe51973.txt thành công.\n",
      "Đã cập nhật nội dung từ highlights.docx vào 0b0113839909f3a4662126e600dbc58402cf9bb0.txt thành công.\n",
      "Đã cập nhật nội dung từ highlights.docx vào 0b03dc8b3646ce9f6903c77ce36b7520cf879e2b.txt thành công.\n",
      "Đã cập nhật nội dung từ highlights.docx vào 0b054f45e51610d74ca1a233ae19f2ecc54d5076.txt thành công.\n",
      "Đã cập nhật nội dung từ highlights.docx vào 0b112e998454f31f4dd57e166c5e8edaac0db2fa.txt thành công.\n",
      "Đã cập nhật nội dung từ highlights.docx vào 0b17f2aee5a2665398b89e4989cd27c24b4e3253.txt thành công.\n",
      "Đã cập nhật nội dung từ highlights.docx vào 0b21ed781d89c24479e157489a937eaaa44c49cf.txt thành công.\n",
      "Đã cập nhật nội dung từ highlights.docx vào 0b272d222d879bf8d9293aa44de6a7c0ddb8899f.txt thành công.\n",
      "Đã cập nhật nội dung từ highlights.docx vào 0b2d8159174f4c452e2a7eb1400b9afe96111b84.txt thành công.\n",
      "Đã cập nhật nội dung từ highlights.docx vào 0b30f402176c2c2315fe346252b4019b9dc619f7.txt thành công.\n",
      "Đã cập nhật nội dung từ highlights.docx vào 0b34c6c2c03a12073c3c783cbf1aa57625aa2ad5.txt thành công.\n",
      "Đã cập nhật nội dung từ highlights.docx vào 0b41568f9b9c2100f8791dfe82fe06d75295e342.txt thành công.\n",
      "Đã cập nhật nội dung từ highlights.docx vào 0b50563e4f8eda79977810111bdc67f3de975696.txt thành công.\n",
      "Đã cập nhật nội dung từ highlights.docx vào 0b8136db3189fcdc4e55ad93f3c1da739843897a.txt thành công.\n",
      "Đã cập nhật nội dung từ highlights.docx vào 0b8c94eecd467924be652a26a5b539d09c028176.txt thành công.\n",
      "Đã cập nhật nội dung từ highlights.docx vào 0ba169b934a309ce1f7d25fa31eea8a7c709e80c.txt thành công.\n",
      "Đã cập nhật nội dung từ highlights.docx vào 0be5074cb8d0e0a7489a296b9b9c064a21929252.txt thành công.\n",
      "Đã cập nhật nội dung từ highlights.docx vào 0be898c81e567c1dc16d98a16dd009e9f63e0276.txt thành công.\n",
      "Đã cập nhật nội dung từ highlights.docx vào 0c0a3f9ca90bc8a9be6a7b0cae3101997a3af5ae.txt thành công.\n",
      "Đã cập nhật nội dung từ highlights.docx vào 0c1b456491849e0846db61596177db9043be1a88.txt thành công.\n",
      "Đã cập nhật nội dung từ highlights.docx vào 0c28fbc3af2ee29adf8be9b8ec25a2d4bb258878.txt thành công.\n",
      "Đã cập nhật nội dung từ highlights.docx vào 0c2c585d3084fbaa9de06fd28f90e4fab8c1bd09.txt thành công.\n",
      "Đã cập nhật nội dung từ highlights.docx vào 0c41193ee2d29504beaf60c0755e144b0f9816f0.txt thành công.\n",
      "Đã cập nhật nội dung từ highlights.docx vào 0c5ba15fb0830bdda219782d3387bbbef5e10200.txt thành công.\n",
      "Đã cập nhật nội dung từ highlights.docx vào 0cd1b7e6b17a9a884868ab8fb281719b6413c6d7.txt thành công.\n",
      "Đã cập nhật nội dung từ highlights.docx vào 0ce75e350d1bcf5c6742740cdd3bafe17a084f9f.txt thành công.\n",
      "Đã cập nhật nội dung từ highlights.docx vào 0d1e26cae1172ac23ec86daf994a6616ca20d43d.txt thành công.\n",
      "Đã cập nhật nội dung từ highlights.docx vào 0d875457f8830f36256fecad4fef85afbb87528d.txt thành công.\n",
      "Đã cập nhật nội dung từ highlights.docx vào 0dfc905e3decd06067b5b92271d78883698dbda5.txt thành công.\n",
      "Đã cập nhật nội dung từ highlights.docx vào 0e400a3087db0f5a9ae1788bf1246f4fced51f84.txt thành công.\n",
      "Đã cập nhật nội dung từ highlights.docx vào 0e844818ee0ed490830cb401886d90714d98f738.txt thành công.\n",
      "Đã cập nhật nội dung từ highlights.docx vào 0ecf914ec26f2b0690d61fb48d84a46bd07e791e.txt thành công.\n",
      "Đã cập nhật nội dung từ highlights.docx vào 0eeaffbf4087b74eb2ebb05784e8d67c3ffb0b84.txt thành công.\n",
      "Đã cập nhật nội dung từ highlights.docx vào 0f055da8324fb0714389032c660cc8130442608d.txt thành công.\n",
      "Đã cập nhật nội dung từ highlights.docx vào 1006e8e0a0ac590663632569a8b5a08e01af4a1e.txt thành công.\n",
      "Đã cập nhật nội dung từ highlights.docx vào 1068493280bc25c00110e3150e55f91d1fa0b3aa.txt thành công.\n",
      "Đã cập nhật nội dung từ highlights.docx vào 10696f72b8e0794543623ad233a6d56d30617963.txt thành công.\n"
     ]
    },
    {
     "ename": "FileNotFoundError",
     "evalue": "[Errno 2] No such file or directory: '../data_translate/10f79c6ac38595b8d311caff6d3244047bb6e29.txt'",
     "output_type": "error",
     "traceback": [
      "\u001b[1;31m---------------------------------------------------------------------------\u001b[0m",
      "\u001b[1;31mFileNotFoundError\u001b[0m                         Traceback (most recent call last)",
      "Cell \u001b[1;32mIn[29], line 11\u001b[0m\n\u001b[0;32m      9\u001b[0m txt_path \u001b[38;5;241m=\u001b[39m os\u001b[38;5;241m.\u001b[39mpath\u001b[38;5;241m.\u001b[39mjoin(translate_folder, file_name)\n\u001b[0;32m     10\u001b[0m \u001b[38;5;66;03m# Đọc nội dung từ file JSON đã có\u001b[39;00m\n\u001b[1;32m---> 11\u001b[0m \u001b[38;5;28;01mwith\u001b[39;00m \u001b[38;5;28;43mopen\u001b[39;49m\u001b[43m(\u001b[49m\u001b[43mtxt_path\u001b[49m\u001b[43m,\u001b[49m\u001b[43m \u001b[49m\u001b[38;5;124;43m'\u001b[39;49m\u001b[38;5;124;43mr\u001b[39;49m\u001b[38;5;124;43m'\u001b[39;49m\u001b[43m,\u001b[49m\u001b[43m \u001b[49m\u001b[43mencoding\u001b[49m\u001b[38;5;241;43m=\u001b[39;49m\u001b[38;5;124;43m'\u001b[39;49m\u001b[38;5;124;43mutf-8\u001b[39;49m\u001b[38;5;124;43m'\u001b[39;49m\u001b[43m)\u001b[49m \u001b[38;5;28;01mas\u001b[39;00m existing_file:\n\u001b[0;32m     12\u001b[0m     existing_content \u001b[38;5;241m=\u001b[39m json\u001b[38;5;241m.\u001b[39mload(existing_file)\n\u001b[0;32m     14\u001b[0m \u001b[38;5;66;03m# Ghi lại nội dung của phần \"vi\" từ tệp highlights.docx vào tệp .txt\u001b[39;00m\n",
      "File \u001b[1;32m~\\AppData\\Roaming\\Python\\Python311\\site-packages\\IPython\\core\\interactiveshell.py:284\u001b[0m, in \u001b[0;36m_modified_open\u001b[1;34m(file, *args, **kwargs)\u001b[0m\n\u001b[0;32m    277\u001b[0m \u001b[38;5;28;01mif\u001b[39;00m file \u001b[38;5;129;01min\u001b[39;00m {\u001b[38;5;241m0\u001b[39m, \u001b[38;5;241m1\u001b[39m, \u001b[38;5;241m2\u001b[39m}:\n\u001b[0;32m    278\u001b[0m     \u001b[38;5;28;01mraise\u001b[39;00m \u001b[38;5;167;01mValueError\u001b[39;00m(\n\u001b[0;32m    279\u001b[0m         \u001b[38;5;124mf\u001b[39m\u001b[38;5;124m\"\u001b[39m\u001b[38;5;124mIPython won\u001b[39m\u001b[38;5;124m'\u001b[39m\u001b[38;5;124mt let you open fd=\u001b[39m\u001b[38;5;132;01m{\u001b[39;00mfile\u001b[38;5;132;01m}\u001b[39;00m\u001b[38;5;124m by default \u001b[39m\u001b[38;5;124m\"\u001b[39m\n\u001b[0;32m    280\u001b[0m         \u001b[38;5;124m\"\u001b[39m\u001b[38;5;124mas it is likely to crash IPython. If you know what you are doing, \u001b[39m\u001b[38;5;124m\"\u001b[39m\n\u001b[0;32m    281\u001b[0m         \u001b[38;5;124m\"\u001b[39m\u001b[38;5;124myou can use builtins\u001b[39m\u001b[38;5;124m'\u001b[39m\u001b[38;5;124m open.\u001b[39m\u001b[38;5;124m\"\u001b[39m\n\u001b[0;32m    282\u001b[0m     )\n\u001b[1;32m--> 284\u001b[0m \u001b[38;5;28;01mreturn\u001b[39;00m \u001b[43mio_open\u001b[49m\u001b[43m(\u001b[49m\u001b[43mfile\u001b[49m\u001b[43m,\u001b[49m\u001b[43m \u001b[49m\u001b[38;5;241;43m*\u001b[39;49m\u001b[43margs\u001b[49m\u001b[43m,\u001b[49m\u001b[43m \u001b[49m\u001b[38;5;241;43m*\u001b[39;49m\u001b[38;5;241;43m*\u001b[39;49m\u001b[43mkwargs\u001b[49m\u001b[43m)\u001b[49m\n",
      "\u001b[1;31mFileNotFoundError\u001b[0m: [Errno 2] No such file or directory: '../data_translate/10f79c6ac38595b8d311caff6d3244047bb6e29.txt'"
     ]
    }
   ],
   "source": [
    "# Đọc nội dung từ tệp highlights.docx\n",
    "with open(docx_folder, 'rb') as docx_file:\n",
    "    doc = Document(docx_file)\n",
    "    for paragraph in doc.paragraphs:\n",
    "        # Tìm đoạn văn bản có tiêu đề (nếu có) và nội dung\n",
    "        if paragraph.style.name.startswith('Heading'):\n",
    "            file_name = paragraph.text\n",
    "        else:\n",
    "            txt_path = os.path.join(translate_folder, file_name)\n",
    "            # Đọc nội dung từ file JSON đã có\n",
    "            with open(txt_path, 'r', encoding='utf-8') as existing_file:\n",
    "                existing_content = json.load(existing_file)\n",
    "\n",
    "            # Ghi lại nội dung của phần \"vi\" từ tệp highlights.docx vào tệp .txt\n",
    "            existing_content[\"vi\"] = paragraph.text\n",
    "\n",
    "            # Ghi nội dung đã cập nhật vào tệp .txt\n",
    "            with open(txt_path, 'w', encoding='utf-8') as updated_file:\n",
    "                json.dump(existing_content, updated_file, ensure_ascii=False, indent=2)\n",
    "\n",
    "            print(f\"Đã cập nhật nội dung từ highlights.docx vào {file_name} thành công.\")\n"
   ]
  },
  {
   "cell_type": "markdown",
   "metadata": {},
   "source": [
    "---"
   ]
  }
 ],
 "metadata": {
  "kernelspec": {
   "display_name": "Python 3",
   "language": "python",
   "name": "python3"
  },
  "language_info": {
   "codemirror_mode": {
    "name": "ipython",
    "version": 3
   },
   "file_extension": ".py",
   "mimetype": "text/x-python",
   "name": "python",
   "nbconvert_exporter": "python",
   "pygments_lexer": "ipython3",
   "version": "3.11.5"
  }
 },
 "nbformat": 4,
 "nbformat_minor": 2
}
