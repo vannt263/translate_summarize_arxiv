{
 "cells": [
  {
   "cell_type": "markdown",
   "metadata": {},
   "source": [
    "### Import thư viện"
   ]
  },
  {
   "cell_type": "code",
   "execution_count": 1,
   "metadata": {},
   "outputs": [],
   "source": [
    "import os\n",
    "import re\n",
    "import json\n",
    "import pandas as pd\n",
    "import matplotlib.pyplot as plt"
   ]
  },
  {
   "cell_type": "code",
   "execution_count": 2,
   "metadata": {},
   "outputs": [],
   "source": [
    "import spacy\n",
    "# Tải mô hình ngôn ngữ tiếng Anh từ spaCy\n",
    "nlp = spacy.load(\"en_core_web_lg\")"
   ]
  },
  {
   "cell_type": "code",
   "execution_count": 3,
   "metadata": {},
   "outputs": [],
   "source": [
    "from pyvi import ViTokenizer"
   ]
  },
  {
   "cell_type": "code",
   "execution_count": 4,
   "metadata": {},
   "outputs": [],
   "source": [
    "from tensorflow import keras\n",
    "from datasets import Dataset, DatasetDict\n",
    "from sklearn.model_selection import train_test_split\n",
    "from transformers import AutoTokenizer, TFAutoModelForSeq2SeqLM, DataCollatorForSeq2Seq, AdamWeightDecay"
   ]
  },
  {
   "cell_type": "markdown",
   "metadata": {},
   "source": [
    "---"
   ]
  },
  {
   "cell_type": "markdown",
   "metadata": {},
   "source": [
    "### Đọc file dữ liệu"
   ]
  },
  {
   "cell_type": "code",
   "execution_count": 5,
   "metadata": {},
   "outputs": [],
   "source": [
    "translate_folder = \"../data_translate/\"\n",
    "files = os.listdir(translate_folder)"
   ]
  },
  {
   "cell_type": "code",
   "execution_count": 6,
   "metadata": {},
   "outputs": [],
   "source": [
    "data_list = []\n",
    "for file in files:\n",
    "    with open(f\"{translate_folder}{file}\", \"r\", encoding=\"utf-8\") as f:\n",
    "        data_list.append(json.load(f))"
   ]
  },
  {
   "cell_type": "code",
   "execution_count": 7,
   "metadata": {},
   "outputs": [],
   "source": [
    "pattern = r'(?<!\\d)[^\\w\\s%](?!\\d)'\n",
    "def preprocessing(sentence, lang):\n",
    "    sentence = sentence.lower().strip()\n",
    "    if lang == \"eng\":\n",
    "        doc = nlp(sentence)\n",
    "        text = \" \".join([token.lemma_ for token in doc])\n",
    "        text = re.sub(fr'(?<!\\d)[^a-zA-Z0-9\\s]|[^a-zA-Z0-9\\s%](?!\\d)|{pattern}', '', text)\n",
    "        text = re.sub(r'\\s+', ' ', text)\n",
    "        return text\n",
    "    elif lang == \"vi\":\n",
    "        text = re.sub(r'[^\\w\\s]', '', sentence)\n",
    "        text = re.sub(r'\\s+', ' ', text)\n",
    "        text = ViTokenizer.tokenize(text)\n",
    "        return text"
   ]
  },
  {
   "cell_type": "code",
   "execution_count": 8,
   "metadata": {},
   "outputs": [
    {
     "data": {
      "text/html": [
       "<div>\n",
       "<style scoped>\n",
       "    .dataframe tbody tr th:only-of-type {\n",
       "        vertical-align: middle;\n",
       "    }\n",
       "\n",
       "    .dataframe tbody tr th {\n",
       "        vertical-align: top;\n",
       "    }\n",
       "\n",
       "    .dataframe thead th {\n",
       "        text-align: right;\n",
       "    }\n",
       "</style>\n",
       "<table border=\"1\" class=\"dataframe\">\n",
       "  <thead>\n",
       "    <tr style=\"text-align: right;\">\n",
       "      <th></th>\n",
       "      <th>article</th>\n",
       "      <th>highlights</th>\n",
       "      <th>vi</th>\n",
       "    </tr>\n",
       "  </thead>\n",
       "  <tbody>\n",
       "    <tr>\n",
       "      <th>0</th>\n",
       "      <td>For years they have been a source of joy for y...</td>\n",
       "      <td>More youngsters end up in hospital after tramp...</td>\n",
       "      <td>Nhiều thanh niên phải nhập viện sau khi nhiếp ...</td>\n",
       "    </tr>\n",
       "    <tr>\n",
       "      <th>1</th>\n",
       "      <td>Once again: a hidden camera has caught New Yor...</td>\n",
       "      <td>Woman walks around New York in yoga pants with...</td>\n",
       "      <td>Người phụ nữ đi dạo quanh New York trong chiếc...</td>\n",
       "    </tr>\n",
       "    <tr>\n",
       "      <th>2</th>\n",
       "      <td>I thought it would be a good chance for Roy Ho...</td>\n",
       "      <td>James Milner did not move the ball quickly eno...</td>\n",
       "      <td>James Milner di chuyển bóng không đủ nhanh tro...</td>\n",
       "    </tr>\n",
       "    <tr>\n",
       "      <th>3</th>\n",
       "      <td>3D reconstructions of Richard III's spine show...</td>\n",
       "      <td>Shakespeare described Richard III as a 'poison...</td>\n",
       "      <td>Shakespeare mô tả Richard III là 'con lưng gù ...</td>\n",
       "    </tr>\n",
       "    <tr>\n",
       "      <th>4</th>\n",
       "      <td>This is the moment a brave buffalo charged thr...</td>\n",
       "      <td>The buffalo and its young became separated fro...</td>\n",
       "      <td>Con trâu và đàn con bị ba sư tử đói ở Tanzania...</td>\n",
       "    </tr>\n",
       "    <tr>\n",
       "      <th>...</th>\n",
       "      <td>...</td>\n",
       "      <td>...</td>\n",
       "      <td>...</td>\n",
       "    </tr>\n",
       "    <tr>\n",
       "      <th>1017</th>\n",
       "      <td>A new Red Bull advert which makes light of the...</td>\n",
       "      <td>Advert shows Titanic captain dismissing crate ...</td>\n",
       "      <td>Quảng cáo cho thấy thuyền trưởng Titanic đang ...</td>\n",
       "    </tr>\n",
       "    <tr>\n",
       "      <th>1018</th>\n",
       "      <td>By . Laura Silver for MailOnline . Everyone lo...</td>\n",
       "      <td>Two-year-old Miles is intent on getting forty ...</td>\n",
       "      <td>Cậu bé Miles hai tuổi đang có ý định nhận được...</td>\n",
       "    </tr>\n",
       "    <tr>\n",
       "      <th>1019</th>\n",
       "      <td>By . Associated Press Reporter and Daily Mail ...</td>\n",
       "      <td>Tampa socialite who tipped off FBI about Petra...</td>\n",
       "      <td>Trang xã hội Tampa, người đã tiết lộ cho FBI v...</td>\n",
       "    </tr>\n",
       "    <tr>\n",
       "      <th>1020</th>\n",
       "      <td>Devastated British tycoon Alan Bond yesterday ...</td>\n",
       "      <td>Diana Bliss, 57, had stood by husband's side a...</td>\n",
       "      <td>Diana Bliss, 57 tuổi, đã sát cánh bên chồng sa...</td>\n",
       "    </tr>\n",
       "    <tr>\n",
       "      <th>1021</th>\n",
       "      <td>(CNN) -- It came closer ... closer ... and the...</td>\n",
       "      <td>An asteroid flies by Earth in the closest reco...</td>\n",
       "      <td>Một tiểu hành tinh bay ngang qua Trái đất theo...</td>\n",
       "    </tr>\n",
       "  </tbody>\n",
       "</table>\n",
       "<p>1022 rows × 3 columns</p>\n",
       "</div>"
      ],
      "text/plain": [
       "                                                article  \\\n",
       "0     For years they have been a source of joy for y...   \n",
       "1     Once again: a hidden camera has caught New Yor...   \n",
       "2     I thought it would be a good chance for Roy Ho...   \n",
       "3     3D reconstructions of Richard III's spine show...   \n",
       "4     This is the moment a brave buffalo charged thr...   \n",
       "...                                                 ...   \n",
       "1017  A new Red Bull advert which makes light of the...   \n",
       "1018  By . Laura Silver for MailOnline . Everyone lo...   \n",
       "1019  By . Associated Press Reporter and Daily Mail ...   \n",
       "1020  Devastated British tycoon Alan Bond yesterday ...   \n",
       "1021  (CNN) -- It came closer ... closer ... and the...   \n",
       "\n",
       "                                             highlights  \\\n",
       "0     More youngsters end up in hospital after tramp...   \n",
       "1     Woman walks around New York in yoga pants with...   \n",
       "2     James Milner did not move the ball quickly eno...   \n",
       "3     Shakespeare described Richard III as a 'poison...   \n",
       "4     The buffalo and its young became separated fro...   \n",
       "...                                                 ...   \n",
       "1017  Advert shows Titanic captain dismissing crate ...   \n",
       "1018  Two-year-old Miles is intent on getting forty ...   \n",
       "1019  Tampa socialite who tipped off FBI about Petra...   \n",
       "1020  Diana Bliss, 57, had stood by husband's side a...   \n",
       "1021  An asteroid flies by Earth in the closest reco...   \n",
       "\n",
       "                                                     vi  \n",
       "0     Nhiều thanh niên phải nhập viện sau khi nhiếp ...  \n",
       "1     Người phụ nữ đi dạo quanh New York trong chiếc...  \n",
       "2     James Milner di chuyển bóng không đủ nhanh tro...  \n",
       "3     Shakespeare mô tả Richard III là 'con lưng gù ...  \n",
       "4     Con trâu và đàn con bị ba sư tử đói ở Tanzania...  \n",
       "...                                                 ...  \n",
       "1017  Quảng cáo cho thấy thuyền trưởng Titanic đang ...  \n",
       "1018  Cậu bé Miles hai tuổi đang có ý định nhận được...  \n",
       "1019  Trang xã hội Tampa, người đã tiết lộ cho FBI v...  \n",
       "1020  Diana Bliss, 57 tuổi, đã sát cánh bên chồng sa...  \n",
       "1021  Một tiểu hành tinh bay ngang qua Trái đất theo...  \n",
       "\n",
       "[1022 rows x 3 columns]"
      ]
     },
     "execution_count": 8,
     "metadata": {},
     "output_type": "execute_result"
    }
   ],
   "source": [
    "df = pd.DataFrame(data_list, index=range(len(data_list)))\n",
    "df"
   ]
  },
  {
   "cell_type": "code",
   "execution_count": 9,
   "metadata": {},
   "outputs": [],
   "source": [
    "df[\"highlights\"] = df['highlights'].apply(preprocessing, lang='eng')\n",
    "df['vi'] = df['vi'].apply(preprocessing, lang='vi')"
   ]
  },
  {
   "cell_type": "code",
   "execution_count": 10,
   "metadata": {},
   "outputs": [
    {
     "data": {
      "text/html": [
       "<div>\n",
       "<style scoped>\n",
       "    .dataframe tbody tr th:only-of-type {\n",
       "        vertical-align: middle;\n",
       "    }\n",
       "\n",
       "    .dataframe tbody tr th {\n",
       "        vertical-align: top;\n",
       "    }\n",
       "\n",
       "    .dataframe thead th {\n",
       "        text-align: right;\n",
       "    }\n",
       "</style>\n",
       "<table border=\"1\" class=\"dataframe\">\n",
       "  <thead>\n",
       "    <tr style=\"text-align: right;\">\n",
       "      <th></th>\n",
       "      <th>article</th>\n",
       "      <th>highlights</th>\n",
       "      <th>vi</th>\n",
       "    </tr>\n",
       "  </thead>\n",
       "  <tbody>\n",
       "    <tr>\n",
       "      <th>0</th>\n",
       "      <td>For years they have been a source of joy for y...</td>\n",
       "      <td>more youngster end up in hospital after trampo...</td>\n",
       "      <td>nhiều thanh_niên phải nhập_viện sau khi nhiếp_...</td>\n",
       "    </tr>\n",
       "    <tr>\n",
       "      <th>1</th>\n",
       "      <td>Once again: a hidden camera has caught New Yor...</td>\n",
       "      <td>woman walk around new york in yoga pant with c...</td>\n",
       "      <td>người phụ_nữ đi dạo quanh new york trong chiếc...</td>\n",
       "    </tr>\n",
       "    <tr>\n",
       "      <th>2</th>\n",
       "      <td>I thought it would be a good chance for Roy Ho...</td>\n",
       "      <td>james milner do not move the ball quickly enou...</td>\n",
       "      <td>james milner di_chuyển bóng không đủ nhanh tro...</td>\n",
       "    </tr>\n",
       "    <tr>\n",
       "      <th>3</th>\n",
       "      <td>3D reconstructions of Richard III's spine show...</td>\n",
       "      <td>shakespeare describe richard iii as a poisonou...</td>\n",
       "      <td>shakespeare mô_tả richard iii là con lưng gù đ...</td>\n",
       "    </tr>\n",
       "    <tr>\n",
       "      <th>4</th>\n",
       "      <td>This is the moment a brave buffalo charged thr...</td>\n",
       "      <td>the buffalo and its young become separate from...</td>\n",
       "      <td>con trâu và đàn con bị ba sư_tử đói ở tanzania...</td>\n",
       "    </tr>\n",
       "    <tr>\n",
       "      <th>...</th>\n",
       "      <td>...</td>\n",
       "      <td>...</td>\n",
       "      <td>...</td>\n",
       "    </tr>\n",
       "    <tr>\n",
       "      <th>1017</th>\n",
       "      <td>A new Red Bull advert which makes light of the...</td>\n",
       "      <td>advert show titanic captain dismiss crate of r...</td>\n",
       "      <td>quảng_cáo cho thấy thuyền_trưởng titanic đang ...</td>\n",
       "    </tr>\n",
       "    <tr>\n",
       "      <th>1018</th>\n",
       "      <td>By . Laura Silver for MailOnline . Everyone lo...</td>\n",
       "      <td>two year old mile be intent on get forty wink ...</td>\n",
       "      <td>cậu bé miles hai tuổi đang có ý_định nhận được...</td>\n",
       "    </tr>\n",
       "    <tr>\n",
       "      <th>1019</th>\n",
       "      <td>By . Associated Press Reporter and Daily Mail ...</td>\n",
       "      <td>tampa socialite who tip off fbi about petraeus...</td>\n",
       "      <td>trang xã_hội tampa người đã tiết_lộ cho fbi về...</td>\n",
       "    </tr>\n",
       "    <tr>\n",
       "      <th>1020</th>\n",
       "      <td>Devastated British tycoon Alan Bond yesterday ...</td>\n",
       "      <td>diana bliss 57 have stand by husband s side af...</td>\n",
       "      <td>diana bliss 57 tuổi đã sát_cánh bên chồng sau ...</td>\n",
       "    </tr>\n",
       "    <tr>\n",
       "      <th>1021</th>\n",
       "      <td>(CNN) -- It came closer ... closer ... and the...</td>\n",
       "      <td>an asteroid fly by earth in the close record a...</td>\n",
       "      <td>một tiểu hành_tinh bay ngang qua trái_đất theo...</td>\n",
       "    </tr>\n",
       "  </tbody>\n",
       "</table>\n",
       "<p>1022 rows × 3 columns</p>\n",
       "</div>"
      ],
      "text/plain": [
       "                                                article  \\\n",
       "0     For years they have been a source of joy for y...   \n",
       "1     Once again: a hidden camera has caught New Yor...   \n",
       "2     I thought it would be a good chance for Roy Ho...   \n",
       "3     3D reconstructions of Richard III's spine show...   \n",
       "4     This is the moment a brave buffalo charged thr...   \n",
       "...                                                 ...   \n",
       "1017  A new Red Bull advert which makes light of the...   \n",
       "1018  By . Laura Silver for MailOnline . Everyone lo...   \n",
       "1019  By . Associated Press Reporter and Daily Mail ...   \n",
       "1020  Devastated British tycoon Alan Bond yesterday ...   \n",
       "1021  (CNN) -- It came closer ... closer ... and the...   \n",
       "\n",
       "                                             highlights  \\\n",
       "0     more youngster end up in hospital after trampo...   \n",
       "1     woman walk around new york in yoga pant with c...   \n",
       "2     james milner do not move the ball quickly enou...   \n",
       "3     shakespeare describe richard iii as a poisonou...   \n",
       "4     the buffalo and its young become separate from...   \n",
       "...                                                 ...   \n",
       "1017  advert show titanic captain dismiss crate of r...   \n",
       "1018  two year old mile be intent on get forty wink ...   \n",
       "1019  tampa socialite who tip off fbi about petraeus...   \n",
       "1020  diana bliss 57 have stand by husband s side af...   \n",
       "1021  an asteroid fly by earth in the close record a...   \n",
       "\n",
       "                                                     vi  \n",
       "0     nhiều thanh_niên phải nhập_viện sau khi nhiếp_...  \n",
       "1     người phụ_nữ đi dạo quanh new york trong chiếc...  \n",
       "2     james milner di_chuyển bóng không đủ nhanh tro...  \n",
       "3     shakespeare mô_tả richard iii là con lưng gù đ...  \n",
       "4     con trâu và đàn con bị ba sư_tử đói ở tanzania...  \n",
       "...                                                 ...  \n",
       "1017  quảng_cáo cho thấy thuyền_trưởng titanic đang ...  \n",
       "1018  cậu bé miles hai tuổi đang có ý_định nhận được...  \n",
       "1019  trang xã_hội tampa người đã tiết_lộ cho fbi về...  \n",
       "1020  diana bliss 57 tuổi đã sát_cánh bên chồng sau ...  \n",
       "1021  một tiểu hành_tinh bay ngang qua trái_đất theo...  \n",
       "\n",
       "[1022 rows x 3 columns]"
      ]
     },
     "execution_count": 10,
     "metadata": {},
     "output_type": "execute_result"
    }
   ],
   "source": [
    "df"
   ]
  },
  {
   "cell_type": "code",
   "execution_count": 11,
   "metadata": {},
   "outputs": [
    {
     "data": {
      "image/png": "[encoded data removed]",
      "text/plain": [
       "<Figure size 640x480 with 2 Axes>"
      ]
     },
     "metadata": {},
     "output_type": "display_data"
    }
   ],
   "source": [
    "# Khảo sát độ dài của chuỗi đầu vào và đầu ra\n",
    "highlights_word_count = []\n",
    "vi_word_count = []\n",
    "\n",
    "for i in df['highlights']:\n",
    "      highlights_word_count.append(len(i.split()))\n",
    "\n",
    "for i in df['vi']:\n",
    "      vi_word_count.append(len(i.split()))\n",
    "\n",
    "length_df = pd.DataFrame({'Tóm tắt': highlights_word_count, 'Dịch':vi_word_count})\n",
    "length_df.hist(bins = 50)\n",
    "plt.show()"
   ]
  },
  {
   "cell_type": "code",
   "execution_count": 12,
   "metadata": {},
   "outputs": [],
   "source": [
    "train_df, test_df = train_test_split(df, test_size=0.2, random_state=42)\n",
    "validation_df, test_df = train_test_split(test_df, test_size=0.5, random_state=42)"
   ]
  },
  {
   "cell_type": "code",
   "execution_count": 13,
   "metadata": {},
   "outputs": [],
   "source": [
    "train_dataset = Dataset.from_dict({\n",
    "    \"inputs\": train_df[\"highlights\"].values.tolist(),\n",
    "    \"targets\": train_df[\"vi\"].values.tolist()\n",
    "})\n",
    "\n",
    "test_dataset = Dataset.from_dict({\n",
    "    \"inputs\": test_df[\"highlights\"].values.tolist(),\n",
    "    \"targets\": test_df[\"vi\"].values.tolist()\n",
    "})\n",
    "\n",
    "validation_dataset = Dataset.from_dict({\n",
    "    \"inputs\": validation_df[\"highlights\"].values.tolist(),\n",
    "    \"targets\": validation_df[\"vi\"].values.tolist()\n",
    "})"
   ]
  },
  {
   "cell_type": "code",
   "execution_count": 14,
   "metadata": {},
   "outputs": [],
   "source": [
    "# Tạo DatasetDict\n",
    "dataset = DatasetDict({\n",
    "    \"train\": train_dataset,\n",
    "    \"val\": validation_dataset,\n",
    "    \"test\": test_dataset\n",
    "})"
   ]
  },
  {
   "cell_type": "code",
   "execution_count": 15,
   "metadata": {},
   "outputs": [
    {
     "data": {
      "text/plain": [
       "DatasetDict({\n",
       "    train: Dataset({\n",
       "        features: ['inputs', 'targets'],\n",
       "        num_rows: 817\n",
       "    })\n",
       "    val: Dataset({\n",
       "        features: ['inputs', 'targets'],\n",
       "        num_rows: 102\n",
       "    })\n",
       "    test: Dataset({\n",
       "        features: ['inputs', 'targets'],\n",
       "        num_rows: 103\n",
       "    })\n",
       "})"
      ]
     },
     "execution_count": 15,
     "metadata": {},
     "output_type": "execute_result"
    }
   ],
   "source": [
    "dataset"
   ]
  },
  {
   "cell_type": "markdown",
   "metadata": {},
   "source": [
    "---"
   ]
  },
  {
   "cell_type": "markdown",
   "metadata": {},
   "source": [
    "### Model VietAI/envit5-translation"
   ]
  },
  {
   "cell_type": "code",
   "execution_count": 16,
   "metadata": {},
   "outputs": [
    {
     "name": "stderr",
     "output_type": "stream",
     "text": [
      "c:\\Users\\vannt\\AppData\\Local\\Programs\\Python\\Python311\\Lib\\site-packages\\keras\\src\\initializers\\initializers.py:120: UserWarning: The initializer RandomNormal is unseeded and being called multiple times, which will return identical values each time (even if the initializer is unseeded). Please update your code to provide a seed to the initializer, or avoid using the same initializer instance more than once.\n",
      "  warnings.warn(\n",
      "All model checkpoint layers were used when initializing TFT5ForConditionalGeneration.\n",
      "\n",
      "All the layers of TFT5ForConditionalGeneration were initialized from the model checkpoint at VietAI/envit5-translation.\n",
      "If your task is similar to the task the model of the checkpoint was trained on, you can already use TFT5ForConditionalGeneration for predictions without further training.\n"
     ]
    }
   ],
   "source": [
    "tokenizer = AutoTokenizer.from_pretrained(\"VietAI/envit5-translation\")\n",
    "model = TFAutoModelForSeq2SeqLM.from_pretrained(\"VietAI/envit5-translation\")"
   ]
  },
  {
   "cell_type": "code",
   "execution_count": 17,
   "metadata": {},
   "outputs": [],
   "source": [
    "max_input_length = 128\n",
    "max_target_length = 128\n",
    "                         \n",
    "def preprocess_function(examples):\n",
    "    model_inputs = tokenizer( examples['inputs'],\n",
    "                                max_length=max_input_length,\n",
    "                                truncation=True\n",
    "                            )\n",
    "\n",
    "    labels = tokenizer( text_target=examples[\"targets\"],\n",
    "                        max_length=max_target_length,\n",
    "                        truncation=True\n",
    "                    )\n",
    "    \n",
    "    model_inputs[\"labels\"] = labels[\"input_ids\"]\n",
    "    return model_inputs"
   ]
  },
  {
   "cell_type": "code",
   "execution_count": 18,
   "metadata": {},
   "outputs": [
    {
     "data": {
      "application/vnd.jupyter.widget-view+json": {
       "model_id": "c58dae0e3394421a939a3daa93926532",
       "version_major": 2,
       "version_minor": 0
      },
      "text/plain": [
       "Map:   0%|          | 0/817 [00:00<?, ? examples/s]"
      ]
     },
     "metadata": {},
     "output_type": "display_data"
    },
    {
     "data": {
      "application/vnd.jupyter.widget-view+json": {
       "model_id": "1cbbe9e122224c7d815b7e5040ab164a",
       "version_major": 2,
       "version_minor": 0
      },
      "text/plain": [
       "Map:   0%|          | 0/102 [00:00<?, ? examples/s]"
      ]
     },
     "metadata": {},
     "output_type": "display_data"
    },
    {
     "data": {
      "application/vnd.jupyter.widget-view+json": {
       "model_id": "62165e74bd014ff48c1853a2b6eafafb",
       "version_major": 2,
       "version_minor": 0
      },
      "text/plain": [
       "Map:   0%|          | 0/103 [00:00<?, ? examples/s]"
      ]
     },
     "metadata": {},
     "output_type": "display_data"
    }
   ],
   "source": [
    "tokenizer_data = dataset.map(preprocess_function, batched = True, remove_columns = ['inputs', 'targets'])"
   ]
  },
  {
   "cell_type": "code",
   "execution_count": 19,
   "metadata": {},
   "outputs": [
    {
     "data": {
      "text/plain": [
       "DatasetDict({\n",
       "    train: Dataset({\n",
       "        features: ['input_ids', 'attention_mask', 'labels'],\n",
       "        num_rows: 817\n",
       "    })\n",
       "    val: Dataset({\n",
       "        features: ['input_ids', 'attention_mask', 'labels'],\n",
       "        num_rows: 102\n",
       "    })\n",
       "    test: Dataset({\n",
       "        features: ['input_ids', 'attention_mask', 'labels'],\n",
       "        num_rows: 103\n",
       "    })\n",
       "})"
      ]
     },
     "execution_count": 19,
     "metadata": {},
     "output_type": "execute_result"
    }
   ],
   "source": [
    "tokenizer_data"
   ]
  },
  {
   "cell_type": "code",
   "execution_count": 20,
   "metadata": {},
   "outputs": [],
   "source": [
    "data_collator = DataCollatorForSeq2Seq(tokenizer, model=model, return_tensors=\"tf\", pad_to_multiple_of=128)"
   ]
  },
  {
   "cell_type": "code",
   "execution_count": 21,
   "metadata": {},
   "outputs": [],
   "source": [
    "batch_size = 32\n",
    "learning_rate = 2e-5\n",
    "weight_decay = 0.01\n",
    "num_train_epochs = 1"
   ]
  },
  {
   "cell_type": "code",
   "execution_count": 22,
   "metadata": {},
   "outputs": [
    {
     "name": "stderr",
     "output_type": "stream",
     "text": [
      "You're using a T5TokenizerFast tokenizer. Please note that with a fast tokenizer, using the `__call__` method is faster than using a method to encode the text followed by a call to the `pad` method to get a padded encoding.\n"
     ]
    }
   ],
   "source": [
    "train_dataset = model.prepare_tf_dataset(\n",
    "    tokenizer_data[\"train\"],\n",
    "    batch_size=batch_size,\n",
    "    shuffle=True,\n",
    "    collate_fn=data_collator,\n",
    ")\n",
    "\n",
    "val_dataset = model.prepare_tf_dataset(\n",
    "    tokenizer_data[\"val\"],\n",
    "    batch_size=batch_size,\n",
    "    shuffle=True,\n",
    "    collate_fn=data_collator,\n",
    ")\n",
    "\n",
    "test_dataset = model.prepare_tf_dataset(\n",
    "    tokenizer_data[\"test\"],\n",
    "    batch_size=batch_size,\n",
    "    shuffle=True,\n",
    "    collate_fn=data_collator,\n",
    ")"
   ]
  },
  {
   "cell_type": "code",
   "execution_count": 23,
   "metadata": {},
   "outputs": [],
   "source": [
    "optimizer = AdamWeightDecay(learning_rate=learning_rate, weight_decay_rate=weight_decay)\n",
    "model.compile(optimizer=optimizer)\n",
    "check_point = keras.callbacks.ModelCheckpoint(\n",
    "    filepath='./model_translate.h5',\n",
    "    monitor='loss_accuracy',\n",
    "    mode='min',\n",
    "    save_best_only=True)"
   ]
  },
  {
   "cell_type": "code",
   "execution_count": 24,
   "metadata": {},
   "outputs": [
    {
     "name": "stdout",
     "output_type": "stream",
     "text": [
      "Epoch 1/2\n",
      " 9/25 [=========>....................] - ETA: 42:37 - loss: 3.8641"
     ]
    }
   ],
   "source": [
    "model.fit(train_dataset, validation_data=val_dataset, epochs=2, callbacks=[check_point])"
   ]
  },
  {
   "cell_type": "markdown",
   "metadata": {},
   "source": [
    "---"
   ]
  }
 ],
 "metadata": {
  "kernelspec": {
   "display_name": "Python 3",
   "language": "python",
   "name": "python3"
  },
  "language_info": {
   "codemirror_mode": {
    "name": "ipython",
    "version": 3
   },
   "file_extension": ".py",
   "mimetype": "text/x-python",
   "name": "python",
   "nbconvert_exporter": "python",
   "pygments_lexer": "ipython3",
   "version": "3.11.5"
  }
 },
 "nbformat": 4,
 "nbformat_minor": 2
}
