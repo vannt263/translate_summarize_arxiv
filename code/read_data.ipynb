{
 "cells": [
  {
   "cell_type": "markdown",
   "metadata": {},
   "source": [
    "### Import thư viện"
   ]
  },
  {
   "cell_type": "code",
   "execution_count": 11,
   "metadata": {},
   "outputs": [],
   "source": [
    "import os\n",
    "import re\n",
    "import json\n",
    "import random\n",
    "import shutil"
   ]
  },
  {
   "cell_type": "code",
   "execution_count": null,
   "metadata": {},
   "outputs": [],
   "source": [
    "import pandas as pd"
   ]
  },
  {
   "cell_type": "code",
   "execution_count": 2,
   "metadata": {},
   "outputs": [],
   "source": [
    "import spacy\n",
    "# Tải mô hình ngôn ngữ tiếng Anh từ spaCy\n",
    "nlp = spacy.load(\"en_core_web_lg\")"
   ]
  },
  {
   "cell_type": "markdown",
   "metadata": {},
   "source": [
    "---"
   ]
  },
  {
   "cell_type": "markdown",
   "metadata": {},
   "source": [
    "### Thực hiện chọn lọc dữ liệu"
   ]
  },
  {
   "cell_type": "markdown",
   "metadata": {},
   "source": [
    "Dữ liệu tải về được lưu trong 2 thư mục cnn và dailymail, do hạn chế về việc lưu trữ data cũng như các đơn vị tính toán trên laptop cá nhân, nhóm chỉ sử dụng 150 000 files dữ liệu được trộn hỗn hợp từ cnn và dailymail:"
   ]
  },
  {
   "cell_type": "markdown",
   "metadata": {},
   "source": [
    "<em>Vui lòng không chạy code này !</em>"
   ]
  },
  {
   "cell_type": "code",
   "execution_count": null,
   "metadata": {},
   "outputs": [],
   "source": [
    "path_folder = \"../../data/\" # đường đẫn dễn thư mục chứa file lưu trữ\n",
    "\n",
    "folder_cnn = f\"{path_folder}cnn\"\n",
    "folder_daily = f\"{path_folder}dailymail\""
   ]
  },
  {
   "cell_type": "code",
   "execution_count": null,
   "metadata": {},
   "outputs": [],
   "source": [
    "def copy_random_files(source_folder, destination_folder, num_files_to_select):\n",
    "    all_files = os.listdir(source_folder)\n",
    "    selected_files = random.sample(all_files, min(num_files_to_select, len(all_files)))\n",
    "    for file_name in selected_files:\n",
    "        source_path = os.path.join(source_folder, file_name)\n",
    "        destination_path = os.path.join(destination_folder, file_name)\n",
    "        shutil.copy(source_path, destination_path)\n",
    "\n",
    "\n",
    "# Số lượng tệp bạn muốn lấy\n",
    "num_files_to_select = 150000\n",
    "\n",
    "# Thư mục đích để sao chép các tệp đã chọn\n",
    "destination_folder = '../data_summarize/'\n",
    "\n",
    "# Tạo thư mục đích nếu nó không tồn tại\n",
    "os.makedirs(destination_folder, exist_ok=True)\n",
    "\n",
    "# Lấy ngẫu nhiên các tệp từ thư mục cnn\n",
    "copy_random_files(folder_cnn, destination_folder, num_files_to_select // 2)\n",
    "\n",
    "# Lấy ngẫu nhiên các tệp từ thư mục dailymail\n",
    "copy_random_files(folder_daily, destination_folder, num_files_to_select // 2)\n",
    "\n",
    "print(f'{num_files_to_select} tệp đã được chọn và sao chép thành công.')\n"
   ]
  },
  {
   "cell_type": "markdown",
   "metadata": {},
   "source": [
    "path_folder = \"../data/\"\n",
    "files_cnn = os.listdir(f\"{path_folder}cnn\")\n",
    "files_daily = os.listdir(f\"{path_folder}dailymail\")"
   ]
  },
  {
   "cell_type": "code",
   "execution_count": null,
   "metadata": {},
   "outputs": [],
   "source": []
  },
  {
   "cell_type": "markdown",
   "metadata": {},
   "source": [
    "---"
   ]
  },
  {
   "cell_type": "markdown",
   "metadata": {},
   "source": [
    "### Đọc và tiền xử lý dữ liệu cho quá trình train mô hình"
   ]
  },
  {
   "cell_type": "code",
   "execution_count": 6,
   "metadata": {},
   "outputs": [],
   "source": [
    "path_folder = \"../data_summarize/\"\n",
    "files = os.listdir(path_folder)"
   ]
  },
  {
   "cell_type": "code",
   "execution_count": 8,
   "metadata": {},
   "outputs": [],
   "source": [
    "data_list = []\n",
    "for file in files:\n",
    "    with open(f\"{path_folder}{file}\", \"r\", encoding=\"utf-8\") as f:\n",
    "        data_list.append(json.load(f))"
   ]
  },
  {
   "cell_type": "code",
   "execution_count": 9,
   "metadata": {},
   "outputs": [],
   "source": [
    "df = pd.DataFrame(data_list, index=range(len(data_list)))"
   ]
  },
  {
   "cell_type": "code",
   "execution_count": 10,
   "metadata": {},
   "outputs": [
    {
     "data": {
      "text/html": [
       "<div>\n",
       "<style scoped>\n",
       "    .dataframe tbody tr th:only-of-type {\n",
       "        vertical-align: middle;\n",
       "    }\n",
       "\n",
       "    .dataframe tbody tr th {\n",
       "        vertical-align: top;\n",
       "    }\n",
       "\n",
       "    .dataframe thead th {\n",
       "        text-align: right;\n",
       "    }\n",
       "</style>\n",
       "<table border=\"1\" class=\"dataframe\">\n",
       "  <thead>\n",
       "    <tr style=\"text-align: right;\">\n",
       "      <th></th>\n",
       "      <th>news</th>\n",
       "      <th>summary</th>\n",
       "    </tr>\n",
       "  </thead>\n",
       "  <tbody>\n",
       "    <tr>\n",
       "      <th>0</th>\n",
       "      <td>By Paul Donnelley Loner: Iain Merrick was jail...</td>\n",
       "      <td>Iain Merrick, 39, launched a four-year vendett...</td>\n",
       "    </tr>\n",
       "    <tr>\n",
       "      <th>1</th>\n",
       "      <td>Sat nav failed to mention the 15 kilometres of...</td>\n",
       "      <td>Sat nav failed to mention the 15 kilometres of...</td>\n",
       "    </tr>\n",
       "    <tr>\n",
       "      <th>2</th>\n",
       "      <td>By Simon Jones for MailOnline Swansea City are...</td>\n",
       "      <td>Modou Barrow will travel to Swansea this week ...</td>\n",
       "    </tr>\n",
       "    <tr>\n",
       "      <th>3</th>\n",
       "      <td>A surfer has been airlifted to hospital after ...</td>\n",
       "      <td>Kevin Swanson was on his board near the Montañ...</td>\n",
       "    </tr>\n",
       "    <tr>\n",
       "      <th>4</th>\n",
       "      <td>By Victoria Woollaston and Ted Thornhill PUBLI...</td>\n",
       "      <td>The assassination is carried out using a mobil...</td>\n",
       "    </tr>\n",
       "    <tr>\n",
       "      <th>...</th>\n",
       "      <td>...</td>\n",
       "      <td>...</td>\n",
       "    </tr>\n",
       "    <tr>\n",
       "      <th>149995</th>\n",
       "      <td>Washington (CNN) -- A second grand jury's deci...</td>\n",
       "      <td>NEW Speaker Boehner said American people deser...</td>\n",
       "    </tr>\n",
       "    <tr>\n",
       "      <th>149996</th>\n",
       "      <td>By Emma Glanfield Eric Craggs, 68, of Stockton...</td>\n",
       "      <td>Eric Craggs, 68, accused of asking for 'Lasers...</td>\n",
       "    </tr>\n",
       "    <tr>\n",
       "      <th>149997</th>\n",
       "      <td>Los Angeles (CNN) -- California Gov. Jerry Bro...</td>\n",
       "      <td>Gov. Jerry Brown will seek a stay of what he c...</td>\n",
       "    </tr>\n",
       "    <tr>\n",
       "      <th>149998</th>\n",
       "      <td>Norfolk, Virginia (CNN)The second mate of the ...</td>\n",
       "      <td>Father: \"I know he went through what he went t...</td>\n",
       "    </tr>\n",
       "    <tr>\n",
       "      <th>149999</th>\n",
       "      <td>(RealSimple.com) -- Tired of counting sheep? T...</td>\n",
       "      <td>Fragrances that make you feel calm, such as la...</td>\n",
       "    </tr>\n",
       "  </tbody>\n",
       "</table>\n",
       "<p>150000 rows × 2 columns</p>\n",
       "</div>"
      ],
      "text/plain": [
       "                                                     news  \\\n",
       "0       By Paul Donnelley Loner: Iain Merrick was jail...   \n",
       "1       Sat nav failed to mention the 15 kilometres of...   \n",
       "2       By Simon Jones for MailOnline Swansea City are...   \n",
       "3       A surfer has been airlifted to hospital after ...   \n",
       "4       By Victoria Woollaston and Ted Thornhill PUBLI...   \n",
       "...                                                   ...   \n",
       "149995  Washington (CNN) -- A second grand jury's deci...   \n",
       "149996  By Emma Glanfield Eric Craggs, 68, of Stockton...   \n",
       "149997  Los Angeles (CNN) -- California Gov. Jerry Bro...   \n",
       "149998  Norfolk, Virginia (CNN)The second mate of the ...   \n",
       "149999  (RealSimple.com) -- Tired of counting sheep? T...   \n",
       "\n",
       "                                                  summary  \n",
       "0       Iain Merrick, 39, launched a four-year vendett...  \n",
       "1       Sat nav failed to mention the 15 kilometres of...  \n",
       "2       Modou Barrow will travel to Swansea this week ...  \n",
       "3       Kevin Swanson was on his board near the Montañ...  \n",
       "4       The assassination is carried out using a mobil...  \n",
       "...                                                   ...  \n",
       "149995  NEW Speaker Boehner said American people deser...  \n",
       "149996  Eric Craggs, 68, accused of asking for 'Lasers...  \n",
       "149997  Gov. Jerry Brown will seek a stay of what he c...  \n",
       "149998  Father: \"I know he went through what he went t...  \n",
       "149999  Fragrances that make you feel calm, such as la...  \n",
       "\n",
       "[150000 rows x 2 columns]"
      ]
     },
     "execution_count": 10,
     "metadata": {},
     "output_type": "execute_result"
    }
   ],
   "source": [
    "df"
   ]
  },
  {
   "cell_type": "code",
   "execution_count": 13,
   "metadata": {},
   "outputs": [],
   "source": [
    "def preprocessing(sentence,type):\n",
    "    doc = nlp(sentence)\n",
    "    # lemmatization và loại bỏ stopword\n",
    "    lemmatized_text = \" \".join([token.lemma_ for token in doc if not token.is_stop])\n",
    "    # Loại bỏ dấu câu bằng cách thay thế chúng bằng khoảng trắng, viết thường câu văn.\n",
    "    lemmatized_text = re.sub(r'[^\\w\\s]', ' ', lemmatized_text).lower().strip()\n",
    "    lemmatized_text = re.sub(r'\\s+', ' ', lemmatized_text)\n",
    "    if type == \"summary\":\n",
    "        return \"<sostok> \" + lemmatized_text + \" <eostok>\"\n",
    "    return lemmatized_text"
   ]
  },
  {
   "cell_type": "code",
   "execution_count": 14,
   "metadata": {},
   "outputs": [],
   "source": [
    "# Áp dụng hàm tiền xử lý cho cột 'news' và 'summary'\n",
    "df['news'] = df['news'].apply(preprocessing, type=\"news\")\n",
    "df['summary'] = df['summary'].apply(preprocessing, type=\"summary\")"
   ]
  },
  {
   "cell_type": "code",
   "execution_count": null,
   "metadata": {},
   "outputs": [],
   "source": [
    "df"
   ]
  },
  {
   "cell_type": "markdown",
   "metadata": {},
   "source": [
    "---"
   ]
  },
  {
   "cell_type": "markdown",
   "metadata": {},
   "source": [
    "Quá trình train mô hình Tóm Tắt được mô tả kỹ ở hai link dưới đây:\n",
    "- https://www.kaggle.com/code/vannguyenthi/text-summarization-with-seq2seq-model\n",
    "- "
   ]
  }
 ],
 "metadata": {
  "kernelspec": {
   "display_name": "Python 3",
   "language": "python",
   "name": "python3"
  },
  "language_info": {
   "codemirror_mode": {
    "name": "ipython",
    "version": 3
   },
   "file_extension": ".py",
   "mimetype": "text/x-python",
   "name": "python",
   "nbconvert_exporter": "python",
   "pygments_lexer": "ipython3",
   "version": "3.11.5"
  }
 },
 "nbformat": 4,
 "nbformat_minor": 2
}
