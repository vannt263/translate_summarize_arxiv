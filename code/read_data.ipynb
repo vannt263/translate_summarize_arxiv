{
 "cells": [
  {
   "cell_type": "code",
   "execution_count": 9,
   "metadata": {},
   "outputs": [],
   "source": [
    "import os\n",
    "import json\n",
    "import pandas as pd"
   ]
  },
  {
   "cell_type": "code",
   "execution_count": 3,
   "metadata": {},
   "outputs": [],
   "source": [
    "path_folder = \"../data/\"\n",
    "files_cnn = os.listdir(f\"{path_folder}cnn\")\n",
    "files_daily = os.listdir(f\"{path_folder}dailymail\")"
   ]
  },
  {
   "cell_type": "code",
   "execution_count": 10,
   "metadata": {},
   "outputs": [],
   "source": [
    "data_list = []\n",
    "for file in files_cnn:\n",
    "    with open(f\"{path_folder}cnn/{file}\", \"r\", encoding=\"utf-8\") as f:\n",
    "        data_list.append(json.load(f))\n",
    "        f.close()"
   ]
  },
  {
   "cell_type": "code",
   "execution_count": 11,
   "metadata": {},
   "outputs": [],
   "source": [
    "df = pd.DataFrame(data_list, index=range(len(data_list)))"
   ]
  },
  {
   "cell_type": "code",
   "execution_count": 12,
   "metadata": {},
   "outputs": [
    {
     "data": {
      "text/html": [
       "<div>\n",
       "<style scoped>\n",
       "    .dataframe tbody tr th:only-of-type {\n",
       "        vertical-align: middle;\n",
       "    }\n",
       "\n",
       "    .dataframe tbody tr th {\n",
       "        vertical-align: top;\n",
       "    }\n",
       "\n",
       "    .dataframe thead th {\n",
       "        text-align: right;\n",
       "    }\n",
       "</style>\n",
       "<table border=\"1\" class=\"dataframe\">\n",
       "  <thead>\n",
       "    <tr style=\"text-align: right;\">\n",
       "      <th></th>\n",
       "      <th>news</th>\n",
       "      <th>summary</th>\n",
       "    </tr>\n",
       "  </thead>\n",
       "  <tbody>\n",
       "    <tr>\n",
       "      <th>0</th>\n",
       "      <td>It's official: U.S. President Barack Obama wan...</td>\n",
       "      <td>Syrian official: Obama climbed to the top of t...</td>\n",
       "    </tr>\n",
       "    <tr>\n",
       "      <th>1</th>\n",
       "      <td>(CNN) -- Usain Bolt rounded off the world cham...</td>\n",
       "      <td>Usain Bolt wins third gold of world championsh...</td>\n",
       "    </tr>\n",
       "    <tr>\n",
       "      <th>2</th>\n",
       "      <td>Kansas City, Missouri (CNN) -- The General Ser...</td>\n",
       "      <td>The employee in agency's Kansas City office is...</td>\n",
       "    </tr>\n",
       "    <tr>\n",
       "      <th>3</th>\n",
       "      <td>Los Angeles (CNN) -- A medical doctor in Vanco...</td>\n",
       "      <td>NEW: A Canadian doctor says she was part of a ...</td>\n",
       "    </tr>\n",
       "    <tr>\n",
       "      <th>4</th>\n",
       "      <td>(CNN) -- Police arrested another teen Thursday...</td>\n",
       "      <td>Another arrest made in gang rape outside Calif...</td>\n",
       "    </tr>\n",
       "    <tr>\n",
       "      <th>...</th>\n",
       "      <td>...</td>\n",
       "      <td>...</td>\n",
       "    </tr>\n",
       "    <tr>\n",
       "      <th>92573</th>\n",
       "      <td>Washington (CNN) -- A second grand jury's deci...</td>\n",
       "      <td>NEW Speaker Boehner said American people deser...</td>\n",
       "    </tr>\n",
       "    <tr>\n",
       "      <th>92574</th>\n",
       "      <td>Los Angeles (CNN) -- California Gov. Jerry Bro...</td>\n",
       "      <td>Gov. Jerry Brown will seek a stay of what he c...</td>\n",
       "    </tr>\n",
       "    <tr>\n",
       "      <th>92575</th>\n",
       "      <td>Norfolk, Virginia (CNN)The second mate of the ...</td>\n",
       "      <td>Father: \"I know he went through what he went t...</td>\n",
       "    </tr>\n",
       "    <tr>\n",
       "      <th>92576</th>\n",
       "      <td>(RealSimple.com) -- Tired of counting sheep? T...</td>\n",
       "      <td>Fragrances that make you feel calm, such as la...</td>\n",
       "    </tr>\n",
       "    <tr>\n",
       "      <th>92577</th>\n",
       "      <td>(CNN Student News) -- September 23, 2010 Downl...</td>\n",
       "      <td>Find out how the U.N. General Assembly can imp...</td>\n",
       "    </tr>\n",
       "  </tbody>\n",
       "</table>\n",
       "<p>92578 rows × 2 columns</p>\n",
       "</div>"
      ],
      "text/plain": [
       "                                                    news  \\\n",
       "0      It's official: U.S. President Barack Obama wan...   \n",
       "1      (CNN) -- Usain Bolt rounded off the world cham...   \n",
       "2      Kansas City, Missouri (CNN) -- The General Ser...   \n",
       "3      Los Angeles (CNN) -- A medical doctor in Vanco...   \n",
       "4      (CNN) -- Police arrested another teen Thursday...   \n",
       "...                                                  ...   \n",
       "92573  Washington (CNN) -- A second grand jury's deci...   \n",
       "92574  Los Angeles (CNN) -- California Gov. Jerry Bro...   \n",
       "92575  Norfolk, Virginia (CNN)The second mate of the ...   \n",
       "92576  (RealSimple.com) -- Tired of counting sheep? T...   \n",
       "92577  (CNN Student News) -- September 23, 2010 Downl...   \n",
       "\n",
       "                                                 summary  \n",
       "0      Syrian official: Obama climbed to the top of t...  \n",
       "1      Usain Bolt wins third gold of world championsh...  \n",
       "2      The employee in agency's Kansas City office is...  \n",
       "3      NEW: A Canadian doctor says she was part of a ...  \n",
       "4      Another arrest made in gang rape outside Calif...  \n",
       "...                                                  ...  \n",
       "92573  NEW Speaker Boehner said American people deser...  \n",
       "92574  Gov. Jerry Brown will seek a stay of what he c...  \n",
       "92575  Father: \"I know he went through what he went t...  \n",
       "92576  Fragrances that make you feel calm, such as la...  \n",
       "92577  Find out how the U.N. General Assembly can imp...  \n",
       "\n",
       "[92578 rows x 2 columns]"
      ]
     },
     "execution_count": 12,
     "metadata": {},
     "output_type": "execute_result"
    }
   ],
   "source": [
    "df"
   ]
  }
 ],
 "metadata": {
  "kernelspec": {
   "display_name": "Python 3",
   "language": "python",
   "name": "python3"
  },
  "language_info": {
   "codemirror_mode": {
    "name": "ipython",
    "version": 3
   },
   "file_extension": ".py",
   "mimetype": "text/x-python",
   "name": "python",
   "nbconvert_exporter": "python",
   "pygments_lexer": "ipython3",
   "version": "3.11.5"
  }
 },
 "nbformat": 4,
 "nbformat_minor": 2
}
