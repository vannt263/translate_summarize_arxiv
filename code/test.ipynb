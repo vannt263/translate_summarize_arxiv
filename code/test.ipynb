{
 "cells": [
  {
   "cell_type": "code",
   "execution_count": 1,
   "metadata": {},
   "outputs": [
    {
     "name": "stdout",
     "output_type": "stream",
     "text": [
      "Requirement already satisfied: transformers in c:\\users\\duyen\\appdata\\local\\programs\\python\\python311\\lib\\site-packages (4.35.0)\n",
      "Requirement already satisfied: filelock in c:\\users\\duyen\\appdata\\local\\programs\\python\\python311\\lib\\site-packages (from transformers) (3.12.4)\n",
      "Requirement already satisfied: huggingface-hub<1.0,>=0.16.4 in c:\\users\\duyen\\appdata\\local\\programs\\python\\python311\\lib\\site-packages (from transformers) (0.17.3)\n",
      "Requirement already satisfied: numpy>=1.17 in c:\\users\\duyen\\appdata\\local\\programs\\python\\python311\\lib\\site-packages (from transformers) (1.26.2)\n",
      "Requirement already satisfied: packaging>=20.0 in c:\\users\\duyen\\appdata\\local\\programs\\python\\python311\\lib\\site-packages (from transformers) (23.1)\n",
      "Requirement already satisfied: pyyaml>=5.1 in c:\\users\\duyen\\appdata\\local\\programs\\python\\python311\\lib\\site-packages (from transformers) (6.0.1)\n",
      "Requirement already satisfied: regex!=2019.12.17 in c:\\users\\duyen\\appdata\\roaming\\python\\python311\\site-packages (from transformers) (2023.8.8)\n",
      "Requirement already satisfied: requests in c:\\users\\duyen\\appdata\\local\\programs\\python\\python311\\lib\\site-packages (from transformers) (2.31.0)\n",
      "Requirement already satisfied: tokenizers<0.15,>=0.14 in c:\\users\\duyen\\appdata\\local\\programs\\python\\python311\\lib\\site-packages (from transformers) (0.14.1)\n",
      "Requirement already satisfied: safetensors>=0.3.1 in c:\\users\\duyen\\appdata\\local\\programs\\python\\python311\\lib\\site-packages (from transformers) (0.4.0)\n",
      "Requirement already satisfied: tqdm>=4.27 in c:\\users\\duyen\\appdata\\local\\programs\\python\\python311\\lib\\site-packages (from transformers) (4.66.1)\n",
      "Requirement already satisfied: fsspec in c:\\users\\duyen\\appdata\\local\\programs\\python\\python311\\lib\\site-packages (from huggingface-hub<1.0,>=0.16.4->transformers) (2023.9.2)\n",
      "Requirement already satisfied: typing-extensions>=3.7.4.3 in c:\\users\\duyen\\appdata\\local\\programs\\python\\python311\\lib\\site-packages (from huggingface-hub<1.0,>=0.16.4->transformers) (4.8.0)\n",
      "Requirement already satisfied: colorama in c:\\users\\duyen\\appdata\\roaming\\python\\python311\\site-packages (from tqdm>=4.27->transformers) (0.4.6)\n",
      "Requirement already satisfied: charset-normalizer<4,>=2 in c:\\users\\duyen\\appdata\\local\\programs\\python\\python311\\lib\\site-packages (from requests->transformers) (3.2.0)\n",
      "Requirement already satisfied: idna<4,>=2.5 in c:\\users\\duyen\\appdata\\local\\programs\\python\\python311\\lib\\site-packages (from requests->transformers) (2.10)\n",
      "Requirement already satisfied: urllib3<3,>=1.21.1 in c:\\users\\duyen\\appdata\\local\\programs\\python\\python311\\lib\\site-packages (from requests->transformers) (1.26.16)\n",
      "Requirement already satisfied: certifi>=2017.4.17 in c:\\users\\duyen\\appdata\\local\\programs\\python\\python311\\lib\\site-packages (from requests->transformers) (2023.7.22)\n"
     ]
    }
   ],
   "source": [
    "! pip install transformers"
   ]
  },
  {
   "cell_type": "code",
   "execution_count": 2,
   "metadata": {},
   "outputs": [],
   "source": [
    "import os\n",
    "import pandas as pd\n",
    "import json\n",
    "\n",
    "# Đường dẫn đến thư mục chứa các tệp tin\n",
    "folder_path = \"../data/train/\"\n",
    "\n",
    "# Khởi tạo danh sách để lưu trữ dữ liệu từ mỗi tệp\n",
    "data_list = []\n",
    "\n",
    "# Lặp qua tất cả các tệp trong thư mục\n",
    "for filename in os.listdir(folder_path):\n",
    "    if filename.endswith(\".txt\"):  # Chỉ xử lý các tệp có đuôi là .txt\n",
    "        file_path = os.path.join(folder_path, filename)\n",
    "\n",
    "        # Đọc dữ liệu từ tệp vào một từ điển Python\n",
    "        with open(file_path, \"r\", encoding=\"utf-8\") as file:\n",
    "            # Giả sử dữ liệu trong tệp có định dạng JSON\n",
    "            file_data = json.loads(file.read())\n",
    "\n",
    "        # Thêm dữ liệu từ từ điển vào danh sách\n",
    "        data_list.append(file_data)\n",
    "\n",
    "# Tạo DataFrame từ danh sách dữ liệu\n",
    "df = pd.DataFrame(data_list)\n",
    "\n",
    "# Tạo hai cột mới cho nội dung và tóm tắt\n",
    "df[\"document\"] = df[\"article_text\"].apply(lambda x: \" \".join(x))\n",
    "df[\"summary\"] = df[\"abstract_text\"].apply(lambda x: \" \".join(x))\n",
    "\n",
    "# Chọn chỉ một số cột quan trọng nếu cần\n",
    "df = df[[\"document\", \"summary\"]]\n"
   ]
  },
  {
   "cell_type": "code",
   "execution_count": 3,
   "metadata": {},
   "outputs": [
    {
     "data": {
      "text/html": [
       "<div>\n",
       "<style scoped>\n",
       "    .dataframe tbody tr th:only-of-type {\n",
       "        vertical-align: middle;\n",
       "    }\n",
       "\n",
       "    .dataframe tbody tr th {\n",
       "        vertical-align: top;\n",
       "    }\n",
       "\n",
       "    .dataframe thead th {\n",
       "        text-align: right;\n",
       "    }\n",
       "</style>\n",
       "<table border=\"1\" class=\"dataframe\">\n",
       "  <thead>\n",
       "    <tr style=\"text-align: right;\">\n",
       "      <th></th>\n",
       "      <th>document</th>\n",
       "      <th>summary</th>\n",
       "    </tr>\n",
       "  </thead>\n",
       "  <tbody>\n",
       "    <tr>\n",
       "      <th>0</th>\n",
       "      <td>redshifts @xmath12.5 witness both the ` quasar...</td>\n",
       "      <td>&lt;S&gt; we report the first detection of the 6.2@x...</td>\n",
       "    </tr>\n",
       "    <tr>\n",
       "      <th>1</th>\n",
       "      <td>there is no doubt that galaxies suffer chemica...</td>\n",
       "      <td>&lt;S&gt; we argue that the discrepancies observed i...</td>\n",
       "    </tr>\n",
       "    <tr>\n",
       "      <th>2</th>\n",
       "      <td>photonic crystals ( pcs ) describe a class of ...</td>\n",
       "      <td>&lt;S&gt; we investigate the use of a genetic algori...</td>\n",
       "    </tr>\n",
       "    <tr>\n",
       "      <th>3</th>\n",
       "      <td>the discovery of new models of quantum computa...</td>\n",
       "      <td>&lt;S&gt; we improve the upper bound on the minimal ...</td>\n",
       "    </tr>\n",
       "    <tr>\n",
       "      <th>4</th>\n",
       "      <td>double - logarithmic ( dl ) contributions are ...</td>\n",
       "      <td>&lt;S&gt; it is a brief review on composing and solv...</td>\n",
       "    </tr>\n",
       "    <tr>\n",
       "      <th>...</th>\n",
       "      <td>...</td>\n",
       "      <td>...</td>\n",
       "    </tr>\n",
       "    <tr>\n",
       "      <th>15995</th>\n",
       "      <td>with the rapid growth of wireless terminals an...</td>\n",
       "      <td>&lt;S&gt; the volume and types of traffic data in mo...</td>\n",
       "    </tr>\n",
       "    <tr>\n",
       "      <th>15996</th>\n",
       "      <td>communication is an essential part of the work...</td>\n",
       "      <td>&lt;S&gt; communication in teams is an important but...</td>\n",
       "    </tr>\n",
       "    <tr>\n",
       "      <th>15997</th>\n",
       "      <td>since a long time it has been established that...</td>\n",
       "      <td>&lt;S&gt; double parton distribution functions ( dpd...</td>\n",
       "    </tr>\n",
       "    <tr>\n",
       "      <th>15998</th>\n",
       "      <td>pattern formation is ubiquitous in spatiotempo...</td>\n",
       "      <td>&lt;S&gt; dynamical patterns in complex networks of ...</td>\n",
       "    </tr>\n",
       "    <tr>\n",
       "      <th>15999</th>\n",
       "      <td>general - purpose quantum computers hold the p...</td>\n",
       "      <td>&lt;S&gt; while quantum speed - up in solving certai...</td>\n",
       "    </tr>\n",
       "  </tbody>\n",
       "</table>\n",
       "<p>16000 rows × 2 columns</p>\n",
       "</div>"
      ],
      "text/plain": [
       "                                                document  \\\n",
       "0      redshifts @xmath12.5 witness both the ` quasar...   \n",
       "1      there is no doubt that galaxies suffer chemica...   \n",
       "2      photonic crystals ( pcs ) describe a class of ...   \n",
       "3      the discovery of new models of quantum computa...   \n",
       "4      double - logarithmic ( dl ) contributions are ...   \n",
       "...                                                  ...   \n",
       "15995  with the rapid growth of wireless terminals an...   \n",
       "15996  communication is an essential part of the work...   \n",
       "15997  since a long time it has been established that...   \n",
       "15998  pattern formation is ubiquitous in spatiotempo...   \n",
       "15999  general - purpose quantum computers hold the p...   \n",
       "\n",
       "                                                 summary  \n",
       "0      <S> we report the first detection of the 6.2@x...  \n",
       "1      <S> we argue that the discrepancies observed i...  \n",
       "2      <S> we investigate the use of a genetic algori...  \n",
       "3      <S> we improve the upper bound on the minimal ...  \n",
       "4      <S> it is a brief review on composing and solv...  \n",
       "...                                                  ...  \n",
       "15995  <S> the volume and types of traffic data in mo...  \n",
       "15996  <S> communication in teams is an important but...  \n",
       "15997  <S> double parton distribution functions ( dpd...  \n",
       "15998  <S> dynamical patterns in complex networks of ...  \n",
       "15999  <S> while quantum speed - up in solving certai...  \n",
       "\n",
       "[16000 rows x 2 columns]"
      ]
     },
     "execution_count": 3,
     "metadata": {},
     "output_type": "execute_result"
    }
   ],
   "source": [
    "df"
   ]
  },
  {
   "cell_type": "code",
   "execution_count": 4,
   "metadata": {},
   "outputs": [],
   "source": [
    "from transformers import AutoTokenizer\n",
    "tokenizer = AutoTokenizer.from_pretrained(\"t5-small\")"
   ]
  },
  {
   "cell_type": "code",
   "execution_count": 9,
   "metadata": {},
   "outputs": [],
   "source": [
    "# Tiền xử lý dữ liệu cho mô hình tóm tắt\n",
    "# Prefix được thêm vào đầu mỗi đoạn văn bản để chỉ định mô hình rằng đây là nhiệm vụ tóm tắt\n",
    "prefix = \"summarize: \"\n",
    "\n",
    "# Hàm tiền xử lý dữ liệu\n",
    "def preprocess_function(examples):\n",
    "\n",
    "    documents = examples[\"document\"]\n",
    "    summaries = examples[\"summary\"]\n",
    "\n",
    "    # Thêm prefix vào mỗi đoạn văn bản trong cột \"document\"\n",
    "    inputs = prefix + documents\n",
    "    \n",
    "    # Sử dụng tokenizer để chuyển đổi văn bản thành dạng mà mô hình có thể hiểu\n",
    "    model_inputs = tokenizer(inputs, max_length=1024, truncation=True)\n",
    "    \n",
    "    # Sử dụng tokenizer để chuyển đổi tóm tắt thành dạng mà mô hình có thể hiểu\n",
    "    labels = tokenizer(text=summaries, max_length=128, truncation=True)\n",
    "    \n",
    "    # Gán labels (nhãn) vào model_inputs để sử dụng trong quá trình huấn luyện\n",
    "    model_inputs[\"labels\"] = labels[\"input_ids\"]\n",
    "    \n",
    "    return model_inputs\n"
   ]
  },
  {
   "cell_type": "code",
   "execution_count": 10,
   "metadata": {},
   "outputs": [
    {
     "ename": "",
     "evalue": "",
     "output_type": "error",
     "traceback": [
      "\u001b[1;31mThe Kernel crashed while executing code in the the current cell or a previous cell. Please review the code in the cell(s) to identify a possible cause of the failure. Click <a href='https://aka.ms/vscodeJupyterKernelCrash'>here</a> for more info. View Jupyter <a href='command:jupyter.viewOutput'>log</a> for further details."
     ]
    }
   ],
   "source": [
    "tokenized_multi_news =  df.apply(preprocess_function, axis=1)"
   ]
  },
  {
   "cell_type": "code",
   "execution_count": null,
   "metadata": {},
   "outputs": [],
   "source": []
  }
 ],
 "metadata": {
  "kernelspec": {
   "display_name": "Python 3",
   "language": "python",
   "name": "python3"
  },
  "language_info": {
   "codemirror_mode": {
    "name": "ipython",
    "version": 3
   },
   "file_extension": ".py",
   "mimetype": "text/x-python",
   "name": "python",
   "nbconvert_exporter": "python",
   "pygments_lexer": "ipython3",
   "version": "3.11.5"
  }
 },
 "nbformat": 4,
 "nbformat_minor": 2
}
