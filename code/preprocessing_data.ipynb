{
 "cells": [
  {
   "cell_type": "code",
   "execution_count": 1,
   "metadata": {},
   "outputs": [],
   "source": [
    "import os\n",
    "import re\n",
    "import json\n",
    "import translators as ts"
   ]
  },
  {
   "cell_type": "markdown",
   "metadata": {},
   "source": [
    "### Ghép các đoạn rời rạc và thực hiện lưu lại file dưới dạng json"
   ]
  },
  {
   "cell_type": "code",
   "execution_count": 16,
   "metadata": {},
   "outputs": [],
   "source": [
    "path_folder = \"../data/\"\n",
    "files_cnn = os.listdir(f\"{path_folder}cnn\")\n",
    "files_daily = os.listdir(f\"{path_folder}dailymail\")"
   ]
  },
  {
   "cell_type": "code",
   "execution_count": 3,
   "metadata": {},
   "outputs": [],
   "source": [
    "for file in files_cnn:\n",
    "    with open(f\"{path_folder}cnn/{file}\", \"r+\", encoding=\"utf-8\") as f:\n",
    "        content = f.read()\n",
    "\n",
    "        # Tìm vị trí các highlight\n",
    "        highlight_index = content.find('@highlight')\n",
    "        # Chia nội dung thành 2 phần: nội dung chính và tóm tắt\n",
    "        news = content[:highlight_index].replace('\\n', ' ').strip()\n",
    "        summary = content[highlight_index + len('@highlight'):]\\\n",
    "                        .replace('\\n', ' ').replace('@highlight', '').strip()\n",
    "        # Loại bỏ các khoảng trắng\n",
    "        news = re.sub(r'\\s+', ' ', news)\n",
    "        summary = re.sub(r'\\s+', ' ', summary)\n",
    "        json_data = {\n",
    "            \"news\": news,\n",
    "            \"summary\": summary\n",
    "        }\n",
    "\n",
    "        f.seek(0)\n",
    "        # Chuyển đối tượng Python thành chuỗi JSON và ghi vào tệp tin\n",
    "        json.dump(json_data, f, ensure_ascii=False, indent=2)\n",
    "        # Cắt bớt phần còn lại của tệp tin (nếu có)\n",
    "        f.truncate()\n",
    "        f.close()"
   ]
  },
  {
   "cell_type": "code",
   "execution_count": 4,
   "metadata": {},
   "outputs": [],
   "source": [
    "for file in files_daily:\n",
    "    with open(f\"{path_folder}dailymail/{file}\", \"r+\", encoding=\"utf-8\") as f:\n",
    "        content = f.read()\n",
    "\n",
    "        # Tìm vị trí các highlight\n",
    "        highlight_index = content.find('@highlight')\n",
    "        # Chia nội dung thành 2 phần: nội dung chính và tóm tắt\n",
    "        news = content[:highlight_index].replace('\\n', ' ').strip()\n",
    "        summary = content[highlight_index + len('@highlight'):]\\\n",
    "                        .replace('\\n', ' ').replace('@highlight', '').strip()\n",
    "        # Loại bỏ các khoảng trắng\n",
    "        news = re.sub(r'\\s+', ' ', news)\n",
    "        summary = re.sub(r'\\s+', ' ', summary)\n",
    "        json_data = {\n",
    "            \"news\": news,\n",
    "            \"summary\": summary\n",
    "        }\n",
    "\n",
    "        f.seek(0)\n",
    "        # Chuyển đối tượng Python thành chuỗi JSON và ghi vào tệp tin\n",
    "        json.dump(json_data, f, ensure_ascii=False, indent=2)\n",
    "        # Cắt bớt phần còn lại của tệp tin (nếu có)\n",
    "        f.truncate()\n",
    "        f.close()"
   ]
  },
  {
   "cell_type": "markdown",
   "metadata": {},
   "source": [
    "### Tạo thuộc tính tiếng việt được dịch từ văn bản tóm tắt."
   ]
  },
  {
   "cell_type": "code",
   "execution_count": 18,
   "metadata": {},
   "outputs": [
    {
     "ename": "FileNotFoundError",
     "evalue": "[Errno 2] No such file or directory: '../data/dailymail/0003ad6ef0c37534f80b55b4235108024b407f0b.story'",
     "output_type": "error",
     "traceback": [
      "\u001b[1;31m---------------------------------------------------------------------------\u001b[0m",
      "\u001b[1;31mFileNotFoundError\u001b[0m                         Traceback (most recent call last)",
      "Cell \u001b[1;32mIn[18], line 2\u001b[0m\n\u001b[0;32m      1\u001b[0m \u001b[38;5;28;01mfor\u001b[39;00m file \u001b[38;5;129;01min\u001b[39;00m files_cnn:\n\u001b[1;32m----> 2\u001b[0m     \u001b[38;5;28;01mwith\u001b[39;00m \u001b[38;5;28;43mopen\u001b[39;49m\u001b[43m(\u001b[49m\u001b[38;5;124;43mf\u001b[39;49m\u001b[38;5;124;43m\"\u001b[39;49m\u001b[38;5;132;43;01m{\u001b[39;49;00m\u001b[43mpath_folder\u001b[49m\u001b[38;5;132;43;01m}\u001b[39;49;00m\u001b[38;5;124;43mdailymail/\u001b[39;49m\u001b[38;5;132;43;01m{\u001b[39;49;00m\u001b[43mfile\u001b[49m\u001b[38;5;132;43;01m}\u001b[39;49;00m\u001b[38;5;124;43m\"\u001b[39;49m\u001b[43m,\u001b[49m\u001b[43m \u001b[49m\u001b[38;5;124;43m\"\u001b[39;49m\u001b[38;5;124;43mr+\u001b[39;49m\u001b[38;5;124;43m\"\u001b[39;49m\u001b[43m,\u001b[49m\u001b[43m \u001b[49m\u001b[43mencoding\u001b[49m\u001b[38;5;241;43m=\u001b[39;49m\u001b[38;5;124;43m\"\u001b[39;49m\u001b[38;5;124;43mutf-8\u001b[39;49m\u001b[38;5;124;43m\"\u001b[39;49m\u001b[43m)\u001b[49m \u001b[38;5;28;01mas\u001b[39;00m f:\n\u001b[0;32m      3\u001b[0m         \u001b[38;5;28mprint\u001b[39m(file)\n\u001b[0;32m      4\u001b[0m         content \u001b[38;5;241m=\u001b[39m json\u001b[38;5;241m.\u001b[39mload(f)\n",
      "File \u001b[1;32m~\\AppData\\Roaming\\Python\\Python311\\site-packages\\IPython\\core\\interactiveshell.py:284\u001b[0m, in \u001b[0;36m_modified_open\u001b[1;34m(file, *args, **kwargs)\u001b[0m\n\u001b[0;32m    277\u001b[0m \u001b[38;5;28;01mif\u001b[39;00m file \u001b[38;5;129;01min\u001b[39;00m {\u001b[38;5;241m0\u001b[39m, \u001b[38;5;241m1\u001b[39m, \u001b[38;5;241m2\u001b[39m}:\n\u001b[0;32m    278\u001b[0m     \u001b[38;5;28;01mraise\u001b[39;00m \u001b[38;5;167;01mValueError\u001b[39;00m(\n\u001b[0;32m    279\u001b[0m         \u001b[38;5;124mf\u001b[39m\u001b[38;5;124m\"\u001b[39m\u001b[38;5;124mIPython won\u001b[39m\u001b[38;5;124m'\u001b[39m\u001b[38;5;124mt let you open fd=\u001b[39m\u001b[38;5;132;01m{\u001b[39;00mfile\u001b[38;5;132;01m}\u001b[39;00m\u001b[38;5;124m by default \u001b[39m\u001b[38;5;124m\"\u001b[39m\n\u001b[0;32m    280\u001b[0m         \u001b[38;5;124m\"\u001b[39m\u001b[38;5;124mas it is likely to crash IPython. If you know what you are doing, \u001b[39m\u001b[38;5;124m\"\u001b[39m\n\u001b[0;32m    281\u001b[0m         \u001b[38;5;124m\"\u001b[39m\u001b[38;5;124myou can use builtins\u001b[39m\u001b[38;5;124m'\u001b[39m\u001b[38;5;124m open.\u001b[39m\u001b[38;5;124m\"\u001b[39m\n\u001b[0;32m    282\u001b[0m     )\n\u001b[1;32m--> 284\u001b[0m \u001b[38;5;28;01mreturn\u001b[39;00m \u001b[43mio_open\u001b[49m\u001b[43m(\u001b[49m\u001b[43mfile\u001b[49m\u001b[43m,\u001b[49m\u001b[43m \u001b[49m\u001b[38;5;241;43m*\u001b[39;49m\u001b[43margs\u001b[49m\u001b[43m,\u001b[49m\u001b[43m \u001b[49m\u001b[38;5;241;43m*\u001b[39;49m\u001b[38;5;241;43m*\u001b[39;49m\u001b[43mkwargs\u001b[49m\u001b[43m)\u001b[49m\n",
      "\u001b[1;31mFileNotFoundError\u001b[0m: [Errno 2] No such file or directory: '../data/dailymail/0003ad6ef0c37534f80b55b4235108024b407f0b.story'"
     ]
    }
   ],
   "source": [
    "for file in files_daily:\n",
    "    with open(f\"{path_folder}dailymail/{file}\", \"r+\", encoding=\"utf-8\") as f:\n",
    "        print(file)\n",
    "        content = json.load(f)\n",
    "        translate_summary = ts.translate_text(content[\"summary\"], \n",
    "                                              from_language='en', to_language='vi', \n",
    "                                              translator='google')\n",
    "        content[\"translate\"] = translate_summary\n",
    "        f.seek(0)\n",
    "        json.dump(content, f, ensure_ascii=False, indent=2)\n",
    "        f.truncate()\n",
    "        f.close()\n",
    "print(\"Done!\")"
   ]
  }
 ],
 "metadata": {
  "kernelspec": {
   "display_name": "Python 3",
   "language": "python",
   "name": "python3"
  },
  "language_info": {
   "codemirror_mode": {
    "name": "ipython",
    "version": 3
   },
   "file_extension": ".py",
   "mimetype": "text/x-python",
   "name": "python",
   "nbconvert_exporter": "python",
   "pygments_lexer": "ipython3",
   "version": "3.11.5"
  }
 },
 "nbformat": 4,
 "nbformat_minor": 2
}
