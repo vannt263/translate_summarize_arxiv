{
 "cells": [
  {
   "cell_type": "code",
   "execution_count": 5,
   "metadata": {},
   "outputs": [],
   "source": [
    "import os\n",
    "import re\n",
    "import json\n",
    "import shutil\n",
    "import translators as ts"
   ]
  },
  {
   "cell_type": "markdown",
   "metadata": {},
   "source": [
    "### Ghép các đoạn rời rạc và thực hiện lưu lại file dưới dạng json"
   ]
  },
  {
   "cell_type": "code",
   "execution_count": 99,
   "metadata": {},
   "outputs": [],
   "source": [
    "path_folder = \"../data/\"\n",
    "files_cnn = os.listdir(f\"{path_folder}cnn\")\n",
    "files_daily = os.listdir(f\"{path_folder}dailymail\")"
   ]
  },
  {
   "cell_type": "code",
   "execution_count": null,
   "metadata": {},
   "outputs": [],
   "source": [
    "for file in files_cnn:\n",
    "    with open(f\"{path_folder}cnn/{file}\", \"r+\", encoding=\"utf-8\") as f:\n",
    "        content = f.read()\n",
    "\n",
    "        # Tìm vị trí các highlight\n",
    "        highlight_index = content.find('@highlight')\n",
    "        # Chia nội dung thành 2 phần: nội dung chính và tóm tắt\n",
    "        news = content[:highlight_index].replace('\\n', ' ').strip()\n",
    "        summary = content[highlight_index + len('@highlight'):]\\\n",
    "                        .replace('\\n', ' ').replace('@highlight', '').strip()\n",
    "        # Loại bỏ các khoảng trắng\n",
    "        news = re.sub(r'\\s+', ' ', news)\n",
    "        summary = re.sub(r'\\s+', ' ', summary)\n",
    "        json_data = {\n",
    "            \"news\": news,\n",
    "            \"summary\": summary\n",
    "        }\n",
    "\n",
    "        f.seek(0)\n",
    "        # Chuyển đối tượng Python thành chuỗi JSON và ghi vào tệp tin\n",
    "        json.dump(json_data, f, ensure_ascii=False, indent=2)\n",
    "        # Cắt bớt phần còn lại của tệp tin (nếu có)\n",
    "        f.truncate()\n",
    "        f.close()"
   ]
  },
  {
   "cell_type": "code",
   "execution_count": 4,
   "metadata": {},
   "outputs": [],
   "source": [
    "for file in files_daily:\n",
    "    with open(f\"{path_folder}dailymail/{file}\", \"r+\", encoding=\"utf-8\") as f:\n",
    "        content = f.read()\n",
    "\n",
    "        # Tìm vị trí các highlight\n",
    "        highlight_index = content.find('@highlight')\n",
    "        # Chia nội dung thành 2 phần: nội dung chính và tóm tắt\n",
    "        news = content[:highlight_index].replace('\\n', ' ').strip()\n",
    "        summary = content[highlight_index + len('@highlight'):]\\\n",
    "                        .replace('\\n', ' ').replace('@highlight', '').strip()\n",
    "        # Loại bỏ các khoảng trắng\n",
    "        news = re.sub(r'\\s+', ' ', news)\n",
    "        summary = re.sub(r'\\s+', ' ', summary)\n",
    "        json_data = {\n",
    "            \"news\": news,\n",
    "            \"summary\": summary\n",
    "        }\n",
    "\n",
    "        f.seek(0)\n",
    "        # Chuyển đối tượng Python thành chuỗi JSON và ghi vào tệp tin\n",
    "        json.dump(json_data, f, ensure_ascii=False, indent=2)\n",
    "        # Cắt bớt phần còn lại của tệp tin (nếu có)\n",
    "        f.truncate()\n",
    "        f.close()"
   ]
  },
  {
   "cell_type": "markdown",
   "metadata": {},
   "source": [
    "### Tạo thuộc tính tiếng việt được dịch từ văn bản tóm tắt."
   ]
  },
  {
   "cell_type": "code",
   "execution_count": 102,
   "metadata": {},
   "outputs": [],
   "source": [
    "import time"
   ]
  },
  {
   "cell_type": "code",
   "execution_count": 109,
   "metadata": {},
   "outputs": [],
   "source": [
    "path_folder = \"../data/\"\n",
    "files_cnn = os.listdir(f\"{path_folder}cnn\")\n",
    "files_daily = os.listdir(f\"{path_folder}dailymail\")"
   ]
  },
  {
   "cell_type": "code",
   "execution_count": 110,
   "metadata": {},
   "outputs": [
    {
     "name": "stdout",
     "output_type": "stream",
     "text": [
      "021e9cc6cd9813e06114498450178df0b71ebee6.story\n"
     ]
    },
    {
     "ename": "HTTPError",
     "evalue": "429 Client Error: Too Many Requests for url: https://www.google.com/sorry/index?continue=https://translate.google.com/_/TranslateWebserverUi/data/batchexecute&q=EhAkAggAYQXV6uA235aTeiFBGIDF56sGIjD_bR3I5IhU6_Tm1wAFQ9aZimaL1DV60tbZgR-56xMdWazyPiu552tXJLH2KkHjlQ0yAXJaAUM",
     "output_type": "error",
     "traceback": [
      "\u001b[1;31m---------------------------------------------------------------------------\u001b[0m",
      "\u001b[1;31mHTTPError\u001b[0m                                 Traceback (most recent call last)",
      "Cell \u001b[1;32mIn[110], line 6\u001b[0m\n\u001b[0;32m      4\u001b[0m \u001b[38;5;28mprint\u001b[39m(file)\n\u001b[0;32m      5\u001b[0m content \u001b[38;5;241m=\u001b[39m json\u001b[38;5;241m.\u001b[39mload(f)\n\u001b[1;32m----> 6\u001b[0m translate_summary \u001b[38;5;241m=\u001b[39m \u001b[43mts\u001b[49m\u001b[38;5;241;43m.\u001b[39;49m\u001b[43mtranslate_text\u001b[49m\u001b[43m(\u001b[49m\u001b[43mcontent\u001b[49m\u001b[43m[\u001b[49m\u001b[38;5;124;43m\"\u001b[39;49m\u001b[38;5;124;43msummary\u001b[39;49m\u001b[38;5;124;43m\"\u001b[39;49m\u001b[43m]\u001b[49m\u001b[43m,\u001b[49m\u001b[43m \u001b[49m\n\u001b[0;32m      7\u001b[0m \u001b[43m                                    \u001b[49m\u001b[43mfrom_language\u001b[49m\u001b[38;5;241;43m=\u001b[39;49m\u001b[38;5;124;43m'\u001b[39;49m\u001b[38;5;124;43men\u001b[39;49m\u001b[38;5;124;43m'\u001b[39;49m\u001b[43m,\u001b[49m\u001b[43m \u001b[49m\u001b[43mto_language\u001b[49m\u001b[38;5;241;43m=\u001b[39;49m\u001b[38;5;124;43m'\u001b[39;49m\u001b[38;5;124;43mvi\u001b[39;49m\u001b[38;5;124;43m'\u001b[39;49m\u001b[43m,\u001b[49m\u001b[43m \u001b[49m\n\u001b[0;32m      8\u001b[0m \u001b[43m                                    \u001b[49m\u001b[43mtranslator\u001b[49m\u001b[38;5;241;43m=\u001b[39;49m\u001b[38;5;124;43m'\u001b[39;49m\u001b[38;5;124;43mgoogle\u001b[39;49m\u001b[38;5;124;43m'\u001b[39;49m\u001b[43m)\u001b[49m\n\u001b[0;32m      9\u001b[0m content[\u001b[38;5;124m\"\u001b[39m\u001b[38;5;124mtranslate\u001b[39m\u001b[38;5;124m\"\u001b[39m] \u001b[38;5;241m=\u001b[39m translate_summary\n\u001b[0;32m     10\u001b[0m f\u001b[38;5;241m.\u001b[39mseek(\u001b[38;5;241m0\u001b[39m)\n",
      "File \u001b[1;32mc:\\Users\\vannt\\AppData\\Local\\Programs\\Python\\Python311\\Lib\\site-packages\\translators\\server.py:5312\u001b[0m, in \u001b[0;36mTranslatorsServer.translate_text\u001b[1;34m(self, query_text, translator, from_language, to_language, if_use_preacceleration, **kwargs)\u001b[0m\n\u001b[0;32m   5309\u001b[0m \u001b[38;5;28;01mif\u001b[39;00m \u001b[38;5;129;01mnot\u001b[39;00m \u001b[38;5;28mself\u001b[39m\u001b[38;5;241m.\u001b[39mpre_acceleration_label \u001b[38;5;129;01mand\u001b[39;00m if_use_preacceleration:\n\u001b[0;32m   5310\u001b[0m     _ \u001b[38;5;241m=\u001b[39m \u001b[38;5;28mself\u001b[39m\u001b[38;5;241m.\u001b[39mpreaccelerate()\n\u001b[1;32m-> 5312\u001b[0m \u001b[38;5;28;01mreturn\u001b[39;00m \u001b[38;5;28;43mself\u001b[39;49m\u001b[38;5;241;43m.\u001b[39;49m\u001b[43mtranslators_dict\u001b[49m\u001b[43m[\u001b[49m\u001b[43mtranslator\u001b[49m\u001b[43m]\u001b[49m\u001b[43m(\u001b[49m\u001b[43mquery_text\u001b[49m\u001b[38;5;241;43m=\u001b[39;49m\u001b[43mquery_text\u001b[49m\u001b[43m,\u001b[49m\u001b[43m \u001b[49m\u001b[43mfrom_language\u001b[49m\u001b[38;5;241;43m=\u001b[39;49m\u001b[43mfrom_language\u001b[49m\u001b[43m,\u001b[49m\u001b[43m \u001b[49m\u001b[43mto_language\u001b[49m\u001b[38;5;241;43m=\u001b[39;49m\u001b[43mto_language\u001b[49m\u001b[43m,\u001b[49m\u001b[43m \u001b[49m\u001b[38;5;241;43m*\u001b[39;49m\u001b[38;5;241;43m*\u001b[39;49m\u001b[43mkwargs\u001b[49m\u001b[43m)\u001b[49m\n",
      "File \u001b[1;32mc:\\Users\\vannt\\AppData\\Local\\Programs\\Python\\Python311\\Lib\\site-packages\\translators\\server.py:104\u001b[0m, in \u001b[0;36mTse.time_stat.<locals>._wrapper\u001b[1;34m(*args, **kwargs)\u001b[0m\n\u001b[0;32m    102\u001b[0m     sys\u001b[38;5;241m.\u001b[39mstderr\u001b[38;5;241m.\u001b[39mwrite(\u001b[38;5;124mf\u001b[39m\u001b[38;5;124m'\u001b[39m\u001b[38;5;124mTimeSpent(function: \u001b[39m\u001b[38;5;132;01m{\u001b[39;00mfunc\u001b[38;5;241m.\u001b[39m\u001b[38;5;18m__name__\u001b[39m[:\u001b[38;5;241m-\u001b[39m\u001b[38;5;241m4\u001b[39m]\u001b[38;5;132;01m}\u001b[39;00m\u001b[38;5;124m): \u001b[39m\u001b[38;5;132;01m{\u001b[39;00mcost_time\u001b[38;5;132;01m}\u001b[39;00m\u001b[38;5;124ms\u001b[39m\u001b[38;5;130;01m\\n\u001b[39;00m\u001b[38;5;124m'\u001b[39m)\n\u001b[0;32m    103\u001b[0m     \u001b[38;5;28;01mreturn\u001b[39;00m result\n\u001b[1;32m--> 104\u001b[0m \u001b[38;5;28;01mreturn\u001b[39;00m \u001b[43mfunc\u001b[49m\u001b[43m(\u001b[49m\u001b[38;5;241;43m*\u001b[39;49m\u001b[43margs\u001b[49m\u001b[43m,\u001b[49m\u001b[43m \u001b[49m\u001b[38;5;241;43m*\u001b[39;49m\u001b[38;5;241;43m*\u001b[39;49m\u001b[43mkwargs\u001b[49m\u001b[43m)\u001b[49m\n",
      "File \u001b[1;32mc:\\Users\\vannt\\AppData\\Local\\Programs\\Python\\Python311\\Lib\\site-packages\\translators\\server.py:273\u001b[0m, in \u001b[0;36mTse.check_query.<locals>._wrapper\u001b[1;34m(*args, **kwargs)\u001b[0m\n\u001b[0;32m    271\u001b[0m     new_args[\u001b[38;5;241m1\u001b[39m] \u001b[38;5;241m=\u001b[39m query_text\n\u001b[0;32m    272\u001b[0m     \u001b[38;5;28;01mreturn\u001b[39;00m func(\u001b[38;5;241m*\u001b[39m\u001b[38;5;28mtuple\u001b[39m(new_args), \u001b[38;5;241m*\u001b[39m\u001b[38;5;241m*\u001b[39mkwargs)\n\u001b[1;32m--> 273\u001b[0m \u001b[38;5;28;01mreturn\u001b[39;00m \u001b[43mfunc\u001b[49m\u001b[43m(\u001b[49m\u001b[38;5;241;43m*\u001b[39;49m\u001b[43margs\u001b[49m\u001b[43m,\u001b[49m\u001b[43m \u001b[49m\u001b[38;5;241;43m*\u001b[39;49m\u001b[38;5;241;43m*\u001b[39;49m\u001b[43m{\u001b[49m\u001b[38;5;241;43m*\u001b[39;49m\u001b[38;5;241;43m*\u001b[39;49m\u001b[43mkwargs\u001b[49m\u001b[43m,\u001b[49m\u001b[43m \u001b[49m\u001b[38;5;241;43m*\u001b[39;49m\u001b[38;5;241;43m*\u001b[39;49m\u001b[43m{\u001b[49m\u001b[38;5;124;43m'\u001b[39;49m\u001b[38;5;124;43mquery_text\u001b[39;49m\u001b[38;5;124;43m'\u001b[39;49m\u001b[43m:\u001b[49m\u001b[43m \u001b[49m\u001b[43mquery_text\u001b[49m\u001b[43m}\u001b[49m\u001b[43m}\u001b[49m\u001b[43m)\u001b[49m\n",
      "File \u001b[1;32mc:\\Users\\vannt\\AppData\\Local\\Programs\\Python\\Python311\\Lib\\site-packages\\translators\\server.py:621\u001b[0m, in \u001b[0;36mGoogleV2.google_api\u001b[1;34m(self, query_text, from_language, to_language, **kwargs)\u001b[0m\n\u001b[0;32m    619\u001b[0m rpc_data \u001b[38;5;241m=\u001b[39m urllib\u001b[38;5;241m.\u001b[39mparse\u001b[38;5;241m.\u001b[39murlencode(rpc_data)\n\u001b[0;32m    620\u001b[0m r \u001b[38;5;241m=\u001b[39m \u001b[38;5;28mself\u001b[39m\u001b[38;5;241m.\u001b[39msession\u001b[38;5;241m.\u001b[39mpost(\u001b[38;5;28mself\u001b[39m\u001b[38;5;241m.\u001b[39mapi_url, headers\u001b[38;5;241m=\u001b[39m\u001b[38;5;28mself\u001b[39m\u001b[38;5;241m.\u001b[39mapi_headers, data\u001b[38;5;241m=\u001b[39mrpc_data, timeout\u001b[38;5;241m=\u001b[39mtimeout, proxies\u001b[38;5;241m=\u001b[39mproxies)\n\u001b[1;32m--> 621\u001b[0m \u001b[43mr\u001b[49m\u001b[38;5;241;43m.\u001b[39;49m\u001b[43mraise_for_status\u001b[49m\u001b[43m(\u001b[49m\u001b[43m)\u001b[49m\n\u001b[0;32m    622\u001b[0m json_data \u001b[38;5;241m=\u001b[39m json\u001b[38;5;241m.\u001b[39mloads(r\u001b[38;5;241m.\u001b[39mtext[\u001b[38;5;241m6\u001b[39m:])\n\u001b[0;32m    623\u001b[0m data \u001b[38;5;241m=\u001b[39m json\u001b[38;5;241m.\u001b[39mloads(json_data[\u001b[38;5;241m0\u001b[39m][\u001b[38;5;241m2\u001b[39m])\n",
      "File \u001b[1;32mc:\\Users\\vannt\\AppData\\Local\\Programs\\Python\\Python311\\Lib\\site-packages\\requests\\models.py:1021\u001b[0m, in \u001b[0;36mResponse.raise_for_status\u001b[1;34m(self)\u001b[0m\n\u001b[0;32m   1016\u001b[0m     http_error_msg \u001b[38;5;241m=\u001b[39m (\n\u001b[0;32m   1017\u001b[0m         \u001b[38;5;124mf\u001b[39m\u001b[38;5;124m\"\u001b[39m\u001b[38;5;132;01m{\u001b[39;00m\u001b[38;5;28mself\u001b[39m\u001b[38;5;241m.\u001b[39mstatus_code\u001b[38;5;132;01m}\u001b[39;00m\u001b[38;5;124m Server Error: \u001b[39m\u001b[38;5;132;01m{\u001b[39;00mreason\u001b[38;5;132;01m}\u001b[39;00m\u001b[38;5;124m for url: \u001b[39m\u001b[38;5;132;01m{\u001b[39;00m\u001b[38;5;28mself\u001b[39m\u001b[38;5;241m.\u001b[39murl\u001b[38;5;132;01m}\u001b[39;00m\u001b[38;5;124m\"\u001b[39m\n\u001b[0;32m   1018\u001b[0m     )\n\u001b[0;32m   1020\u001b[0m \u001b[38;5;28;01mif\u001b[39;00m http_error_msg:\n\u001b[1;32m-> 1021\u001b[0m     \u001b[38;5;28;01mraise\u001b[39;00m HTTPError(http_error_msg, response\u001b[38;5;241m=\u001b[39m\u001b[38;5;28mself\u001b[39m)\n",
      "\u001b[1;31mHTTPError\u001b[0m: 429 Client Error: Too Many Requests for url: https://www.google.com/sorry/index?continue=https://translate.google.com/_/TranslateWebserverUi/data/batchexecute&q=EhAkAggAYQXV6uA235aTeiFBGIDF56sGIjD_bR3I5IhU6_Tm1wAFQ9aZimaL1DV60tbZgR-56xMdWazyPiu552tXJLH2KkHjlQ0yAXJaAUM"
     ]
    }
   ],
   "source": [
    "translate_files = []\n",
    "for file in files_daily[:1000]:\n",
    "    with open(f\"{path_folder}dailymail/{file}\", \"r+\", encoding=\"utf-8\") as f:\n",
    "        print(file)\n",
    "        content = json.load(f)\n",
    "        translate_summary = ts.translate_text(content[\"summary\"], \n",
    "                                            from_language='en', to_language='vi', \n",
    "                                            translator='google')\n",
    "        content[\"translate\"] = translate_summary\n",
    "        f.seek(0)\n",
    "        json.dump(content, f, ensure_ascii=False, indent=2)\n",
    "        f.truncate()\n",
    "        shutil.copy(f\"{path_folder}dailymail/{file}\",f\"../data_translate/{file[:-5]}txt\")\n",
    "        translate_files.append(file)\n",
    "    time.sleep(0.01)\n",
    "print(\"Done!\")"
   ]
  },
  {
   "cell_type": "code",
   "execution_count": null,
   "metadata": {},
   "outputs": [
    {
     "name": "stdout",
     "output_type": "stream",
     "text": [
      "Deleted: 021e29b92354869b3ec8be5c7d07d8ca6981877b.story\n"
     ]
    }
   ],
   "source": [
    "for file_name in translate_files:\n",
    "    file_path_to_delete = f\"{path_folder}dailymail/{file_name}\"\n",
    "    \n",
    "    # Kiểm tra xem tệp tồn tại trước khi xóa để tránh lỗi\n",
    "    if os.path.exists(file_path_to_delete):\n",
    "        os.remove(file_path_to_delete)\n",
    "        print(f\"Deleted: {file_name}\")\n",
    "    else:\n",
    "        print(f\"File not found: {file_name}\")"
   ]
  }
 ],
 "metadata": {
  "kernelspec": {
   "display_name": "Python 3",
   "language": "python",
   "name": "python3"
  },
  "language_info": {
   "codemirror_mode": {
    "name": "ipython",
    "version": 3
   },
   "file_extension": ".py",
   "mimetype": "text/x-python",
   "name": "python",
   "nbconvert_exporter": "python",
   "pygments_lexer": "ipython3",
   "version": "3.11.5"
  }
 },
 "nbformat": 4,
 "nbformat_minor": 2
}
