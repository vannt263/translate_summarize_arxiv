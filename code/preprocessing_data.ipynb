{
 "cells": [
  {
   "cell_type": "code",
   "execution_count": 1,
   "metadata": {},
   "outputs": [],
   "source": [
    "import os\n",
    "import re\n",
    "import json\n",
    "import translators as ts"
   ]
  },
  {
   "cell_type": "markdown",
   "metadata": {},
   "source": [
    "### Ghép các đoạn rời rạc và thực hiện lưu lại file dưới dạng json"
   ]
  },
  {
   "cell_type": "code",
   "execution_count": 2,
   "metadata": {},
   "outputs": [],
   "source": [
    "path_folder = \"../data/\"\n",
    "files_cnn = os.listdir(f\"{path_folder}cnn\")\n",
    "files_daily = os.listdir(f\"{path_folder}dailymail\")"
   ]
  },
  {
   "cell_type": "code",
   "execution_count": 3,
   "metadata": {},
   "outputs": [],
   "source": [
    "for file in files_cnn:\n",
    "    with open(f\"{path_folder}cnn/{file}\", \"r+\", encoding=\"utf-8\") as f:\n",
    "        content = f.read()\n",
    "\n",
    "        # Tìm vị trí các highlight\n",
    "        highlight_index = content.find('@highlight')\n",
    "        # Chia nội dung thành 2 phần: nội dung chính và tóm tắt\n",
    "        news = content[:highlight_index].replace('\\n', ' ').strip()\n",
    "        summary = content[highlight_index + len('@highlight'):]\\\n",
    "                        .replace('\\n', ' ').replace('@highlight', '').strip()\n",
    "        # Loại bỏ các khoảng trắng\n",
    "        news = re.sub(r'\\s+', ' ', news)\n",
    "        summary = re.sub(r'\\s+', ' ', summary)\n",
    "        json_data = {\n",
    "            \"news\": news,\n",
    "            \"summary\": summary\n",
    "        }\n",
    "\n",
    "        f.seek(0)\n",
    "        # Chuyển đối tượng Python thành chuỗi JSON và ghi vào tệp tin\n",
    "        json.dump(json_data, f, ensure_ascii=False, indent=2)\n",
    "        # Cắt bớt phần còn lại của tệp tin (nếu có)\n",
    "        f.truncate()\n",
    "        f.close()"
   ]
  },
  {
   "cell_type": "code",
   "execution_count": 4,
   "metadata": {},
   "outputs": [],
   "source": [
    "for file in files_daily:\n",
    "    with open(f\"{path_folder}dailymail/{file}\", \"r+\", encoding=\"utf-8\") as f:\n",
    "        content = f.read()\n",
    "\n",
    "        # Tìm vị trí các highlight\n",
    "        highlight_index = content.find('@highlight')\n",
    "        # Chia nội dung thành 2 phần: nội dung chính và tóm tắt\n",
    "        news = content[:highlight_index].replace('\\n', ' ').strip()\n",
    "        summary = content[highlight_index + len('@highlight'):]\\\n",
    "                        .replace('\\n', ' ').replace('@highlight', '').strip()\n",
    "        # Loại bỏ các khoảng trắng\n",
    "        news = re.sub(r'\\s+', ' ', news)\n",
    "        summary = re.sub(r'\\s+', ' ', summary)\n",
    "        json_data = {\n",
    "            \"news\": news,\n",
    "            \"summary\": summary\n",
    "        }\n",
    "\n",
    "        f.seek(0)\n",
    "        # Chuyển đối tượng Python thành chuỗi JSON và ghi vào tệp tin\n",
    "        json.dump(json_data, f, ensure_ascii=False, indent=2)\n",
    "        # Cắt bớt phần còn lại của tệp tin (nếu có)\n",
    "        f.truncate()\n",
    "        f.close()"
   ]
  },
  {
   "cell_type": "markdown",
   "metadata": {},
   "source": [
    "### Tạo thuộc tính tiếng việt được dịch từ văn bản tóm tắt."
   ]
  },
  {
   "cell_type": "code",
   "execution_count": null,
   "metadata": {},
   "outputs": [],
   "source": []
  }
 ],
 "metadata": {
  "kernelspec": {
   "display_name": "Python 3",
   "language": "python",
   "name": "python3"
  },
  "language_info": {
   "codemirror_mode": {
    "name": "ipython",
    "version": 3
   },
   "file_extension": ".py",
   "mimetype": "text/x-python",
   "name": "python",
   "nbconvert_exporter": "python",
   "pygments_lexer": "ipython3",
   "version": "3.11.5"
  }
 },
 "nbformat": 4,
 "nbformat_minor": 2
}
