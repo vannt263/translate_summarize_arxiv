{
 "cells": [
  {
   "cell_type": "markdown",
   "metadata": {},
   "source": [
    "### Import thư viện"
   ]
  },
  {
   "cell_type": "code",
   "execution_count": 1,
   "metadata": {},
   "outputs": [],
   "source": [
    "import os\n",
    "import re\n",
    "import json\n",
    "import pandas as pd\n",
    "import matplotlib.pyplot as plt"
   ]
  },
  {
   "cell_type": "code",
   "execution_count": 2,
   "metadata": {},
   "outputs": [],
   "source": [
    "import spacy\n",
    "# Tải mô hình ngôn ngữ tiếng Anh từ spaCy\n",
    "nlp = spacy.load(\"en_core_web_lg\")"
   ]
  },
  {
   "cell_type": "code",
   "execution_count": 3,
   "metadata": {},
   "outputs": [],
   "source": [
    "from pyvi import ViTokenizer"
   ]
  },
  {
   "cell_type": "code",
   "execution_count": 4,
   "metadata": {},
   "outputs": [],
   "source": [
    "from tensorflow import keras\n",
    "from datasets import Dataset, DatasetDict\n",
    "from sklearn.model_selection import train_test_split\n",
    "from transformers import AutoTokenizer, TFAutoModelForSeq2SeqLM, DataCollatorForSeq2Seq, AdamWeightDecay"
   ]
  },
  {
   "cell_type": "markdown",
   "metadata": {},
   "source": [
    "---"
   ]
  },
  {
   "cell_type": "markdown",
   "metadata": {},
   "source": [
    "### Đọc file dữ liệu"
   ]
  },
  {
   "cell_type": "code",
   "execution_count": 5,
   "metadata": {},
   "outputs": [],
   "source": [
    "translate_folder = \"../data_translate/\"\n",
    "files = os.listdir(translate_folder)"
   ]
  },
  {
   "cell_type": "code",
   "execution_count": 6,
   "metadata": {},
   "outputs": [],
   "source": [
    "data_list = []\n",
    "for file in files:\n",
    "    with open(f\"{translate_folder}{file}\", \"r\", encoding=\"utf-8\") as f:\n",
    "        data_list.append(json.load(f))"
   ]
  },
  {
   "cell_type": "code",
   "execution_count": 7,
   "metadata": {},
   "outputs": [],
   "source": [
    "pattern = r'(?<!\\d)[^\\w\\s%](?!\\d)'\n",
    "def preprocessing(sentence, lang):\n",
    "    sentence = sentence.lower().strip()\n",
    "    if lang == \"eng\":\n",
    "        doc = nlp(sentence)\n",
    "        text = \" \".join([token.lemma_ for token in doc])\n",
    "        text = re.sub(fr'(?<!\\d)[^a-zA-Z0-9\\s]|[^a-zA-Z0-9\\s%](?!\\d)|{pattern}', '', text)\n",
    "        text = re.sub(r'\\s+', ' ', text)\n",
    "        return text\n",
    "    elif lang == \"vi\":\n",
    "        text = re.sub(r'[^\\w\\s]', '', sentence)\n",
    "        text = re.sub(r'\\s+', ' ', text)\n",
    "        text = ViTokenizer.tokenize(text)\n",
    "        return text"
   ]
  },
  {
   "cell_type": "code",
   "execution_count": 8,
   "metadata": {},
   "outputs": [
    {
     "data": {
      "text/html": [
       "<div>\n",
       "<style scoped>\n",
       "    .dataframe tbody tr th:only-of-type {\n",
       "        vertical-align: middle;\n",
       "    }\n",
       "\n",
       "    .dataframe tbody tr th {\n",
       "        vertical-align: top;\n",
       "    }\n",
       "\n",
       "    .dataframe thead th {\n",
       "        text-align: right;\n",
       "    }\n",
       "</style>\n",
       "<table border=\"1\" class=\"dataframe\">\n",
       "  <thead>\n",
       "    <tr style=\"text-align: right;\">\n",
       "      <th></th>\n",
       "      <th>article</th>\n",
       "      <th>highlights</th>\n",
       "      <th>vi</th>\n",
       "    </tr>\n",
       "  </thead>\n",
       "  <tbody>\n",
       "    <tr>\n",
       "      <th>0</th>\n",
       "      <td>For years they have been a source of joy for y...</td>\n",
       "      <td>More youngsters end up in hospital after tramp...</td>\n",
       "      <td>Nhiều thanh niên phải nhập viện sau khi nhiếp ...</td>\n",
       "    </tr>\n",
       "    <tr>\n",
       "      <th>1</th>\n",
       "      <td>Once again: a hidden camera has caught New Yor...</td>\n",
       "      <td>Woman walks around New York in yoga pants with...</td>\n",
       "      <td>Người phụ nữ đi dạo quanh New York trong chiếc...</td>\n",
       "    </tr>\n",
       "    <tr>\n",
       "      <th>2</th>\n",
       "      <td>I thought it would be a good chance for Roy Ho...</td>\n",
       "      <td>James Milner did not move the ball quickly eno...</td>\n",
       "      <td>James Milner di chuyển bóng không đủ nhanh tro...</td>\n",
       "    </tr>\n",
       "    <tr>\n",
       "      <th>3</th>\n",
       "      <td>3D reconstructions of Richard III's spine show...</td>\n",
       "      <td>Shakespeare described Richard III as a 'poison...</td>\n",
       "      <td>Shakespeare mô tả Richard III là 'con lưng gù ...</td>\n",
       "    </tr>\n",
       "    <tr>\n",
       "      <th>4</th>\n",
       "      <td>This is the moment a brave buffalo charged thr...</td>\n",
       "      <td>The buffalo and its young became separated fro...</td>\n",
       "      <td>Con trâu và đàn con bị ba sư tử đói ở Tanzania...</td>\n",
       "    </tr>\n",
       "    <tr>\n",
       "      <th>...</th>\n",
       "      <td>...</td>\n",
       "      <td>...</td>\n",
       "      <td>...</td>\n",
       "    </tr>\n",
       "    <tr>\n",
       "      <th>1017</th>\n",
       "      <td>A new Red Bull advert which makes light of the...</td>\n",
       "      <td>Advert shows Titanic captain dismissing crate ...</td>\n",
       "      <td>Quảng cáo cho thấy thuyền trưởng Titanic đang ...</td>\n",
       "    </tr>\n",
       "    <tr>\n",
       "      <th>1018</th>\n",
       "      <td>By . Laura Silver for MailOnline . Everyone lo...</td>\n",
       "      <td>Two-year-old Miles is intent on getting forty ...</td>\n",
       "      <td>Cậu bé Miles hai tuổi đang có ý định nhận được...</td>\n",
       "    </tr>\n",
       "    <tr>\n",
       "      <th>1019</th>\n",
       "      <td>By . Associated Press Reporter and Daily Mail ...</td>\n",
       "      <td>Tampa socialite who tipped off FBI about Petra...</td>\n",
       "      <td>Trang xã hội Tampa, người đã tiết lộ cho FBI v...</td>\n",
       "    </tr>\n",
       "    <tr>\n",
       "      <th>1020</th>\n",
       "      <td>Devastated British tycoon Alan Bond yesterday ...</td>\n",
       "      <td>Diana Bliss, 57, had stood by husband's side a...</td>\n",
       "      <td>Diana Bliss, 57 tuổi, đã sát cánh bên chồng sa...</td>\n",
       "    </tr>\n",
       "    <tr>\n",
       "      <th>1021</th>\n",
       "      <td>(CNN) -- It came closer ... closer ... and the...</td>\n",
       "      <td>An asteroid flies by Earth in the closest reco...</td>\n",
       "      <td>Một tiểu hành tinh bay ngang qua Trái đất theo...</td>\n",
       "    </tr>\n",
       "  </tbody>\n",
       "</table>\n",
       "<p>1022 rows × 3 columns</p>\n",
       "</div>"
      ],
      "text/plain": [
       "                                                article  \\\n",
       "0     For years they have been a source of joy for y...   \n",
       "1     Once again: a hidden camera has caught New Yor...   \n",
       "2     I thought it would be a good chance for Roy Ho...   \n",
       "3     3D reconstructions of Richard III's spine show...   \n",
       "4     This is the moment a brave buffalo charged thr...   \n",
       "...                                                 ...   \n",
       "1017  A new Red Bull advert which makes light of the...   \n",
       "1018  By . Laura Silver for MailOnline . Everyone lo...   \n",
       "1019  By . Associated Press Reporter and Daily Mail ...   \n",
       "1020  Devastated British tycoon Alan Bond yesterday ...   \n",
       "1021  (CNN) -- It came closer ... closer ... and the...   \n",
       "\n",
       "                                             highlights  \\\n",
       "0     More youngsters end up in hospital after tramp...   \n",
       "1     Woman walks around New York in yoga pants with...   \n",
       "2     James Milner did not move the ball quickly eno...   \n",
       "3     Shakespeare described Richard III as a 'poison...   \n",
       "4     The buffalo and its young became separated fro...   \n",
       "...                                                 ...   \n",
       "1017  Advert shows Titanic captain dismissing crate ...   \n",
       "1018  Two-year-old Miles is intent on getting forty ...   \n",
       "1019  Tampa socialite who tipped off FBI about Petra...   \n",
       "1020  Diana Bliss, 57, had stood by husband's side a...   \n",
       "1021  An asteroid flies by Earth in the closest reco...   \n",
       "\n",
       "                                                     vi  \n",
       "0     Nhiều thanh niên phải nhập viện sau khi nhiếp ...  \n",
       "1     Người phụ nữ đi dạo quanh New York trong chiếc...  \n",
       "2     James Milner di chuyển bóng không đủ nhanh tro...  \n",
       "3     Shakespeare mô tả Richard III là 'con lưng gù ...  \n",
       "4     Con trâu và đàn con bị ba sư tử đói ở Tanzania...  \n",
       "...                                                 ...  \n",
       "1017  Quảng cáo cho thấy thuyền trưởng Titanic đang ...  \n",
       "1018  Cậu bé Miles hai tuổi đang có ý định nhận được...  \n",
       "1019  Trang xã hội Tampa, người đã tiết lộ cho FBI v...  \n",
       "1020  Diana Bliss, 57 tuổi, đã sát cánh bên chồng sa...  \n",
       "1021  Một tiểu hành tinh bay ngang qua Trái đất theo...  \n",
       "\n",
       "[1022 rows x 3 columns]"
      ]
     },
     "execution_count": 8,
     "metadata": {},
     "output_type": "execute_result"
    }
   ],
   "source": [
    "df = pd.DataFrame(data_list, index=range(len(data_list)))\n",
    "df"
   ]
  },
  {
   "cell_type": "code",
   "execution_count": 9,
   "metadata": {},
   "outputs": [],
   "source": [
    "df[\"highlights\"] = df['highlights'].apply(preprocessing, lang='eng')\n",
    "df['vi'] = df['vi'].apply(preprocessing, lang='vi')"
   ]
  },
  {
   "cell_type": "code",
   "execution_count": 10,
   "metadata": {},
   "outputs": [
    {
     "data": {
      "text/html": [
       "<div>\n",
       "<style scoped>\n",
       "    .dataframe tbody tr th:only-of-type {\n",
       "        vertical-align: middle;\n",
       "    }\n",
       "\n",
       "    .dataframe tbody tr th {\n",
       "        vertical-align: top;\n",
       "    }\n",
       "\n",
       "    .dataframe thead th {\n",
       "        text-align: right;\n",
       "    }\n",
       "</style>\n",
       "<table border=\"1\" class=\"dataframe\">\n",
       "  <thead>\n",
       "    <tr style=\"text-align: right;\">\n",
       "      <th></th>\n",
       "      <th>article</th>\n",
       "      <th>highlights</th>\n",
       "      <th>vi</th>\n",
       "    </tr>\n",
       "  </thead>\n",
       "  <tbody>\n",
       "    <tr>\n",
       "      <th>0</th>\n",
       "      <td>For years they have been a source of joy for y...</td>\n",
       "      <td>more youngster end up in hospital after trampo...</td>\n",
       "      <td>nhiều thanh_niên phải nhập_viện sau khi nhiếp_...</td>\n",
       "    </tr>\n",
       "    <tr>\n",
       "      <th>1</th>\n",
       "      <td>Once again: a hidden camera has caught New Yor...</td>\n",
       "      <td>woman walk around new york in yoga pant with c...</td>\n",
       "      <td>người phụ_nữ đi dạo quanh new york trong chiếc...</td>\n",
       "    </tr>\n",
       "    <tr>\n",
       "      <th>2</th>\n",
       "      <td>I thought it would be a good chance for Roy Ho...</td>\n",
       "      <td>james milner do not move the ball quickly enou...</td>\n",
       "      <td>james milner di_chuyển bóng không đủ nhanh tro...</td>\n",
       "    </tr>\n",
       "    <tr>\n",
       "      <th>3</th>\n",
       "      <td>3D reconstructions of Richard III's spine show...</td>\n",
       "      <td>shakespeare describe richard iii as a poisonou...</td>\n",
       "      <td>shakespeare mô_tả richard iii là con lưng gù đ...</td>\n",
       "    </tr>\n",
       "    <tr>\n",
       "      <th>4</th>\n",
       "      <td>This is the moment a brave buffalo charged thr...</td>\n",
       "      <td>the buffalo and its young become separate from...</td>\n",
       "      <td>con trâu và đàn con bị ba sư_tử đói ở tanzania...</td>\n",
       "    </tr>\n",
       "    <tr>\n",
       "      <th>...</th>\n",
       "      <td>...</td>\n",
       "      <td>...</td>\n",
       "      <td>...</td>\n",
       "    </tr>\n",
       "    <tr>\n",
       "      <th>1017</th>\n",
       "      <td>A new Red Bull advert which makes light of the...</td>\n",
       "      <td>advert show titanic captain dismiss crate of r...</td>\n",
       "      <td>quảng_cáo cho thấy thuyền_trưởng titanic đang ...</td>\n",
       "    </tr>\n",
       "    <tr>\n",
       "      <th>1018</th>\n",
       "      <td>By . Laura Silver for MailOnline . Everyone lo...</td>\n",
       "      <td>two year old mile be intent on get forty wink ...</td>\n",
       "      <td>cậu bé miles hai tuổi đang có ý_định nhận được...</td>\n",
       "    </tr>\n",
       "    <tr>\n",
       "      <th>1019</th>\n",
       "      <td>By . Associated Press Reporter and Daily Mail ...</td>\n",
       "      <td>tampa socialite who tip off fbi about petraeus...</td>\n",
       "      <td>trang xã_hội tampa người đã tiết_lộ cho fbi về...</td>\n",
       "    </tr>\n",
       "    <tr>\n",
       "      <th>1020</th>\n",
       "      <td>Devastated British tycoon Alan Bond yesterday ...</td>\n",
       "      <td>diana bliss 57 have stand by husband s side af...</td>\n",
       "      <td>diana bliss 57 tuổi đã sát_cánh bên chồng sau ...</td>\n",
       "    </tr>\n",
       "    <tr>\n",
       "      <th>1021</th>\n",
       "      <td>(CNN) -- It came closer ... closer ... and the...</td>\n",
       "      <td>an asteroid fly by earth in the close record a...</td>\n",
       "      <td>một tiểu hành_tinh bay ngang qua trái_đất theo...</td>\n",
       "    </tr>\n",
       "  </tbody>\n",
       "</table>\n",
       "<p>1022 rows × 3 columns</p>\n",
       "</div>"
      ],
      "text/plain": [
       "                                                article  \\\n",
       "0     For years they have been a source of joy for y...   \n",
       "1     Once again: a hidden camera has caught New Yor...   \n",
       "2     I thought it would be a good chance for Roy Ho...   \n",
       "3     3D reconstructions of Richard III's spine show...   \n",
       "4     This is the moment a brave buffalo charged thr...   \n",
       "...                                                 ...   \n",
       "1017  A new Red Bull advert which makes light of the...   \n",
       "1018  By . Laura Silver for MailOnline . Everyone lo...   \n",
       "1019  By . Associated Press Reporter and Daily Mail ...   \n",
       "1020  Devastated British tycoon Alan Bond yesterday ...   \n",
       "1021  (CNN) -- It came closer ... closer ... and the...   \n",
       "\n",
       "                                             highlights  \\\n",
       "0     more youngster end up in hospital after trampo...   \n",
       "1     woman walk around new york in yoga pant with c...   \n",
       "2     james milner do not move the ball quickly enou...   \n",
       "3     shakespeare describe richard iii as a poisonou...   \n",
       "4     the buffalo and its young become separate from...   \n",
       "...                                                 ...   \n",
       "1017  advert show titanic captain dismiss crate of r...   \n",
       "1018  two year old mile be intent on get forty wink ...   \n",
       "1019  tampa socialite who tip off fbi about petraeus...   \n",
       "1020  diana bliss 57 have stand by husband s side af...   \n",
       "1021  an asteroid fly by earth in the close record a...   \n",
       "\n",
       "                                                     vi  \n",
       "0     nhiều thanh_niên phải nhập_viện sau khi nhiếp_...  \n",
       "1     người phụ_nữ đi dạo quanh new york trong chiếc...  \n",
       "2     james milner di_chuyển bóng không đủ nhanh tro...  \n",
       "3     shakespeare mô_tả richard iii là con lưng gù đ...  \n",
       "4     con trâu và đàn con bị ba sư_tử đói ở tanzania...  \n",
       "...                                                 ...  \n",
       "1017  quảng_cáo cho thấy thuyền_trưởng titanic đang ...  \n",
       "1018  cậu bé miles hai tuổi đang có ý_định nhận được...  \n",
       "1019  trang xã_hội tampa người đã tiết_lộ cho fbi về...  \n",
       "1020  diana bliss 57 tuổi đã sát_cánh bên chồng sau ...  \n",
       "1021  một tiểu hành_tinh bay ngang qua trái_đất theo...  \n",
       "\n",
       "[1022 rows x 3 columns]"
      ]
     },
     "execution_count": 10,
     "metadata": {},
     "output_type": "execute_result"
    }
   ],
   "source": [
    "df"
   ]
  },
  {
   "cell_type": "code",
   "execution_count": 10,
   "metadata": {},
   "outputs": [
    {
     "data": {
      "image/png": "[encoded data removed]",
      "text/plain": [
       "<Figure size 640x480 with 2 Axes>"
      ]
     },
     "metadata": {},
     "output_type": "display_data"
    }
   ],
   "source": [
    "# Khảo sát độ dài của chuỗi đầu vào và đầu ra\n",
    "highlights_word_count = []\n",
    "vi_word_count = []\n",
    "\n",
    "for i in df['highlights']:\n",
    "      highlights_word_count.append(len(i.split()))\n",
    "\n",
    "for i in df['vi']:\n",
    "      vi_word_count.append(len(i.split()))\n",
    "\n",
    "length_df = pd.DataFrame({'Tóm tắt': highlights_word_count, 'Dịch':vi_word_count})\n",
    "length_df.hist(bins = 50)\n",
    "plt.show()"
   ]
  },
  {
   "cell_type": "code",
   "execution_count": 11,
   "metadata": {},
   "outputs": [],
   "source": [
    "train_df, test_df = train_test_split(df, test_size=0.2, random_state=42)\n",
    "validation_df, test_df = train_test_split(test_df, test_size=0.5, random_state=42)"
   ]
  },
  {
   "cell_type": "code",
   "execution_count": 12,
   "metadata": {},
   "outputs": [],
   "source": [
    "train_dataset = Dataset.from_dict({\n",
    "    \"inputs\": train_df[\"highlights\"].values.tolist(),\n",
    "    \"targets\": train_df[\"vi\"].values.tolist()\n",
    "})\n",
    "\n",
    "test_dataset = Dataset.from_dict({\n",
    "    \"inputs\": test_df[\"highlights\"].values.tolist(),\n",
    "    \"targets\": test_df[\"vi\"].values.tolist()\n",
    "})\n",
    "\n",
    "validation_dataset = Dataset.from_dict({\n",
    "    \"inputs\": validation_df[\"highlights\"].values.tolist(),\n",
    "    \"targets\": validation_df[\"vi\"].values.tolist()\n",
    "})"
   ]
  },
  {
   "cell_type": "code",
   "execution_count": 13,
   "metadata": {},
   "outputs": [],
   "source": [
    "# Tạo DatasetDict\n",
    "dataset = DatasetDict({\n",
    "    \"train\": train_dataset,\n",
    "    \"val\": validation_dataset,\n",
    "    \"test\": test_dataset\n",
    "})"
   ]
  },
  {
   "cell_type": "code",
   "execution_count": 14,
   "metadata": {},
   "outputs": [
    {
     "data": {
      "text/plain": [
       "DatasetDict({\n",
       "    train: Dataset({\n",
       "        features: ['inputs', 'targets'],\n",
       "        num_rows: 817\n",
       "    })\n",
       "    val: Dataset({\n",
       "        features: ['inputs', 'targets'],\n",
       "        num_rows: 102\n",
       "    })\n",
       "    test: Dataset({\n",
       "        features: ['inputs', 'targets'],\n",
       "        num_rows: 103\n",
       "    })\n",
       "})"
      ]
     },
     "execution_count": 14,
     "metadata": {},
     "output_type": "execute_result"
    }
   ],
   "source": [
    "dataset"
   ]
  },
  {
   "cell_type": "markdown",
   "metadata": {},
   "source": [
    "---"
   ]
  },
  {
   "cell_type": "markdown",
   "metadata": {},
   "source": [
    "### Model VietAI/envit5-translation"
   ]
  },
  {
   "cell_type": "code",
   "execution_count": 16,
   "metadata": {},
   "outputs": [
    {
     "name": "stderr",
     "output_type": "stream",
     "text": [
      "c:\\Users\\vannt\\AppData\\Local\\Programs\\Python\\Python311\\Lib\\site-packages\\keras\\src\\initializers\\initializers.py:120: UserWarning: The initializer RandomNormal is unseeded and being called multiple times, which will return identical values each time (even if the initializer is unseeded). Please update your code to provide a seed to the initializer, or avoid using the same initializer instance more than once.\n",
      "  warnings.warn(\n",
      "All model checkpoint layers were used when initializing TFT5ForConditionalGeneration.\n",
      "\n",
      "All the layers of TFT5ForConditionalGeneration were initialized from the model checkpoint at VietAI/envit5-translation.\n",
      "If your task is similar to the task the model of the checkpoint was trained on, you can already use TFT5ForConditionalGeneration for predictions without further training.\n"
     ]
    }
   ],
   "source": [
    "tokenizer = AutoTokenizer.from_pretrained(\"VietAI/envit5-translation\")\n",
    "model = TFAutoModelForSeq2SeqLM.from_pretrained(\"VietAI/envit5-translation\")"
   ]
  },
  {
   "cell_type": "code",
   "execution_count": 17,
   "metadata": {},
   "outputs": [],
   "source": [
    "max_input_length = 128\n",
    "max_target_length = 128\n",
    "                         \n",
    "def preprocess_function(examples):\n",
    "    model_inputs = tokenizer( examples['inputs'],\n",
    "                                max_length=max_input_length,\n",
    "                                truncation=True\n",
    "                            )\n",
    "\n",
    "    labels = tokenizer( text_target=examples[\"targets\"],\n",
    "                        max_length=max_target_length,\n",
    "                        truncation=True\n",
    "                    )\n",
    "    \n",
    "    model_inputs[\"labels\"] = labels[\"input_ids\"]\n",
    "    return model_inputs"
   ]
  },
  {
   "cell_type": "code",
   "execution_count": 18,
   "metadata": {},
   "outputs": [
    {
     "data": {
      "application/vnd.jupyter.widget-view+json": {
       "model_id": "c58dae0e3394421a939a3daa93926532",
       "version_major": 2,
       "version_minor": 0
      },
      "text/plain": [
       "Map:   0%|          | 0/817 [00:00<?, ? examples/s]"
      ]
     },
     "metadata": {},
     "output_type": "display_data"
    },
    {
     "data": {
      "application/vnd.jupyter.widget-view+json": {
       "model_id": "1cbbe9e122224c7d815b7e5040ab164a",
       "version_major": 2,
       "version_minor": 0
      },
      "text/plain": [
       "Map:   0%|          | 0/102 [00:00<?, ? examples/s]"
      ]
     },
     "metadata": {},
     "output_type": "display_data"
    },
    {
     "data": {
      "application/vnd.jupyter.widget-view+json": {
       "model_id": "62165e74bd014ff48c1853a2b6eafafb",
       "version_major": 2,
       "version_minor": 0
      },
      "text/plain": [
       "Map:   0%|          | 0/103 [00:00<?, ? examples/s]"
      ]
     },
     "metadata": {},
     "output_type": "display_data"
    }
   ],
   "source": [
    "tokenizer_data = dataset.map(preprocess_function, batched = True, remove_columns = ['inputs', 'targets'])"
   ]
  },
  {
   "cell_type": "code",
   "execution_count": 19,
   "metadata": {},
   "outputs": [
    {
     "data": {
      "text/plain": [
       "DatasetDict({\n",
       "    train: Dataset({\n",
       "        features: ['input_ids', 'attention_mask', 'labels'],\n",
       "        num_rows: 817\n",
       "    })\n",
       "    val: Dataset({\n",
       "        features: ['input_ids', 'attention_mask', 'labels'],\n",
       "        num_rows: 102\n",
       "    })\n",
       "    test: Dataset({\n",
       "        features: ['input_ids', 'attention_mask', 'labels'],\n",
       "        num_rows: 103\n",
       "    })\n",
       "})"
      ]
     },
     "execution_count": 19,
     "metadata": {},
     "output_type": "execute_result"
    }
   ],
   "source": [
    "tokenizer_data"
   ]
  },
  {
   "cell_type": "code",
   "execution_count": 20,
   "metadata": {},
   "outputs": [],
   "source": [
    "data_collator = DataCollatorForSeq2Seq(tokenizer, model=model, return_tensors=\"tf\", pad_to_multiple_of=128)"
   ]
  },
  {
   "cell_type": "code",
   "execution_count": 21,
   "metadata": {},
   "outputs": [],
   "source": [
    "batch_size = 32\n",
    "learning_rate = 2e-5\n",
    "weight_decay = 0.01\n",
    "num_train_epochs = 1"
   ]
  },
  {
   "cell_type": "code",
   "execution_count": 22,
   "metadata": {},
   "outputs": [
    {
     "name": "stderr",
     "output_type": "stream",
     "text": [
      "You're using a T5TokenizerFast tokenizer. Please note that with a fast tokenizer, using the `__call__` method is faster than using a method to encode the text followed by a call to the `pad` method to get a padded encoding.\n"
     ]
    }
   ],
   "source": [
    "train_dataset = model.prepare_tf_dataset(\n",
    "    tokenizer_data[\"train\"],\n",
    "    batch_size=batch_size,\n",
    "    shuffle=True,\n",
    "    collate_fn=data_collator,\n",
    ")\n",
    "\n",
    "val_dataset = model.prepare_tf_dataset(\n",
    "    tokenizer_data[\"val\"],\n",
    "    batch_size=batch_size,\n",
    "    shuffle=True,\n",
    "    collate_fn=data_collator,\n",
    ")\n",
    "\n",
    "test_dataset = model.prepare_tf_dataset(\n",
    "    tokenizer_data[\"test\"],\n",
    "    batch_size=batch_size,\n",
    "    shuffle=True,\n",
    "    collate_fn=data_collator,\n",
    ")"
   ]
  },
  {
   "cell_type": "code",
   "execution_count": 23,
   "metadata": {},
   "outputs": [],
   "source": [
    "optimizer = AdamWeightDecay(learning_rate=learning_rate, weight_decay_rate=weight_decay)\n",
    "model.compile(optimizer=optimizer)\n",
    "check_point = keras.callbacks.ModelCheckpoint(\n",
    "    filepath='./model_translate.h5',\n",
    "    monitor='loss_accuracy',\n",
    "    mode='min',\n",
    "    save_best_only=True)"
   ]
  },
  {
   "cell_type": "code",
   "execution_count": 24,
   "metadata": {},
   "outputs": [
    {
     "name": "stdout",
     "output_type": "stream",
     "text": [
      "Epoch 1/2\n",
      "25/25 [==============================] - ETA: 0s - loss: 3.1128  WARNING:tensorflow:Can save best model only with loss_accuracy available, skipping.\n",
      "25/25 [==============================] - 4247s 169s/step - loss: 3.1128 - val_loss: 2.0784\n",
      "Epoch 2/2\n",
      "25/25 [==============================] - ETA: 0s - loss: 2.1920  WARNING:tensorflow:Can save best model only with loss_accuracy available, skipping.\n",
      "25/25 [==============================] - 4152s 166s/step - loss: 2.1920 - val_loss: 1.7874\n"
     ]
    },
    {
     "data": {
      "text/plain": [
       "<keras.src.callbacks.History at 0x158ee575490>"
      ]
     },
     "execution_count": 24,
     "metadata": {},
     "output_type": "execute_result"
    }
   ],
   "source": [
    "model.fit(train_dataset, validation_data=val_dataset, epochs=2, callbacks=[check_point])"
   ]
  },
  {
   "cell_type": "code",
   "execution_count": 31,
   "metadata": {},
   "outputs": [],
   "source": [
    "model.save_pretrained(\"tf_model/\")"
   ]
  },
  {
   "cell_type": "markdown",
   "metadata": {},
   "source": [
    "---"
   ]
  },
  {
   "cell_type": "markdown",
   "metadata": {},
   "source": [
    "### Đánh giá model"
   ]
  },
  {
   "cell_type": "code",
   "execution_count": 23,
   "metadata": {},
   "outputs": [],
   "source": [
    "import sacrebleu"
   ]
  },
  {
   "cell_type": "code",
   "execution_count": 31,
   "metadata": {},
   "outputs": [
    {
     "data": {
      "text/plain": [
       "Dataset({\n",
       "    features: ['inputs', 'targets'],\n",
       "    num_rows: 103\n",
       "})"
      ]
     },
     "execution_count": 31,
     "metadata": {},
     "output_type": "execute_result"
    }
   ],
   "source": [
    "test_dataset"
   ]
  },
  {
   "cell_type": "code",
   "execution_count": 32,
   "metadata": {},
   "outputs": [
    {
     "name": "stderr",
     "output_type": "stream",
     "text": [
      "c:\\Users\\vannt\\AppData\\Local\\Programs\\Python\\Python311\\Lib\\site-packages\\keras\\src\\initializers\\initializers.py:120: UserWarning: The initializer RandomNormal is unseeded and being called multiple times, which will return identical values each time (even if the initializer is unseeded). Please update your code to provide a seed to the initializer, or avoid using the same initializer instance more than once.\n",
      "  warnings.warn(\n",
      "All model checkpoint layers were used when initializing TFT5ForConditionalGeneration.\n",
      "\n",
      "All the layers of TFT5ForConditionalGeneration were initialized from the model checkpoint at VietAI/envit5-translation.\n",
      "If your task is similar to the task the model of the checkpoint was trained on, you can already use TFT5ForConditionalGeneration for predictions without further training.\n",
      "All model checkpoint layers were used when initializing TFT5ForConditionalGeneration.\n",
      "\n",
      "All the layers of TFT5ForConditionalGeneration were initialized from the model checkpoint at ../model/tf_model/.\n",
      "If your task is similar to the task the model of the checkpoint was trained on, you can already use TFT5ForConditionalGeneration for predictions without further training.\n"
     ]
    }
   ],
   "source": [
    "tokenizer = AutoTokenizer.from_pretrained(\"VietAI/envit5-translation\")\n",
    "model_pretrained = TFAutoModelForSeq2SeqLM.from_pretrained(\"VietAI/envit5-translation\")\n",
    "model_finetuning = TFAutoModelForSeq2SeqLM.from_pretrained(\"../model/tf_model/\")"
   ]
  },
  {
   "cell_type": "code",
   "execution_count": 25,
   "metadata": {},
   "outputs": [],
   "source": [
    "def generate_translation(model, input_text):\n",
    "    input_ids = tokenizer.encode(input_text, return_tensors=\"tf\")\n",
    "    outputs = model.generate(input_ids)\n",
    "    translated_text = tokenizer.decode(outputs[0], skip_special_tokens=True)\n",
    "    return translated_text"
   ]
  },
  {
   "cell_type": "code",
   "execution_count": 30,
   "metadata": {},
   "outputs": [
    {
     "name": "stdout",
     "output_type": "stream",
     "text": [
      "BLEU Score for Example 1: 5.251325596616349\n",
      "BLEU Score for Example 2: 0.06585560504961668\n",
      "BLEU Score for Example 3: 0.008962626621970787\n",
      "BLEU Score for Example 4: 0.23102943014927285\n",
      "BLEU Score for Example 5: 0.3663878271670461\n",
      "BLEU Score for Example 6: 2.3125177829660863\n",
      "BLEU Score for Example 7: 0.21867683349848419\n",
      "BLEU Score for Example 8: 0.5468482660226331\n",
      "BLEU Score for Example 9: 5.7206899887723175\n",
      "BLEU Score for Example 10: 1.1526963230184712\n",
      "BLEU Score for Example 11: 9.529367054520856\n",
      "BLEU Score for Example 12: 0.8764402403197127\n",
      "BLEU Score for Example 13: 5.3235010579974364\n",
      "BLEU Score for Example 14: 1.2818142001556916\n",
      "BLEU Score for Example 15: 0.6852971698484914\n",
      "BLEU Score for Example 16: 0.41853566905512946\n",
      "BLEU Score for Example 17: 0.1904476572881443\n",
      "BLEU Score for Example 18: 3.450055974355716\n",
      "BLEU Score for Example 19: 0.10817062280543367\n",
      "BLEU Score for Example 20: 0.0802692481879688\n",
      "BLEU Score for Example 21: 0.10394226594851783\n",
      "BLEU Score for Example 22: 0.38298080133318796\n",
      "BLEU Score for Example 23: 0.49625138676265435\n",
      "BLEU Score for Example 24: 0.5841792956789502\n",
      "BLEU Score for Example 25: 0.4052735899348558\n",
      "BLEU Score for Example 26: 0.9179213863997923\n",
      "BLEU Score for Example 27: 0.3432773374787358\n",
      "BLEU Score for Example 28: 8.115299234305544\n",
      "BLEU Score for Example 29: 7.021865332621252\n",
      "BLEU Score for Example 30: 2.1362960366390475\n",
      "BLEU Score for Example 31: 4.399528812808727\n",
      "BLEU Score for Example 32: 0.1703664409277382\n",
      "BLEU Score for Example 33: 0.060295842537981176\n",
      "BLEU Score for Example 34: 0.39540483111255514\n",
      "BLEU Score for Example 35: 5.703169067239735\n",
      "BLEU Score for Example 36: 7.131759202115914e-05\n",
      "BLEU Score for Example 37: 0.10843109519496928\n",
      "BLEU Score for Example 38: 0.3156816682401387\n",
      "BLEU Score for Example 39: 0.9983839336341742\n",
      "BLEU Score for Example 40: 4.26269678994185\n",
      "BLEU Score for Example 41: 7.347053125977879\n",
      "BLEU Score for Example 42: 0.5447346781918202\n",
      "BLEU Score for Example 43: 0.6161214073959218\n",
      "BLEU Score for Example 44: 0.8492741486742231\n",
      "BLEU Score for Example 45: 0.0003764127919507928\n",
      "BLEU Score for Example 46: 0.012660929430964704\n",
      "BLEU Score for Example 47: 0.05771682212143855\n",
      "BLEU Score for Example 48: 0.024903023369760014\n",
      "BLEU Score for Example 49: 0.1732461473134624\n",
      "BLEU Score for Example 50: 0.020330844800365816\n",
      "BLEU Score for Example 51: 1.894223652696387\n",
      "BLEU Score for Example 52: 3.022970815924934\n",
      "BLEU Score for Example 53: 3.7125783346654475\n",
      "BLEU Score for Example 54: 0.017815590955230762\n",
      "BLEU Score for Example 55: 0.17151139752585343\n",
      "BLEU Score for Example 56: 0.03620169362404773\n",
      "BLEU Score for Example 57: 2.1850949139340705\n",
      "BLEU Score for Example 58: 0.006723559412131435\n",
      "BLEU Score for Example 59: 1.9809096577173335\n",
      "BLEU Score for Example 60: 2.4341406987444985\n",
      "BLEU Score for Example 61: 4.176680257872766\n",
      "BLEU Score for Example 62: 3.698319037936861\n",
      "BLEU Score for Example 63: 0.0024700527736561547\n",
      "BLEU Score for Example 64: 0.00044569564967775806\n",
      "BLEU Score for Example 65: 1.8997105419617817\n",
      "BLEU Score for Example 66: 0.7083866699618928\n",
      "BLEU Score for Example 67: 0.1427504878416732\n",
      "BLEU Score for Example 68: 0.02383831813950244\n",
      "BLEU Score for Example 69: 0.34897640738877417\n",
      "BLEU Score for Example 70: 1.322027551274782\n",
      "BLEU Score for Example 71: 0.002820071155320238\n",
      "BLEU Score for Example 72: 0.5074383296949898\n",
      "BLEU Score for Example 73: 0.44173298864193017\n",
      "BLEU Score for Example 74: 3.9601167245884428\n",
      "BLEU Score for Example 75: 0.1782018973317403\n",
      "BLEU Score for Example 76: 0.13615200646875425\n",
      "BLEU Score for Example 77: 0.6841794021452646\n",
      "BLEU Score for Example 78: 0.8812123483331512\n",
      "BLEU Score for Example 79: 0.35866616520048317\n",
      "BLEU Score for Example 80: 2.0328166947258985\n",
      "BLEU Score for Example 81: 2.1511580272094597\n",
      "BLEU Score for Example 82: 0.07932302330132616\n",
      "BLEU Score for Example 83: 1.266927337605428\n",
      "BLEU Score for Example 84: 0.11876287950440811\n",
      "BLEU Score for Example 85: 0.013753669348288595\n",
      "BLEU Score for Example 86: 0.003952380420214137\n",
      "BLEU Score for Example 87: 0.6047946302806415\n",
      "BLEU Score for Example 88: 0.4128641466216793\n",
      "BLEU Score for Example 89: 0.00012033467944164169\n",
      "BLEU Score for Example 90: 0.055102287964144354\n",
      "BLEU Score for Example 91: 0.7097016208108075\n",
      "BLEU Score for Example 92: 0.7298094053998894\n",
      "BLEU Score for Example 93: 0.16256413501749073\n",
      "BLEU Score for Example 94: 0.05799691632417534\n",
      "BLEU Score for Example 95: 2.261039281374007\n",
      "BLEU Score for Example 96: 0.47964660007841675\n",
      "BLEU Score for Example 97: 0.12852206528571894\n",
      "BLEU Score for Example 98: 0.3552390032316065\n",
      "BLEU Score for Example 99: 0.10423056145398196\n",
      "BLEU Score for Example 100: 5.95407249181201\n",
      "BLEU Score for Example 101: 0.20386226020627207\n",
      "BLEU Score for Example 102: 0.06166345901897651\n",
      "BLEU Score for Example 103: 0.40071499174911307\n"
     ]
    }
   ],
   "source": [
    "# Tạo danh sách đầu ra dự đoán của mô hình\n",
    "predictions = [generate_translation(model_pretrained, input_text) for input_text in test_dataset[\"inputs\"]]\n",
    "\n",
    "# Chuyển đổi references và predictions thành định dạng phù hợp với sacrebleu\n",
    "references = [[target] for target in test_dataset[\"targets\"]]  # Mỗi reference là một list của các từ\n",
    "predictions = [target for target in predictions]  # Mỗi prediction là một chuỗi\n",
    "\n",
    "# Tính và lưu BLEU score cho từng cặp câu\n",
    "bleu_model_pretrained = []\n",
    "for i in range(len(predictions)):\n",
    "    reference = references[i]\n",
    "    prediction = predictions[i]\n",
    "\n",
    "    # Tính BLEU score cho cặp câu hiện tại\n",
    "    bleu = sacrebleu.corpus_bleu([prediction], [reference])\n",
    "\n",
    "    # Lưu BLEU score vào danh sách\n",
    "    bleu_model_pretrained.append(bleu.score)\n",
    "\n",
    "    # In kết quả\n",
    "    print(f\"BLEU Score for Example {i + 1}: {bleu.score}\")"
   ]
  },
  {
   "cell_type": "code",
   "execution_count": 33,
   "metadata": {},
   "outputs": [
    {
     "name": "stderr",
     "output_type": "stream",
     "text": [
      "c:\\Users\\vannt\\AppData\\Local\\Programs\\Python\\Python311\\Lib\\site-packages\\transformers\\generation\\tf_utils.py:838: UserWarning: Using the model-agnostic default `max_length` (=20) to control the generation length.  recommend setting `max_new_tokens` to control the maximum length of the generation.\n",
      "  warnings.warn(\n"
     ]
    },
    {
     "name": "stdout",
     "output_type": "stream",
     "text": [
      "BLEU Score for Example 1: 5.391483981339191\n",
      "BLEU Score for Example 2: 0.06509414060547228\n",
      "BLEU Score for Example 3: 0.011878845454047202\n",
      "BLEU Score for Example 4: 0.2408823468191835\n",
      "BLEU Score for Example 5: 0.2825778303179715\n",
      "BLEU Score for Example 6: 2.3125177829660863\n",
      "BLEU Score for Example 7: 0.3677691307758176\n",
      "BLEU Score for Example 8: 1.0548704522420085\n",
      "BLEU Score for Example 9: 10.670721614580264\n",
      "BLEU Score for Example 10: 1.757168251209286\n",
      "BLEU Score for Example 11: 1.401483084566282\n",
      "BLEU Score for Example 12: 0.9245083171968447\n",
      "BLEU Score for Example 13: 4.531449772693371\n",
      "BLEU Score for Example 14: 2.6861731923207386\n",
      "BLEU Score for Example 15: 0.5578167280558859\n",
      "BLEU Score for Example 16: 0.41853566905512946\n",
      "BLEU Score for Example 17: 0.6756385622080393\n",
      "BLEU Score for Example 18: 4.380961919583343\n",
      "BLEU Score for Example 19: 0.10503189462498921\n",
      "BLEU Score for Example 20: 0.08401261576611424\n",
      "BLEU Score for Example 21: 0.07820923618967607\n",
      "BLEU Score for Example 22: 0.6679679452596851\n",
      "BLEU Score for Example 23: 1.3619140791216213\n",
      "BLEU Score for Example 24: 0.4341905011199743\n",
      "BLEU Score for Example 25: 0.06904117200440096\n",
      "BLEU Score for Example 26: 1.1987946932613671\n",
      "BLEU Score for Example 27: 1.1538217962448911\n",
      "BLEU Score for Example 28: 12.246038092509215\n",
      "BLEU Score for Example 29: 7.163792908651503\n",
      "BLEU Score for Example 30: 8.033761483133002\n",
      "BLEU Score for Example 31: 5.5484616420071395\n",
      "BLEU Score for Example 32: 0.14888921812653363\n",
      "BLEU Score for Example 33: 0.07170424495125094\n",
      "BLEU Score for Example 34: 0.3828757746289184\n",
      "BLEU Score for Example 35: 10.102594011225909\n",
      "BLEU Score for Example 36: 1.7217642166140824e-05\n",
      "BLEU Score for Example 37: 0.22930384824509753\n",
      "BLEU Score for Example 38: 0.8872489833629267\n",
      "BLEU Score for Example 39: 1.3726126264098228\n",
      "BLEU Score for Example 40: 6.109144384953947\n",
      "BLEU Score for Example 41: 11.498759556447217\n",
      "BLEU Score for Example 42: 1.2056960387773212\n",
      "BLEU Score for Example 43: 0.8860244438620478\n",
      "BLEU Score for Example 44: 0.7152097120453887\n",
      "BLEU Score for Example 45: 0.0013039321605552532\n",
      "BLEU Score for Example 46: 0.04011259327769745\n",
      "BLEU Score for Example 47: 0.05341063820851356\n",
      "BLEU Score for Example 48: 0.12858242062251357\n",
      "BLEU Score for Example 49: 0.1732461473134624\n",
      "BLEU Score for Example 50: 0.047581238128061656\n",
      "BLEU Score for Example 51: 0.8505186600341572\n",
      "BLEU Score for Example 52: 4.327542280599831\n",
      "BLEU Score for Example 53: 3.982231906397001\n",
      "BLEU Score for Example 54: 0.14781344652245193\n",
      "BLEU Score for Example 55: 1.4121564355680485\n",
      "BLEU Score for Example 56: 0.01303540190457637\n",
      "BLEU Score for Example 57: 0.3762914619963778\n",
      "BLEU Score for Example 58: 0.0065788821473504455\n",
      "BLEU Score for Example 59: 3.197350805297598\n",
      "BLEU Score for Example 60: 1.0581717669949993\n",
      "BLEU Score for Example 61: 6.619729201572463\n",
      "BLEU Score for Example 62: 3.698319037936861\n",
      "BLEU Score for Example 63: 0.009081584149944984\n",
      "BLEU Score for Example 64: 0.00044569564967775806\n",
      "BLEU Score for Example 65: 0.38383946044314105\n",
      "BLEU Score for Example 66: 1.511574422831339\n",
      "BLEU Score for Example 67: 0.24954098573420272\n",
      "BLEU Score for Example 68: 0.010040466129973401\n",
      "BLEU Score for Example 69: 0.7655741049298552\n",
      "BLEU Score for Example 70: 3.9190253473331578\n",
      "BLEU Score for Example 71: 0.0024515424239432344\n",
      "BLEU Score for Example 72: 0.5862279826945211\n",
      "BLEU Score for Example 73: 0.4219046992274298\n",
      "BLEU Score for Example 74: 5.494906577718355\n",
      "BLEU Score for Example 75: 0.19149040066659395\n",
      "BLEU Score for Example 76: 0.1453817472257235\n",
      "BLEU Score for Example 77: 2.131896691298076\n",
      "BLEU Score for Example 78: 0.3245127830492114\n",
      "BLEU Score for Example 79: 0.35866616520048317\n",
      "BLEU Score for Example 80: 3.335227703596312\n",
      "BLEU Score for Example 81: 1.2790862157263532\n",
      "BLEU Score for Example 82: 0.14050715585044565\n",
      "BLEU Score for Example 83: 0.25011071427889925\n",
      "BLEU Score for Example 84: 0.11831464620349884\n",
      "BLEU Score for Example 85: 0.03693341067939789\n",
      "BLEU Score for Example 86: 0.007222176395169851\n",
      "BLEU Score for Example 87: 1.3098259695013386\n",
      "BLEU Score for Example 88: 0.16154182738567674\n",
      "BLEU Score for Example 89: 0.00013242612187376634\n",
      "BLEU Score for Example 90: 0.13457508093636394\n",
      "BLEU Score for Example 91: 1.171731537773934\n",
      "BLEU Score for Example 92: 2.008988588738781\n",
      "BLEU Score for Example 93: 0.2578412097098247\n",
      "BLEU Score for Example 94: 0.10650268259466544\n",
      "BLEU Score for Example 95: 1.1823979151677084\n",
      "BLEU Score for Example 96: 0.6268203245349923\n",
      "BLEU Score for Example 97: 0.1977082092949219\n",
      "BLEU Score for Example 98: 0.3782742336979444\n",
      "BLEU Score for Example 99: 0.11337755472351325\n",
      "BLEU Score for Example 100: 1.9400463867879605\n",
      "BLEU Score for Example 101: 1.1147194998351468\n",
      "BLEU Score for Example 102: 0.039497247335075654\n",
      "BLEU Score for Example 103: 0.2738673313509986\n"
     ]
    }
   ],
   "source": [
    "# Tạo danh sách đầu ra dự đoán của mô hình\n",
    "predictions = [generate_translation(model_finetuning, input_text) for input_text in test_dataset[\"inputs\"]]\n",
    "\n",
    "# Chuyển đổi references và predictions thành định dạng phù hợp với sacrebleu\n",
    "references = [[target] for target in test_dataset[\"targets\"]]  # Mỗi reference là một list của các từ\n",
    "predictions = [target for target in predictions]  # Mỗi prediction là một chuỗi\n",
    "\n",
    "# Tính và lưu BLEU score cho từng cặp câu\n",
    "bleu_model_finetuning = []\n",
    "for i in range(len(predictions)):\n",
    "    reference = references[i]\n",
    "    prediction = predictions[i]\n",
    "\n",
    "    # Tính BLEU score cho cặp câu hiện tại\n",
    "    bleu = sacrebleu.corpus_bleu([prediction], [reference])\n",
    "\n",
    "    # Lưu BLEU score vào danh sách\n",
    "    bleu_model_finetuning.append(bleu.score)\n",
    "\n",
    "    # In kết quả\n",
    "    print(f\"BLEU Score for Example {i + 1}: {bleu.score}\")"
   ]
  },
  {
   "cell_type": "code",
   "execution_count": 35,
   "metadata": {},
   "outputs": [],
   "source": [
    "import numpy as np"
   ]
  },
  {
   "cell_type": "code",
   "execution_count": 37,
   "metadata": {},
   "outputs": [
    {
     "name": "stdout",
     "output_type": "stream",
     "text": [
      "Số lượng giá trị âm: 32\n",
      "Số lượng giá trị dương: 65\n"
     ]
    }
   ],
   "source": [
    "# Chuyển đổi danh sách thành mảng NumPy để thực hiện các phép toán\n",
    "bleu_model_finetuning = np.array(bleu_model_finetuning)\n",
    "bleu_model_pretrained = np.array(bleu_model_pretrained)\n",
    "\n",
    "# Tính giá trị trừ\n",
    "difference = bleu_model_finetuning - bleu_model_pretrained\n",
    "\n",
    "# Đếm số lượng giá trị âm và dương\n",
    "negative_values = np.sum(difference < 0)\n",
    "positive_values = np.sum(difference > 0)\n",
    "\n",
    "print(\"Số lượng giá trị âm:\", negative_values)\n",
    "print(\"Số lượng giá trị dương:\", positive_values)"
   ]
  }
 ],
 "metadata": {
  "kernelspec": {
   "display_name": "Python 3",
   "language": "python",
   "name": "python3"
  },
  "language_info": {
   "codemirror_mode": {
    "name": "ipython",
    "version": 3
   },
   "file_extension": ".py",
   "mimetype": "text/x-python",
   "name": "python",
   "nbconvert_exporter": "python",
   "pygments_lexer": "ipython3",
   "version": "3.11.5"
  }
 },
 "nbformat": 4,
 "nbformat_minor": 2
}
