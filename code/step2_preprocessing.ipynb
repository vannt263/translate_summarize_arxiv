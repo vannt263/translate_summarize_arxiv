{
 "cells": [
  {
   "cell_type": "markdown",
   "metadata": {},
   "source": [
    "### Import thư viện"
   ]
  },
  {
   "cell_type": "code",
   "execution_count": 1,
   "metadata": {},
   "outputs": [],
   "source": [
    "import os\n",
    "import re\n",
    "import json"
   ]
  },
  {
   "cell_type": "code",
   "execution_count": 2,
   "metadata": {},
   "outputs": [],
   "source": [
    "import pandas as pd"
   ]
  },
  {
   "cell_type": "code",
   "execution_count": 3,
   "metadata": {},
   "outputs": [],
   "source": [
    "import spacy\n",
    "# Tải mô hình ngôn ngữ tiếng Anh từ spaCy\n",
    "nlp = spacy.load(\"en_core_web_lg\")"
   ]
  },
  {
   "cell_type": "markdown",
   "metadata": {},
   "source": [
    "---"
   ]
  },
  {
   "cell_type": "markdown",
   "metadata": {},
   "source": [
    "### Đọc và tiền xử lý dữ liệu cho quá trình train mô hình"
   ]
  },
  {
   "cell_type": "code",
   "execution_count": 4,
   "metadata": {},
   "outputs": [],
   "source": [
    "path_folder = \"../data_summarize/\"\n",
    "files = os.listdir(path_folder)"
   ]
  },
  {
   "cell_type": "code",
   "execution_count": 5,
   "metadata": {},
   "outputs": [],
   "source": [
    "data_list = []\n",
    "for file in files:\n",
    "    with open(f\"{path_folder}{file}\", \"r\", encoding=\"utf-8\") as f:\n",
    "        data_list.append(json.load(f))"
   ]
  },
  {
   "cell_type": "code",
   "execution_count": 6,
   "metadata": {},
   "outputs": [],
   "source": [
    "df = pd.DataFrame(data_list, index=range(len(data_list)))"
   ]
  },
  {
   "cell_type": "code",
   "execution_count": 7,
   "metadata": {},
   "outputs": [
    {
     "data": {
      "text/html": [
       "<div>\n",
       "<style scoped>\n",
       "    .dataframe tbody tr th:only-of-type {\n",
       "        vertical-align: middle;\n",
       "    }\n",
       "\n",
       "    .dataframe tbody tr th {\n",
       "        vertical-align: top;\n",
       "    }\n",
       "\n",
       "    .dataframe thead th {\n",
       "        text-align: right;\n",
       "    }\n",
       "</style>\n",
       "<table border=\"1\" class=\"dataframe\">\n",
       "  <thead>\n",
       "    <tr style=\"text-align: right;\">\n",
       "      <th></th>\n",
       "      <th>article</th>\n",
       "      <th>highlights</th>\n",
       "    </tr>\n",
       "  </thead>\n",
       "  <tbody>\n",
       "    <tr>\n",
       "      <th>0</th>\n",
       "      <td>By . Bianca London . She's no stranger to bein...</td>\n",
       "      <td>Coronation Street star tops poll with 39 per c...</td>\n",
       "    </tr>\n",
       "    <tr>\n",
       "      <th>1</th>\n",
       "      <td>By . James Slack, Home Affairs Editor . PUBLIS...</td>\n",
       "      <td>New proposals will mean deportees can only app...</td>\n",
       "    </tr>\n",
       "    <tr>\n",
       "      <th>2</th>\n",
       "      <td>By . Lizzie Parry . John and Corinne Clarkson ...</td>\n",
       "      <td>John and Corinne Clarkson cooked up the 5ft 4i...</td>\n",
       "    </tr>\n",
       "    <tr>\n",
       "      <th>3</th>\n",
       "      <td>December 19, 2014 . CNN Student News is wrappi...</td>\n",
       "      <td>This page includes the show Transcript .Use th...</td>\n",
       "    </tr>\n",
       "    <tr>\n",
       "      <th>4</th>\n",
       "      <td>By . Associated Press . PUBLISHED: . 14:11 EST...</td>\n",
       "      <td>Bishop John Folda, of North Dakota, is taking ...</td>\n",
       "    </tr>\n",
       "    <tr>\n",
       "      <th>...</th>\n",
       "      <td>...</td>\n",
       "      <td>...</td>\n",
       "    </tr>\n",
       "    <tr>\n",
       "      <th>99995</th>\n",
       "      <td>(CNN) -- \"I learned that courage was not the a...</td>\n",
       "      <td>Kevin-Prince Boateng's walk-off protest marked...</td>\n",
       "    </tr>\n",
       "    <tr>\n",
       "      <th>99996</th>\n",
       "      <td>By . Daily Mail Reporter . PUBLISHED: . 09:33 ...</td>\n",
       "      <td>The teacher at Hyatt Elementary School in Lind...</td>\n",
       "    </tr>\n",
       "    <tr>\n",
       "      <th>99997</th>\n",
       "      <td>Spurs still so far from the top four . It was ...</td>\n",
       "      <td>Tottenham were thrashed by Manchester City onc...</td>\n",
       "    </tr>\n",
       "    <tr>\n",
       "      <th>99998</th>\n",
       "      <td>By . Daily Mail Reporter . PUBLISHED: . 13:19 ...</td>\n",
       "      <td>Speedway coach Michael Green, 71, jailed for n...</td>\n",
       "    </tr>\n",
       "    <tr>\n",
       "      <th>99999</th>\n",
       "      <td>Google has launched an underwater 'street view...</td>\n",
       "      <td>Google Maps underwater street view launched on...</td>\n",
       "    </tr>\n",
       "  </tbody>\n",
       "</table>\n",
       "<p>100000 rows × 2 columns</p>\n",
       "</div>"
      ],
      "text/plain": [
       "                                                 article  \\\n",
       "0      By . Bianca London . She's no stranger to bein...   \n",
       "1      By . James Slack, Home Affairs Editor . PUBLIS...   \n",
       "2      By . Lizzie Parry . John and Corinne Clarkson ...   \n",
       "3      December 19, 2014 . CNN Student News is wrappi...   \n",
       "4      By . Associated Press . PUBLISHED: . 14:11 EST...   \n",
       "...                                                  ...   \n",
       "99995  (CNN) -- \"I learned that courage was not the a...   \n",
       "99996  By . Daily Mail Reporter . PUBLISHED: . 09:33 ...   \n",
       "99997  Spurs still so far from the top four . It was ...   \n",
       "99998  By . Daily Mail Reporter . PUBLISHED: . 13:19 ...   \n",
       "99999  Google has launched an underwater 'street view...   \n",
       "\n",
       "                                              highlights  \n",
       "0      Coronation Street star tops poll with 39 per c...  \n",
       "1      New proposals will mean deportees can only app...  \n",
       "2      John and Corinne Clarkson cooked up the 5ft 4i...  \n",
       "3      This page includes the show Transcript .Use th...  \n",
       "4      Bishop John Folda, of North Dakota, is taking ...  \n",
       "...                                                  ...  \n",
       "99995  Kevin-Prince Boateng's walk-off protest marked...  \n",
       "99996  The teacher at Hyatt Elementary School in Lind...  \n",
       "99997  Tottenham were thrashed by Manchester City onc...  \n",
       "99998  Speedway coach Michael Green, 71, jailed for n...  \n",
       "99999  Google Maps underwater street view launched on...  \n",
       "\n",
       "[100000 rows x 2 columns]"
      ]
     },
     "execution_count": 7,
     "metadata": {},
     "output_type": "execute_result"
    }
   ],
   "source": [
    "df"
   ]
  },
  {
   "cell_type": "code",
   "execution_count": 5,
   "metadata": {},
   "outputs": [],
   "source": [
    "# Biểu thức chính quy để xác định các ký tự đặc biệt nằm giữa hai số\n",
    "pattern = r'(?<!\\d)[^\\w\\s%](?!\\d)'\n",
    "\n",
    "def preprocessing(sentence, type=None):\n",
    "\n",
    "    # loại bỏ một số thẻ HTML nếu còn tồn tại\n",
    "    clean_text = re.sub(r'https?:\\/\\/.*[\\r\\n]*', '', sentence, flags=re.MULTILINE)\n",
    "    clean_text= re.sub(r'\\<a href', ' ', clean_text)\n",
    "    clean_text = re.sub(r'&amp;', '', clean_text) \n",
    "    clean_text = re.sub(r'<br />', ' ', clean_text)\n",
    "    clean_text = re.sub(r'\\\\\"', ' ', clean_text)\n",
    "\n",
    "    doc = nlp(sentence)\n",
    "    lemmatized_text = \" \".join([token.lemma_ for token in doc if not token.is_stop]).lower().strip()\n",
    "\n",
    "    # Xóa các ký tự đặc biệt không thuộc trường hợp đã nêu\n",
    "    lemmatized_text = re.sub(fr'(?<!\\d)[^a-zA-Z0-9\\s]|[^a-zA-Z0-9\\s%](?!\\d)|{pattern}', '', lemmatized_text)\n",
    "    lemmatized_text = re.sub(r'\\s+', ' ', lemmatized_text)\n",
    "\n",
    "    if type == \"summary\":\n",
    "        return \"<sostok> \" + lemmatized_text + \" <eostok>\"\n",
    "    return lemmatized_text"
   ]
  },
  {
   "cell_type": "code",
   "execution_count": 11,
   "metadata": {},
   "outputs": [],
   "source": [
    "df['article'] = df['article'].apply(preprocessing)\n",
    "df['highlights'] = df['highlights'].apply(preprocessing, type=\"summary\")"
   ]
  },
  {
   "cell_type": "code",
   "execution_count": 8,
   "metadata": {},
   "outputs": [],
   "source": [
    "df.to_csv(\"../../data.csv\", index=False)"
   ]
  },
  {
   "cell_type": "markdown",
   "metadata": {},
   "source": [
    "---"
   ]
  },
  {
   "cell_type": "markdown",
   "metadata": {},
   "source": [
    "Quá trình train mô hình Tóm Tắt được mô tả kỹ ở hai link dưới đây:\n",
    "- https://www.kaggle.com/code/vannguyenthi/text-summarization-with-seq2seq-model\n",
    "- "
   ]
  }
 ],
 "metadata": {
  "kernelspec": {
   "display_name": "Python 3",
   "language": "python",
   "name": "python3"
  },
  "language_info": {
   "codemirror_mode": {
    "name": "ipython",
    "version": 3
   },
   "file_extension": ".py",
   "mimetype": "text/x-python",
   "name": "python",
   "nbconvert_exporter": "python",
   "pygments_lexer": "ipython3",
   "version": "3.11.5"
  }
 },
 "nbformat": 4,
 "nbformat_minor": 2
}
